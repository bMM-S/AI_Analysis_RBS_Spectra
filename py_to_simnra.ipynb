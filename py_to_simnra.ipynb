{
 "cells": [
  {
   "cell_type": "markdown",
   "metadata": {},
   "source": [
    "# Imports"
   ]
  },
  {
   "cell_type": "code",
   "execution_count": 1,
   "metadata": {},
   "outputs": [],
   "source": [
    "import win32com.client\n",
    "import numpy as np\n",
    "import time\n",
    "import os\n",
    "from IPython.display import display, Javascript\n",
    "from IPython import get_ipython"
   ]
  },
  {
   "cell_type": "markdown",
   "metadata": {},
   "source": [
    "# OLE Python-Simrna\n",
    "This section was designed to perform tests and understand how to connect Python with Simnra. Each code cell does one thing, and if all cells are executed, it should perform right. For obvious reasons, there is a need to design a script which generates multiple spectra automatically, since this ipynb file needs to be run cell by cell. To execute it automatically, check the last Section"
   ]
  },
  {
   "cell_type": "markdown",
   "metadata": {},
   "source": [
    "## Simnra.App"
   ]
  },
  {
   "cell_type": "markdown",
   "metadata": {},
   "source": [
    "### App initialization"
   ]
  },
  {
   "cell_type": "code",
   "execution_count": null,
   "metadata": {},
   "outputs": [],
   "source": [
    "application = win32com.client.Dispatch('Simnra.App')\n",
    "#application.Reset()\n",
    "application.Show()"
   ]
  },
  {
   "cell_type": "code",
   "execution_count": null,
   "metadata": {},
   "outputs": [],
   "source": [
    "print('Simrna version: '+application.Version)"
   ]
  },
  {
   "cell_type": "markdown",
   "metadata": {},
   "source": [
    "## Simnra.Setup"
   ]
  },
  {
   "cell_type": "markdown",
   "metadata": {},
   "source": [
    "### Setup initialization"
   ]
  },
  {
   "cell_type": "code",
   "execution_count": null,
   "metadata": {},
   "outputs": [],
   "source": [
    "setup = win32com.client.Dispatch('Simnra.Setup')"
   ]
  },
  {
   "cell_type": "markdown",
   "metadata": {},
   "source": [
    "### Setup settings"
   ]
  },
  {
   "cell_type": "code",
   "execution_count": null,
   "metadata": {},
   "outputs": [],
   "source": [
    "setup.Alpha = np.random.uniform(0,5) #incident angle\n",
    "time.sleep(0.5)\n",
    "setup.Energy = np.random.uniform(1400,2000) #beam energy\n",
    "time.sleep(0.5)\n",
    "setup.Theta = np.random.uniform(135,165) #exit angle"
   ]
  },
  {
   "cell_type": "code",
   "execution_count": null,
   "metadata": {},
   "outputs": [],
   "source": [
    "print('Incident angle \\u03B1 (deg): '+str(setup.Alpha))\n",
    "print('Energy (keV): '+str(setup.Energy))\n",
    "print('Scattering angle \\u03B8 (deg): '+str(setup.Theta))"
   ]
  },
  {
   "cell_type": "markdown",
   "metadata": {},
   "source": [
    "## Simnra.Target"
   ]
  },
  {
   "cell_type": "markdown",
   "metadata": {},
   "source": [
    "### Target initialization\n"
   ]
  },
  {
   "cell_type": "code",
   "execution_count": null,
   "metadata": {},
   "outputs": [],
   "source": [
    "target = win32com.client.Dispatch('Simnra.Target')"
   ]
  },
  {
   "cell_type": "markdown",
   "metadata": {},
   "source": [
    "### Target settings"
   ]
  },
  {
   "cell_type": "code",
   "execution_count": null,
   "metadata": {},
   "outputs": [],
   "source": [
    "listofelements= [\"Ge\",\"Si\",\"Au\"] #to be completed\n",
    "element = np.random.choice(listofelements)\n",
    "thick = np.random.uniform(100,500)\n",
    "print('Element: ' +str(element))\n",
    "print('Thickness: '+str(thick))"
   ]
  },
  {
   "cell_type": "code",
   "execution_count": null,
   "metadata": {},
   "outputs": [],
   "source": [
    "#ensure that the target only has 1 layer\n",
    "target.DeleteAllLayer()\n",
    "time.sleep(0.25)\n",
    "for i in range(target.TotalNumberOfElements):\n",
    "    target.DeleteElement(1,i)\n",
    "    time.sleep(0.25)\n",
    "target.AddLayer()\n",
    "time.sleep(0.5)\n",
    "target.SetLayerThickness(1,thick) #set layer thickness\n",
    "time.sleep(0.5)\n",
    "target.AddElement(1) #add element (element has to be defined)\n",
    "time.sleep(0.5)\n",
    "target.SetElementName(1,1,element) #set element name\n",
    "time.sleep(0.5)\n",
    "target.SetElementConcentration(1,1,1) #set element concentration"
   ]
  },
  {
   "cell_type": "code",
   "execution_count": null,
   "metadata": {},
   "outputs": [],
   "source": [
    "print('Number of layers: '+ str(target.NumberOfLayers))\n",
    "print('Number of elements: '+ str(target.TotalNumberOfElements))\n",
    "print('Elements present: '+str([target.ElementName(1,i+1) for i in range(target.TotalNumberOfElements)]))\n",
    "print('Concentration of elements: '+str([(target.ElementName(1,i+1),target.GetElementConcentration(1,i+1)) for i in range(target.TotalNumberOfElements)]))\n",
    "print('Target thickness: '+str(target.Thickness))"
   ]
  },
  {
   "cell_type": "markdown",
   "metadata": {},
   "source": [
    "### Target reset (if needed)"
   ]
  },
  {
   "cell_type": "code",
   "execution_count": null,
   "metadata": {},
   "outputs": [],
   "source": [
    "target.DeleteAllLayer()\n",
    "for i in range(target.TotalNumberOfElements):\n",
    "    target.DeleteElement(1,i)\n",
    "target.AddLayer()"
   ]
  },
  {
   "cell_type": "markdown",
   "metadata": {},
   "source": [
    "## Simnra.CrossSec"
   ]
  },
  {
   "cell_type": "markdown",
   "metadata": {},
   "source": [
    "### Cross Section initialization"
   ]
  },
  {
   "cell_type": "code",
   "execution_count": null,
   "metadata": {},
   "outputs": [],
   "source": [
    "crosssection = win32com.client.Dispatch('Simnra.CrossSec')"
   ]
  },
  {
   "cell_type": "markdown",
   "metadata": {},
   "source": [
    "### Cross Section settings"
   ]
  },
  {
   "cell_type": "code",
   "execution_count": null,
   "metadata": {},
   "outputs": [],
   "source": [
    "crosssection.SelectRutherfordAll()\n",
    "crosssection.SetEmin(1,0.001)\n",
    "crosssection.SetEMax(1,4999.999)"
   ]
  },
  {
   "cell_type": "code",
   "execution_count": null,
   "metadata": {},
   "outputs": [],
   "source": [
    "print('CrossSection choosen: '+ str(crosssection.ReactionsChoosen))\n",
    "print('Number of available cross-section data sets: '+ str(crosssection.Count))"
   ]
  },
  {
   "cell_type": "markdown",
   "metadata": {},
   "source": [
    "## Simnra.Spectrum"
   ]
  },
  {
   "cell_type": "markdown",
   "metadata": {},
   "source": [
    "### Spectrum initialization"
   ]
  },
  {
   "cell_type": "code",
   "execution_count": null,
   "metadata": {},
   "outputs": [],
   "source": [
    "spectrum = win32com.client.Dispatch('Simnra.Spectrum')"
   ]
  },
  {
   "cell_type": "markdown",
   "metadata": {},
   "source": [
    "### Spectrum settings"
   ]
  },
  {
   "cell_type": "markdown",
   "metadata": {},
   "source": [
    "## Calculate Spectra"
   ]
  },
  {
   "cell_type": "code",
   "execution_count": null,
   "metadata": {},
   "outputs": [],
   "source": [
    "application.CalculateSpectrum()"
   ]
  },
  {
   "cell_type": "markdown",
   "metadata": {},
   "source": [
    "## Data exporting"
   ]
  },
  {
   "cell_type": "code",
   "execution_count": null,
   "metadata": {},
   "outputs": [],
   "source": [
    "spectra_data=[]\n",
    "labels_data=[]"
   ]
  },
  {
   "cell_type": "code",
   "execution_count": null,
   "metadata": {},
   "outputs": [],
   "source": [
    "data=spectrum.GetDataArray(2)\n",
    "data=list(data)\n",
    "spectra_data.append(data)\n",
    "aux=[]\n",
    "aux=[setup.Alpha,setup.Energy,setup.Theta,target.Thickness,[list((target.ElementName(1,i+1),target.GetElementConcentration(1,i+1))) for i in range(target.TotalNumberOfElements)]]\n",
    "labels_data.append(aux)"
   ]
  },
  {
   "cell_type": "code",
   "execution_count": null,
   "metadata": {},
   "outputs": [],
   "source": [
    "data = 'spectra_data.txt'\n",
    "labels = 'labels_data.txt'\n",
    "with open(data, 'w') as file:\n",
    "    list_as_string = '\\n'.join(map(str, spectra_data))\n",
    "    file.write(list_as_string)\n",
    "with open(labels, 'w') as file:\n",
    "    list_as_string = '\\n'.join(map(str, labels_data))\n",
    "    file.write(list_as_string)"
   ]
  },
  {
   "cell_type": "markdown",
   "metadata": {},
   "source": [
    "## Reset objects"
   ]
  },
  {
   "cell_type": "markdown",
   "metadata": {},
   "source": [
    "This is just an idea of how it might be possible to have only one instance of the SIMNRA running for all the spectra generation instead of one instance of the SIMNRA for each spectra generation"
   ]
  },
  {
   "cell_type": "code",
   "execution_count": null,
   "metadata": {},
   "outputs": [],
   "source": [
    "setup,target,spectrum,crosssection = None,None,None,None"
   ]
  },
  {
   "cell_type": "markdown",
   "metadata": {},
   "source": [
    "# Automatically Spectra Generation\n",
    "**Note:** don't forget to run the cell that contains all the imports necessary in order to run the code, located in the first Section \"Imports\"."
   ]
  },
  {
   "cell_type": "markdown",
   "metadata": {},
   "source": [
    "Generate .txt files where the data will be stored and initialize lists for further use.\n",
    "\n",
    "**Caution:** running this will overwrite the data.txt and labels.txt files, which can lead into losing all the spectra data!"
   ]
  },
  {
   "cell_type": "code",
   "execution_count": 19,
   "metadata": {},
   "outputs": [],
   "source": [
    "f= open('labels.txt', 'w')\n",
    "f= open('data.txt', 'w')"
   ]
  },
  {
   "cell_type": "markdown",
   "metadata": {},
   "source": [
    "## Code"
   ]
  },
  {
   "cell_type": "code",
   "execution_count": 20,
   "metadata": {},
   "outputs": [],
   "source": [
    "def calculate_spectra(iterations,element,thickness,alpha,energy,theta):\n",
    "\n",
    "    for _ in range(iterations):\n",
    "        #start simnra\n",
    "\n",
    "        application = win32com.client.Dispatch('Simnra.App')\n",
    "        application.Show()\n",
    "\n",
    "        #################################################################\n",
    "\n",
    "        #start setup\n",
    "\n",
    "        time.sleep(2)\n",
    "        setup = win32com.client.Dispatch('Simnra.Setup')\n",
    "\n",
    "        #setup settings\n",
    "\n",
    "        time.sleep(0.25)\n",
    "        setup.Alpha = alpha #incident angle\n",
    "\n",
    "        time.sleep(0.25)\n",
    "        setup.Energy = energy #beam energy\n",
    "\n",
    "        time.sleep(0.25)\n",
    "        setup.Theta = theta #exit angle\n",
    "\n",
    "\n",
    "        print('Incident angle \\u03B1 (deg): '+str(setup.Alpha))\n",
    "        print('Energy (keV): '+str(setup.Energy))\n",
    "        print('Scattering angle \\u03B8 (deg): '+str(setup.Theta))\n",
    "        print()\n",
    "\n",
    "        #################################################################\n",
    "\n",
    "        #start target\n",
    "\n",
    "        target = win32com.client.Dispatch('Simnra.Target')\n",
    "\n",
    "        #target settings\n",
    "\n",
    "        #ensure that the target only has 1 layer\n",
    "\n",
    "        target.DeleteAllLayer()\n",
    "        time.sleep(0.25)\n",
    "        for i in range(target.TotalNumberOfElements):\n",
    "            target.DeleteElement(1,i)\n",
    "            time.sleep(0.25)\n",
    "        target.AddLayer()\n",
    "        time.sleep(0.5)\n",
    "\n",
    "        #layer settings\n",
    "\n",
    "        target.SetLayerThickness(1,thickness) #set layer thickness\n",
    "        time.sleep(0.4)\n",
    "        target.AddElement(1) #add empty element\n",
    "        time.sleep(0.4)\n",
    "        target.SetElementName(1,1,element) #set element name\n",
    "        time.sleep(0.4)\n",
    "        target.SetElementConcentration(1,1,1) #set element concentration\n",
    "\n",
    "\n",
    "        print('Number of layers: '+ str(target.NumberOfLayers))\n",
    "        print('Number of elements: '+ str(target.TotalNumberOfElements))\n",
    "        print('Elements present: '+str([target.ElementName(1,i+1) for i in range(target.TotalNumberOfElements)]))\n",
    "        print('Concentration of elements: '+str([(target.ElementName(1,i+1),target.GetElementConcentration(1,i+1)) for i in range(target.TotalNumberOfElements)]))\n",
    "        print('Target thickness: '+str(target.Thickness))\n",
    "        print()\n",
    "\n",
    "        #################################################################\n",
    "\n",
    "        #start cross section\n",
    "\n",
    "        crosssection = win32com.client.Dispatch('Simnra.CrossSec')\n",
    "\n",
    "        #cross section settings\n",
    "\n",
    "        time.sleep(0.5)\n",
    "        crosssection.SelectRutherfordAll()\n",
    "\n",
    "        time.sleep(0.5)\n",
    "        crosssection.SetEmin(1,0.001)\n",
    "        crosssection.SetEMax(1,4999.999)\n",
    "\n",
    "\n",
    "        print('CrossSection choosen: '+ str(crosssection.ReactionsChoosen))\n",
    "        print('Number of available cross-section data sets: '+ str(crosssection.Count))\n",
    "\n",
    "        #################################################################\n",
    "\n",
    "        #start spectrum\n",
    "\n",
    "        spectrum = win32com.client.Dispatch('Simnra.Spectrum')\n",
    "\n",
    "        #calculate spectrum\n",
    "\n",
    "        application.CalculateSpectrum()\n",
    "\n",
    "\n",
    "        #data exporting\n",
    "\n",
    "        datalist=list(spectrum.GetDataArray(2))\n",
    "        labelslist=[setup.Alpha,setup.Energy,setup.Theta,target.Thickness,[list((target.ElementName(1,i+1),target.GetElementConcentration(1,i+1))) for i in range(target.TotalNumberOfElements)]]\n",
    "\n",
    "\n",
    "        with open('data.txt', 'a') as file:\n",
    "            list_as_string = ' '.join(map(str, datalist))\n",
    "            file.write(list_as_string)\n",
    "            file.write('\\n')\n",
    "        with open('labels.txt', 'a') as file:\n",
    "            list_as_string = ' '.join(map(str, labelslist))\n",
    "            file.write(list_as_string)\n",
    "            file.write('\\n')\n",
    "\n",
    "        thickness+=50\n",
    "        if thickness>500:\n",
    "            break\n",
    "        print()\n",
    "        print()\n",
    "        print()\n",
    "        print()\n",
    "        print()"
   ]
  },
  {
   "cell_type": "code",
   "execution_count": 6,
   "metadata": {},
   "outputs": [],
   "source": [
    "alpha = np.random.uniform(0,5) #incident angle\n",
    "energy = np.random.uniform(1400,2000) #beam energy\n",
    "theta = np.random.uniform(135,165) #exit angle\n",
    "listofelements= [\"Ge\",\"Si\",\"Au\"] #list of elements\n",
    "element = np.random.choice(listofelements) #pick an element\n",
    "thickness = np.random.uniform(100,500) #layer thickness"
   ]
  },
  {
   "cell_type": "code",
   "execution_count": 21,
   "metadata": {},
   "outputs": [
    {
     "name": "stdout",
     "output_type": "stream",
     "text": [
      "Incident angle α (deg): 2.0\n",
      "Energy (keV): 1800.0\n",
      "Scattering angle θ (deg): 150.0\n",
      "\n",
      "Number of layers: 1\n",
      "Number of elements: 1\n",
      "Elements present: ['Ge']\n",
      "Concentration of elements: [('Ge', 1.0)]\n",
      "Target thickness: 100.0\n",
      "\n",
      "CrossSection choosen: True\n",
      "Number of available cross-section data sets: 16\n",
      "\n",
      "\n",
      "\n",
      "\n",
      "\n",
      "Incident angle α (deg): 2.0\n",
      "Energy (keV): 1800.0\n",
      "Scattering angle θ (deg): 150.0\n",
      "\n",
      "Number of layers: 1\n",
      "Number of elements: 1\n",
      "Elements present: ['Ge']\n",
      "Concentration of elements: [('Ge', 1.0)]\n",
      "Target thickness: 150.0\n",
      "\n",
      "CrossSection choosen: True\n",
      "Number of available cross-section data sets: 16\n",
      "\n",
      "\n",
      "\n",
      "\n",
      "\n",
      "Incident angle α (deg): 2.0\n",
      "Energy (keV): 1800.0\n",
      "Scattering angle θ (deg): 150.0\n",
      "\n",
      "Number of layers: 1\n",
      "Number of elements: 1\n",
      "Elements present: ['Ge']\n",
      "Concentration of elements: [('Ge', 1.0)]\n",
      "Target thickness: 200.0\n",
      "\n",
      "CrossSection choosen: True\n",
      "Number of available cross-section data sets: 16\n",
      "\n",
      "\n",
      "\n",
      "\n",
      "\n",
      "Incident angle α (deg): 2.0\n",
      "Energy (keV): 1800.0\n",
      "Scattering angle θ (deg): 150.0\n",
      "\n",
      "Number of layers: 1\n",
      "Number of elements: 1\n",
      "Elements present: ['Ge']\n",
      "Concentration of elements: [('Ge', 1.0)]\n",
      "Target thickness: 250.0\n",
      "\n",
      "CrossSection choosen: True\n",
      "Number of available cross-section data sets: 16\n",
      "\n",
      "\n",
      "\n",
      "\n",
      "\n",
      "Incident angle α (deg): 2.0\n",
      "Energy (keV): 1800.0\n",
      "Scattering angle θ (deg): 150.0\n",
      "\n",
      "Number of layers: 1\n",
      "Number of elements: 1\n",
      "Elements present: ['Ge']\n",
      "Concentration of elements: [('Ge', 1.0)]\n",
      "Target thickness: 300.0\n",
      "\n",
      "CrossSection choosen: True\n",
      "Number of available cross-section data sets: 16\n",
      "\n",
      "\n",
      "\n",
      "\n",
      "\n",
      "Incident angle α (deg): 2.0\n",
      "Energy (keV): 1800.0\n",
      "Scattering angle θ (deg): 150.0\n",
      "\n",
      "Number of layers: 1\n",
      "Number of elements: 1\n",
      "Elements present: ['Ge']\n",
      "Concentration of elements: [('Ge', 1.0)]\n",
      "Target thickness: 350.0\n",
      "\n",
      "CrossSection choosen: True\n",
      "Number of available cross-section data sets: 16\n",
      "\n",
      "\n",
      "\n",
      "\n",
      "\n",
      "Incident angle α (deg): 2.0\n",
      "Energy (keV): 1800.0\n",
      "Scattering angle θ (deg): 150.0\n",
      "\n",
      "Number of layers: 1\n",
      "Number of elements: 1\n",
      "Elements present: ['Ge']\n",
      "Concentration of elements: [('Ge', 1.0)]\n",
      "Target thickness: 400.0\n",
      "\n",
      "CrossSection choosen: True\n",
      "Number of available cross-section data sets: 16\n",
      "\n",
      "\n",
      "\n",
      "\n",
      "\n",
      "Incident angle α (deg): 2.0\n",
      "Energy (keV): 1800.0\n",
      "Scattering angle θ (deg): 150.0\n",
      "\n",
      "Number of layers: 1\n",
      "Number of elements: 1\n",
      "Elements present: ['Ge']\n",
      "Concentration of elements: [('Ge', 1.0)]\n",
      "Target thickness: 450.0\n",
      "\n",
      "CrossSection choosen: True\n",
      "Number of available cross-section data sets: 16\n",
      "\n",
      "\n",
      "\n",
      "\n",
      "\n",
      "Incident angle α (deg): 2.0\n",
      "Energy (keV): 1800.0\n",
      "Scattering angle θ (deg): 150.0\n",
      "\n",
      "Number of layers: 1\n",
      "Number of elements: 1\n",
      "Elements present: ['Ge']\n",
      "Concentration of elements: [('Ge', 1.0)]\n",
      "Target thickness: 500.0\n",
      "\n",
      "CrossSection choosen: True\n",
      "Number of available cross-section data sets: 16\n"
     ]
    }
   ],
   "source": [
    "calculate_spectra(iterations=10,\n",
    "                  element='Ge',\n",
    "                  thickness=100,\n",
    "                  alpha=2,\n",
    "                  energy=1800,\n",
    "                  theta=150)"
   ]
  },
  {
   "cell_type": "code",
   "execution_count": null,
   "metadata": {},
   "outputs": [],
   "source": [
    "calculate_spectra(iterations=5,\n",
    "                  element=element,\n",
    "                  thickness=thickness,\n",
    "                  alpha=alpha,\n",
    "                  energy=energy,\n",
    "                  theta=theta)"
   ]
  },
  {
   "cell_type": "code",
   "execution_count": 14,
   "metadata": {},
   "outputs": [
    {
     "name": "stdout",
     "output_type": "stream",
     "text": [
      "[[0.0, 0.0, 0.0, 0.0, 0.0, 0.0, 0.0, 0.0, 0.0, 0.0, 0.0, 0.0, 0.0, 0.0, 0.0, 0.0, 0.0, 0.0, 0.0, 0.0, 0.0, 0.0, 0.0, 0.0, 0.0, 0.0, 0.0, 0.0, 0.0, 0.0, 0.0, 0.0, 0.0, 0.0, 0.0, 0.0, 0.0, 0.0, 0.0, 0.0, 0.0, 0.0, 0.0, 0.0, 0.0, 0.0, 0.0, 0.0, 0.0, 0.0, 0.0, 0.0, 0.0, 0.0, 0.0, 0.0, 0.0, 0.0, 0.0, 0.0, 0.0, 0.0, 0.0, 0.0, 0.0, 0.0, 0.0, 0.0, 0.0, 0.0, 0.0, 0.0, 0.0, 0.0, 0.0, 0.0, 0.0, 0.0, 0.0, 0.0, 0.0, 0.0, 0.0, 0.0, 0.0, 0.0, 0.0, 0.0, 0.0, 0.0, 0.0, 0.0, 0.0, 0.0, 0.0, 0.0, 0.0, 0.0, 0.0, 0.0, 0.0, 0.0, 0.0, 0.0, 0.0, 0.0, 0.0, 0.0, 0.0, 0.0, 0.0, 0.0, 0.0, 0.0, 0.0, 0.0, 0.0, 0.0, 0.0, 0.0, 0.0, 0.0, 0.0, 0.0, 0.0, 0.0, 0.0, 0.0, 0.0, 0.0, 0.0, 0.0, 0.0, 0.0, 0.0, 0.0, 0.0, 0.0, 0.0, 0.0, 0.0, 0.0, 0.0, 0.0, 0.0, 0.0, 0.0, 0.0, 0.0, 0.0, 0.0, 0.0, 0.0, 0.0, 0.0, 0.0, 0.0, 0.0, 0.0, 0.0, 0.0, 0.0, 0.0, 0.0, 0.0, 0.0, 0.0, 0.0, 0.0, 0.0, 0.0, 0.0, 0.0, 0.0, 0.0, 0.0, 0.0, 0.0, 0.0, 0.0, 0.0, 0.0, 0.0, 0.0, 0.0, 0.0, 0.0, 0.0, 0.0, 0.0, 0.0, 0.0, 0.0, 0.0, 0.0, 0.0, 0.0, 0.0, 0.0, 0.0, 0.0, 0.0, 0.0, 0.0, 0.0, 0.0, 0.0, 0.0, 0.0, 0.0, 0.0, 0.0, 0.0, 0.0, 0.0, 0.0, 0.0, 0.0, 0.0, 0.0, 0.0, 0.0, 0.0, 0.0, 0.0, 0.0, 0.0, 0.0, 0.0, 0.0, 0.0, 0.0, 0.0, 0.0, 0.0, 0.0, 0.0, 0.0, 0.0, 0.0, 0.0, 0.0, 0.0, 0.0, 0.0, 0.0, 0.0, 0.0, 0.0, 0.0, 0.0, 0.0, 0.0, 0.0, 0.0, 0.0, 0.0, 0.0, 0.0, 0.0, 0.0, 0.0, 0.0, 0.0, 0.0, 0.0, 0.0, 0.0, 0.0, 0.0, 0.0, 0.0, 0.0, 0.0, 0.0, 0.0, 0.0, 0.0, 0.0, 0.0, 0.0, 0.0, 0.0, 0.0, 0.0, 0.0, 0.0, 0.0, 0.0, 0.0, 0.0, 0.0, 0.0, 0.0, 0.0, 0.0, 0.0, 0.0, 0.0, 0.0, 0.0, 0.0, 0.0, 0.0, 0.0, 0.0, 0.0, 0.0, 0.0, 0.0, 0.0, 0.0, 0.0, 0.0, 0.0, 0.0, 0.0, 0.0, 0.0, 0.0, 0.0, 0.0, 0.0, 0.0, 0.0, 0.0, 0.0, 0.0, 0.0, 0.0, 0.0, 0.0, 0.0, 0.0, 0.0, 0.0, 0.0, 0.0, 0.0, 0.0, 0.0, 0.0, 0.0, 0.0, 0.0, 0.0, 0.0, 0.0, 0.0, 0.0, 0.0, 0.0, 0.0, 0.0, 0.0, 0.0, 0.0, 0.0, 0.0, 0.0, 0.0, 0.0, 0.0, 0.0, 0.0, 0.0, 0.0, 0.0, 0.0, 0.0, 0.0, 0.0, 0.0, 0.0, 0.0, 0.0, 0.0, 0.0, 0.0, 0.0, 0.0, 0.0, 0.0, 0.0, 0.0, 0.0, 0.0, 0.0, 0.0, 0.0, 0.0, 0.0, 0.0, 0.0, 0.0, 0.0, 0.0, 0.0, 0.0, 0.0, 0.0, 0.0, 0.0, 0.0, 0.0, 0.0, 0.0, 0.0, 0.0, 0.0, 0.0, 0.0, 0.0, 0.0, 0.0, 0.0, 0.0, 0.0, 0.0, 0.0, 0.0, 0.0, 0.0, 0.0, 0.0, 0.0, 0.0, 0.0, 0.0, 0.0, 0.0, 0.0, 0.0, 0.0, 0.0, 0.0, 0.0, 0.0, 0.0, 0.0, 0.0, 0.0, 0.0, 0.0, 0.0, 0.0, 0.0, 0.0, 0.0, 0.0, 0.0, 0.0, 0.0, 0.0, 0.0, 0.0, 0.0, 0.0, 0.0, 0.0, 0.0, 0.0, 0.0, 0.0, 0.0, 0.0, 0.0, 0.0, 0.0, 0.0, 0.0, 0.0, 0.0, 0.0, 0.0, 0.0, 0.0, 0.0, 0.0, 0.0, 0.0, 0.0, 0.0, 0.0, 0.0, 0.0, 0.0, 0.0, 0.0, 0.0, 0.0, 0.0, 0.0, 0.0, 0.0, 0.0, 0.0, 0.0, 0.0, 0.0, 0.0, 0.0, 0.0, 0.0, 0.0, 0.0, 0.0, 0.0, 0.0, 0.0, 0.0, 0.0, 0.0, 0.0, 0.0, 0.0, 0.0, 0.0, 0.0, 0.0, 0.0, 0.0, 0.0, 0.0, 0.0, 0.0, 0.0, 0.0, 0.0, 0.0, 0.0, 0.0, 0.0, 0.0, 0.0, 0.0, 0.0, 0.0, 0.0, 0.0, 0.0, 0.0, 0.0, 0.0, 0.0, 0.0, 0.0, 0.0, 0.0, 0.0, 0.0, 0.0, 0.0, 0.0, 0.0, 0.0, 0.0, 0.0, 0.0, 0.0, 0.0, 0.0, 0.0, 0.0, 0.0, 0.0, 0.0, 0.0, 0.0, 0.0, 0.0, 0.0, 0.0, 0.0, 0.0, 0.0, 0.0, 0.0, 0.0, 0.0, 0.0, 0.0, 0.0, 0.0, 0.0, 0.0, 0.0, 0.0, 0.0, 0.0, 0.0, 0.0, 0.0, 0.0, 0.0, 0.0, 0.0, 0.0, 0.0, 0.0, 0.0, 0.0, 0.0, 0.0, 0.0, 0.0, 0.0, 0.0, 0.0, 0.0, 0.0, 0.0, 0.0, 0.0, 0.0, 0.0, 0.0, 0.0, 0.0, 0.0, 0.0, 0.0, 0.0, 0.0, 0.0, 0.0, 0.0, 0.0, 0.0, 0.0, 0.0, 0.0, 0.0, 0.0, 0.0, 0.0, 0.0, 0.0, 0.0, 0.0, 0.0, 0.0, 0.0, 0.0, 0.0, 0.0, 0.0, 0.0, 0.0, 0.0, 0.0, 0.0, 0.0, 0.0, 0.0, 0.0, 0.0, 0.0, 0.0, 0.0, 0.0, 0.0, 0.0, 0.0, 0.0, 0.0, 0.0, 0.0, 0.0, 0.0, 0.0, 0.0, 0.0, 0.0, 0.0, 0.0, 0.0, 0.0, 0.0, 0.0, 0.0, 0.0, 0.0, 0.0, 0.0, 0.0, 0.0, 0.0, 0.0, 0.0, 0.0, 0.0, 0.0, 0.0, 0.0, 0.0, 0.0, 0.0, 0.0, 0.0, 0.0, 0.0, 0.0, 0.0, 0.0, 0.0, 0.0, 0.0, 0.0, 0.0, 0.0, 0.0, 0.0, 0.0, 0.0, 0.0, 0.0, 0.0, 0.0, 0.0, 0.0, 0.0, 0.0, 0.0, 0.0, 0.0, 0.0, 0.0, 0.0, 0.0, 0.0, 0.0, 0.0, 0.0, 0.0, 0.0, 0.0, 0.0, 0.0, 0.0, 0.0, 0.0, 0.0, 0.0, 0.0, 0.0, 0.0, 0.0, 0.0, 0.0, 0.0, 0.0, 0.0, 0.0, 0.0, 0.0, 0.0, 0.0, 0.0, 0.0, 0.0, 0.0, 0.0, 0.0, 0.0, 0.0, 0.0, 0.0, 0.0, 0.0, 0.0, 0.0, 0.0, 0.0, 0.0, 0.0, 0.0, 0.0, 0.0, 0.0, 0.0, 0.0, 0.0, 0.0, 0.0, 0.0, 0.0, 0.0, 0.0, 0.0, 0.0, 0.0, 0.0, 0.0, 0.0, 0.0, 0.0, 0.0, 0.0, 0.0, 0.0, 0.0, 0.0, 0.0, 0.0, 0.0, 0.0, 0.0, 0.0, 0.0, 0.0, 0.0, 0.0, 0.0, 0.0, 0.0, 0.0, 0.0, 0.0, 0.0, 0.0, 0.0, 0.0, 0.0, 0.0, 0.0, 0.0, 0.0, 0.0, 0.0, 0.0, 0.0, 0.0, 0.0, 0.0, 0.0, 0.0, 0.0, 0.0, 0.0, 0.0, 0.0, 0.0, 0.0, 0.0, 0.0, 0.0, 0.0, 0.0, 0.0, 0.0, 0.0, 0.0, 0.0, 0.0, 0.0, 0.0, 0.0, 0.0, 0.0, 0.0, 0.0, 0.0, 0.0, 0.0, 0.0, 0.0, 0.0, 0.0, 0.0, 0.0, 0.0, 0.0, 0.0, 0.0, 0.0, 0.0, 0.0, 0.0, 0.0, 0.0, 0.0, 0.0, 0.0, 0.0, 0.0, 0.0, 0.0, 0.0, 0.0, 0.0, 0.0, 0.0, 0.0, 0.0, 0.0, 0.0, 0.0, 0.0, 0.0, 0.0, 0.0, 0.0, 0.0, 0.0, 0.0, 0.0, 0.0, 0.0, 0.0, 0.0, 0.0, 0.0, 0.0, 0.0, 0.0, 0.0, 0.0, 0.0, 0.0, 0.0, 0.0, 0.0, 0.0, 0.0, 0.0, 0.0, 0.0, 0.0, 0.0, 0.0, 0.0, 0.0, 0.0, 0.0, 0.0, 0.0, 0.0, 0.0, 0.0, 0.0, 0.0, 0.0, 0.0, 0.0, 0.0, 0.0, 0.0, 0.0, 0.0, 0.0, 0.0, 0.0, 0.0, 0.0, 0.0, 0.0, 0.0, 0.0, 0.0, 0.0, 0.0, 0.0, 0.0, 0.0, 0.0, 0.0, 0.0, 0.0, 0.0, 0.0, 0.0, 0.0, 0.0, 0.0, 0.0, 0.0, 0.0, 0.0, 0.0, 0.0, 0.0, 0.0, 0.0, 0.0, 0.0, 0.0, 0.0, 0.0006092191903842293, 0.0013125040507555768, 0.0027687980726150614, 0.005719558289906921, 0.011569973371181413, 0.022920292149288327, 0.04446787763912847, 0.08449540128017728, 0.15725471202919927, 0.28667075996157326, 0.5119167590539596, 0.8955310695634751, 1.5348244969429263, 2.5773143970639327, 4.258451523413161, 6.861576475080853, 10.836102822295263, 16.774472865396135, 25.45689774386904, 37.879345362883384, 55.27204823746094, 79.10180248014333, 111.05151303367616, 152.9704035470695, 206.79109847252022, 274.41292314819447, 357.5556291468833, 457.6103687145231, 575.4064672601404, 711.1370593417147, 864.1869532868396, 1033.074410455012, 1215.452735491778, 1408.1888714714687, 1607.5186478573294, 1809.2609120677198, 2009.0664202852329, 2202.7105874198014, 2386.3624790623085, 2556.775089332821, 2711.5186161904016, 2849.0448107209313, 2968.534486619443, 3070.006025138861, 3154.0954312484455, 3221.8253111735576, 3274.3823824514793, 3312.9456887639026, 3338.4369413573236, 3351.371508538131, 3351.762728926768, 3339.061534545054, 3312.1965320500794, 3269.7199584619475, 3209.963595513642, 3131.2695961408817, 3032.3093163376816, 2912.3571832984057, 2771.5251776798314, 2610.960459560296, 2432.9447746543988, 2240.8520142322886, 2038.9915255013384, 1832.3517406268327, 1626.2469745056899, 1425.9248520959225, 1236.1830719952472, 1061.0378400063835, 903.4399265789008, 765.32921151409, 647.3144300947514, 548.9978678740054, 469.08757860755543, 405.630156079215, 356.2606021919485, 318.4428514658053, 289.6828027620185, 267.6894253360333, 250.48431706177504, 236.46331367792925, 224.40988282764863, 213.4394606643098, 203.08743672710452, 193.0044618825807, 183.1709027237122, 173.5803558471828, 164.3340776218163, 155.54717249260926, 147.31062709337914, 139.677520464673, 132.6358286462017, 126.12055567575753, 120.01970024784573, 114.18804341906672, 108.46504097100987, 102.69638210961966, 96.74933554558417, 90.52931579185235, 83.98767744493928, 77.12799924543165, 70.0038433161336, 62.710867959533125, 55.38214361878728, 48.16249118200429, 41.207647076530385, 34.65751340249822, 28.63183076683263, 23.21816213264187, 18.473105107561732, 14.412357472542409, 11.020947928777133, 8.256936855198855, 6.058723708601764, 4.352793121495521, 3.0609428292835577, 2.106373882989948, 1.4180879023526038, 0.9338544122045944, 0.6014181082472263, 0.3787236204881455, 0.2322563321013367, 0.13976705583425617, 0.08130375773727469, 0.046682252739389585, 0.026190330887955443, 0.014356123227741883, 0.007687813432314908, 0.004021642945402513, 0.0020549797624027323, 0.0010256184607830802, 0.0004999326639707543, 0.00023799061666074486, 0.00011063891431715434, 4.4586630960038635e-05, 1.990355533550348e-05], [0.0, 0.0, 0.0, 0.0, 0.0, 0.0, 0.0, 0.0, 0.0, 0.0, 0.0, 0.0, 0.0, 0.0, 0.0, 0.0, 0.0, 0.0, 0.0, 0.0, 0.0, 0.0, 0.0, 0.0, 0.0, 0.0, 0.0, 0.0, 0.0, 0.0, 0.0, 0.0, 0.0, 0.0, 0.0, 0.0, 0.0, 0.0, 0.0, 0.0, 0.0, 0.0, 0.0, 0.0, 0.0, 0.0, 0.0, 0.0, 0.0, 0.0, 0.0, 0.0, 0.0, 0.0, 0.0, 0.0, 0.0, 0.0, 0.0, 0.0, 0.0, 0.0, 0.0, 0.0, 0.0, 0.0, 0.0, 0.0, 0.0, 0.0, 0.0, 0.0, 0.0, 0.0, 0.0, 0.0, 0.0, 0.0, 0.0, 0.0, 0.0, 0.0, 0.0, 0.0, 0.0, 0.0, 0.0, 0.0, 0.0, 0.0, 0.0, 0.0, 0.0, 0.0, 0.0, 0.0, 0.0, 0.0, 0.0, 0.0, 0.0, 0.0, 0.0, 0.0, 0.0, 0.0, 0.0, 0.0, 0.0, 0.0, 0.0, 0.0, 0.0, 0.0, 0.0, 0.0, 0.0, 0.0, 0.0, 0.0, 0.0, 0.0, 0.0, 0.0, 0.0, 0.0, 0.0, 0.0, 0.0, 0.0, 0.0, 0.0, 0.0, 0.0, 0.0, 0.0, 0.0, 0.0, 0.0, 0.0, 0.0, 0.0, 0.0, 0.0, 0.0, 0.0, 0.0, 0.0, 0.0, 0.0, 0.0, 0.0, 0.0, 0.0, 0.0, 0.0, 0.0, 0.0, 0.0, 0.0, 0.0, 0.0, 0.0, 0.0, 0.0, 0.0, 0.0, 0.0, 0.0, 0.0, 0.0, 0.0, 0.0, 0.0, 0.0, 0.0, 0.0, 0.0, 0.0, 0.0, 0.0, 0.0, 0.0, 0.0, 0.0, 0.0, 0.0, 0.0, 0.0, 0.0, 0.0, 0.0, 0.0, 0.0, 0.0, 0.0, 0.0, 0.0, 0.0, 0.0, 0.0, 0.0, 0.0, 0.0, 0.0, 0.0, 0.0, 0.0, 0.0, 0.0, 0.0, 0.0, 0.0, 0.0, 0.0, 0.0, 0.0, 0.0, 0.0, 0.0, 0.0, 0.0, 0.0, 0.0, 0.0, 0.0, 0.0, 0.0, 0.0, 0.0, 0.0, 0.0, 0.0, 0.0, 0.0, 0.0, 0.0, 0.0, 0.0, 0.0, 0.0, 0.0, 0.0, 0.0, 0.0, 0.0, 0.0, 0.0, 0.0, 0.0, 0.0, 0.0, 0.0, 0.0, 0.0, 0.0, 0.0, 0.0, 0.0, 0.0, 0.0, 0.0, 0.0, 0.0, 0.0, 0.0, 0.0, 0.0, 0.0, 0.0, 0.0, 0.0, 0.0, 0.0, 0.0, 0.0, 0.0, 0.0, 0.0, 0.0, 0.0, 0.0, 0.0, 0.0, 0.0, 0.0, 0.0, 0.0, 0.0, 0.0, 0.0, 0.0, 0.0, 0.0, 0.0, 0.0, 0.0, 0.0, 0.0, 0.0, 0.0, 0.0, 0.0, 0.0, 0.0, 0.0, 0.0, 0.0, 0.0, 0.0, 0.0, 0.0, 0.0, 0.0, 0.0, 0.0, 0.0, 0.0, 0.0, 0.0, 0.0, 0.0, 0.0, 0.0, 0.0, 0.0, 0.0, 0.0, 0.0, 0.0, 0.0, 0.0, 0.0, 0.0, 0.0, 0.0, 0.0, 0.0, 0.0, 0.0, 0.0, 0.0, 0.0, 0.0, 0.0, 0.0, 0.0, 0.0, 0.0, 0.0, 0.0, 0.0, 0.0, 0.0, 0.0, 0.0, 0.0, 0.0, 0.0, 0.0, 0.0, 0.0, 0.0, 0.0, 0.0, 0.0, 0.0, 0.0, 0.0, 0.0, 0.0, 0.0, 0.0, 0.0, 0.0, 0.0, 0.0, 0.0, 0.0, 0.0, 0.0, 0.0, 0.0, 0.0, 0.0, 0.0, 0.0, 0.0, 0.0, 0.0, 0.0, 0.0, 0.0, 0.0, 0.0, 0.0, 0.0, 0.0, 0.0, 0.0, 0.0, 0.0, 0.0, 0.0, 0.0, 0.0, 0.0, 0.0, 0.0, 0.0, 0.0, 0.0, 0.0, 0.0, 0.0, 0.0, 0.0, 0.0, 0.0, 0.0, 0.0, 0.0, 0.0, 0.0, 0.0, 0.0, 0.0, 0.0, 0.0, 0.0, 0.0, 0.0, 0.0, 0.0, 0.0, 0.0, 0.0, 0.0, 0.0, 0.0, 0.0, 0.0, 0.0, 0.0, 0.0, 0.0, 0.0, 0.0, 0.0, 0.0, 0.0, 0.0, 0.0, 0.0, 0.0, 0.0, 0.0, 0.0, 0.0, 0.0, 0.0, 0.0, 0.0, 0.0, 0.0, 0.0, 0.0, 0.0, 0.0, 0.0, 0.0, 0.0, 0.0, 0.0, 0.0, 0.0, 0.0, 0.0, 0.0, 0.0, 0.0, 0.0, 0.0, 0.0, 0.0, 0.0, 0.0, 0.0, 0.0, 0.0, 0.0, 0.0, 0.0, 0.0, 0.0, 0.0, 0.0, 0.0, 0.0, 0.0, 0.0, 0.0, 0.0, 0.0, 0.0, 0.0, 0.0, 0.0, 0.0, 0.0, 0.0, 0.0, 0.0, 0.0, 0.0, 0.0, 0.0, 0.0, 0.0, 0.0, 0.0, 0.0, 0.0, 0.0, 0.0, 0.0, 0.0, 0.0, 0.0, 0.0, 0.0, 0.0, 0.0, 0.0, 0.0, 0.0, 0.0, 0.0, 0.0, 0.0, 0.0, 0.0, 0.0, 0.0, 0.0, 0.0, 0.0, 0.0, 0.0, 0.0, 0.0, 0.0, 0.0, 0.0, 0.0, 0.0, 0.0, 0.0, 0.0, 0.0, 0.0, 0.0, 0.0, 0.0, 0.0, 0.0, 0.0, 0.0, 0.0, 0.0, 0.0, 0.0, 0.0, 0.0, 0.0, 0.0, 0.0, 0.0, 0.0, 0.0, 0.0, 0.0, 0.0, 0.0, 0.0, 0.0, 0.0, 0.0, 0.0, 0.0, 0.0, 0.0, 0.0, 0.0, 0.0, 0.0, 0.0, 0.0, 0.0, 0.0, 0.0, 0.0, 0.0, 0.0, 0.0, 0.0, 0.0, 0.0, 0.0, 0.0, 0.0, 0.0, 0.0, 0.0, 0.0, 0.0, 0.0, 0.0, 0.0, 0.0, 0.0, 0.0, 0.0, 0.0, 0.0, 0.0, 0.0, 0.0, 0.0, 0.0, 0.0, 0.0, 0.0, 0.0, 0.0, 0.0, 0.0, 0.0, 0.0, 0.0, 0.0, 0.0, 0.0, 0.0, 0.0, 0.0, 0.0, 0.0, 0.0, 0.0, 0.0, 0.0, 0.0, 0.0, 0.0, 0.0, 0.0, 0.0, 0.0, 0.0, 0.0, 0.0, 0.0, 0.0, 0.0, 0.0, 0.0, 0.0, 0.0, 0.0, 0.0, 0.0, 0.0, 0.0, 0.0, 0.0, 0.0, 0.0, 0.0, 0.0, 0.0, 0.0, 0.0, 0.0, 0.0, 0.0, 0.0, 0.0, 0.0, 0.0, 0.0, 0.0, 0.0, 0.0, 0.0, 0.0, 0.0, 0.0, 0.0, 0.0, 0.0, 0.0, 0.0, 0.0, 0.0, 0.0, 0.0, 0.0, 0.0, 0.0, 0.0, 0.0, 0.0, 0.0, 0.0, 0.0, 0.0, 0.0, 0.0, 0.0, 0.0, 0.0, 0.0, 0.0, 0.0, 0.0, 0.0, 0.0, 0.0, 0.0, 0.0, 0.0, 0.0, 0.0, 0.0, 0.0, 0.0, 0.0, 0.0, 0.0, 0.0, 0.0, 0.0, 0.0, 0.0, 0.0, 0.0, 0.0, 0.0, 0.0, 0.0, 0.0, 0.0, 0.0, 0.0, 0.0, 0.0, 0.0, 0.0, 0.0, 0.0, 0.0, 0.0, 0.0, 0.0, 0.0, 0.0, 0.0, 0.0, 0.0, 0.0, 0.0, 0.0, 0.0, 0.0, 0.0, 0.0, 0.0, 0.0, 0.0, 0.0, 0.0, 0.0, 0.0, 0.0, 0.0, 0.0, 0.0, 0.0, 0.0, 0.0, 0.0, 0.0, 0.0, 0.0, 0.0, 0.0, 0.0, 0.0, 0.0, 0.0, 0.0, 0.0, 0.0, 0.0, 0.0, 0.0, 0.0, 0.0, 0.0, 0.0, 0.0, 0.0, 0.0, 0.0, 0.0, 0.0, 0.0, 0.0, 0.0, 0.0, 0.0, 0.0, 0.0, 0.0, 0.0, 0.0, 0.0, 0.0, 0.0, 0.0, 0.0, 0.0, 0.0, 0.0, 0.0, 0.0, 0.0, 0.0, 0.0, 0.0, 0.0, 0.0, 0.0, 0.0, 0.0, 0.0, 0.0, 0.0, 0.0, 0.0, 0.0, 0.0, 0.0, 0.0, 0.0, 0.0, 0.0, 0.0, 0.0, 0.0, 0.0, 0.0, 0.0, 0.0, 0.0, 0.0, 0.0, 0.0, 0.0, 0.0, 0.0, 0.0, 0.0, 0.0, 0.0, 0.0, 0.0, 0.0, 0.0, 0.0, 0.0, 0.0, 0.0, 0.0, 0.0, 0.0, 0.0, 0.0, 0.0, 0.0, 0.0, 0.0, 0.0, 0.0, 0.0, 0.0, 0.0, 0.0, 0.0, 0.0, 0.0, 0.0, 0.0, 0.0, 0.0, 0.0, 0.0, 0.0, 0.0, 0.0, 0.0, 0.0, 0.0, 0.0, 0.0, 0.0, 0.0, 0.0, 0.0, 0.0, 0.0, 0.0, 0.0, 0.0, 0.0, 0.0, 0.0, 0.0, 0.0, 0.0, 0.0, 0.0, 0.0, 0.0, 0.0, 0.0, 0.0, 0.0, 0.0, 0.0, 0.0, 0.0, 0.0, 0.0, 0.0, 0.0, 0.0, 0.0, 0.0, 0.0, 0.0, 0.0, 0.0, 0.0, 0.0, 0.0, 0.0, 0.0, 0.0, 0.0, 0.0, 0.0, 0.0, 0.0, 0.0, 0.0, 0.0, 0.0, 0.0, 0.0, 0.0, 0.0, 0.0, 0.0, 0.0, 0.0, 0.0, 0.0, 0.0, 0.0, 0.0, 0.0, 0.0, 0.0, 0.0, 0.0, 0.0, 0.0006092191903842293, 0.0013125040507555768, 0.0027687980726150614, 0.005719558289906921, 0.011569973371181413, 0.022920292149288327, 0.04446787763912847, 0.08449540128017728, 0.15725471202919927, 0.28667075996157326, 0.5119167590539596, 0.8955310695634751, 1.5348244969429263, 2.5773143970639327, 4.258451523413161, 6.861576475080853, 10.836102822295263, 16.774472865396135, 25.45689774386904, 37.879345362883384, 55.27204823746094, 79.10180248014333, 111.05151303367616, 152.9704035470695, 206.79109847252022, 274.41292314819447, 357.5556291468833, 457.6103687145231, 575.4064672601404, 711.1370593417147, 864.1869532868396, 1033.074410455012, 1215.452735491778, 1408.1888714714687, 1607.5186478573294, 1809.2609120677198, 2009.0664202852329, 2202.7105874198014, 2386.3624790623085, 2556.775089332821, 2711.5186161904016, 2849.0448107209313, 2968.534486619443, 3070.006025138861, 3154.0954312484455, 3221.8253111735576, 3274.3823824514793, 3312.9456887639026, 3338.4369413573236, 3351.371508538131, 3351.762728926768, 3339.061534545054, 3312.1965320500794, 3269.7199584619475, 3209.963595513642, 3131.2695961408817, 3032.3093163376816, 2912.3571832984057, 2771.5251776798314, 2610.960459560296, 2432.9447746543988, 2240.8520142322886, 2038.9915255013384, 1832.3517406268327, 1626.2469745056899, 1425.9248520959225, 1236.1830719952472, 1061.0378400063835, 903.4399265789008, 765.32921151409, 647.3144300947514, 548.9978678740054, 469.08757860755543, 405.630156079215, 356.2606021919485, 318.4428514658053, 289.6828027620185, 267.6894253360333, 250.48431706177504, 236.46331367792925, 224.40988282764863, 213.4394606643098, 203.08743672710452, 193.0044618825807, 183.1709027237122, 173.5803558471828, 164.3340776218163, 155.54717249260926, 147.31062709337914, 139.677520464673, 132.6358286462017, 126.12055567575753, 120.01970024784573, 114.18804341906672, 108.46504097100987, 102.69638210961966, 96.74933554558417, 90.52931579185235, 83.98767744493928, 77.12799924543165, 70.0038433161336, 62.710867959533125, 55.38214361878728, 48.16249118200429, 41.207647076530385, 34.65751340249822, 28.63183076683263, 23.21816213264187, 18.473105107561732, 14.412357472542409, 11.020947928777133, 8.256936855198855, 6.058723708601764, 4.352793121495521, 3.0609428292835577, 2.106373882989948, 1.4180879023526038, 0.9338544122045944, 0.6014181082472263, 0.3787236204881455, 0.2322563321013367, 0.13976705583425617, 0.08130375773727469, 0.046682252739389585, 0.026190330887955443, 0.014356123227741883, 0.007687813432314908, 0.004021642945402513, 0.0020549797624027323, 0.0010256184607830802, 0.0004999326639707543, 0.00023799061666074486, 0.00011063891431715434, 4.4586630960038635e-05, 1.990355533550348e-05]]\n"
     ]
    }
   ],
   "source": [
    "with open('data.txt', 'r') as file:\n",
    "    input_string = file.read()\n",
    "lines = input_string.split('\\n')\n",
    "x = []\n",
    "\n",
    "for line in lines:\n",
    "    values = line.split()  # Split line into individual values (space-separated)\n",
    "    int_values = [float(value) for value in values]  # Convert string values to list of single integers\n",
    "    x.append(int_values)\n",
    "\n",
    "del x[len(x)-1]\n",
    "print(x)\n",
    "y=[200, 200]"
   ]
  },
  {
   "cell_type": "code",
   "execution_count": 6,
   "metadata": {},
   "outputs": [],
   "source": [
    "import os\n",
    "import glob\n",
    "import numpy as np\n",
    "import matplotlib.pyplot as plt\n",
    "from sklearn.metrics import accuracy_score\n",
    "import pandas as pd\n",
    "from sklearn.model_selection import train_test_split"
   ]
  },
  {
   "cell_type": "code",
   "execution_count": 22,
   "metadata": {},
   "outputs": [],
   "source": [
    "X_train,X_test,y_train,y_test=train_test_split(x,y,test_size=1,random_state=2)"
   ]
  }
 ],
 "metadata": {
  "kernelspec": {
   "display_name": "Python 3",
   "language": "python",
   "name": "python3"
  },
  "language_info": {
   "codemirror_mode": {
    "name": "ipython",
    "version": 3
   },
   "file_extension": ".py",
   "mimetype": "text/x-python",
   "name": "python",
   "nbconvert_exporter": "python",
   "pygments_lexer": "ipython3",
   "version": "3.9.7"
  }
 },
 "nbformat": 4,
 "nbformat_minor": 2
}
