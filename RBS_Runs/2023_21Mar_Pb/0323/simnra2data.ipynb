{
 "cells": [
  {
   "cell_type": "code",
   "execution_count": 1,
   "metadata": {},
   "outputs": [
    {
     "name": "stdout",
     "output_type": "stream",
     "text": [
      "Concatenated data from RBS1run01.dat saved to c:\\Users\\be_so\\Desktop\\Lip\\git\\rbs\\RBS_Runs\\2023_21Mar_Pb\\0323\\RBS1run01_concatenated.dat\n",
      "Concatenated data from RBS1run03.dat saved to c:\\Users\\be_so\\Desktop\\Lip\\git\\rbs\\RBS_Runs\\2023_21Mar_Pb\\0323\\RBS1run03_concatenated.dat\n",
      "Concatenated data from RBS1run10.dat saved to c:\\Users\\be_so\\Desktop\\Lip\\git\\rbs\\RBS_Runs\\2023_21Mar_Pb\\0323\\RBS1run10_concatenated.dat\n",
      "Concatenated data from RBS1run11.dat saved to c:\\Users\\be_so\\Desktop\\Lip\\git\\rbs\\RBS_Runs\\2023_21Mar_Pb\\0323\\RBS1run11_concatenated.dat\n",
      "Concatenated data from RBS1run12.dat saved to c:\\Users\\be_so\\Desktop\\Lip\\git\\rbs\\RBS_Runs\\2023_21Mar_Pb\\0323\\RBS1run12_concatenated.dat\n",
      "Concatenated data from RBS1run13.dat saved to c:\\Users\\be_so\\Desktop\\Lip\\git\\rbs\\RBS_Runs\\2023_21Mar_Pb\\0323\\RBS1run13_concatenated.dat\n",
      "Concatenated data from RBS1run14.dat saved to c:\\Users\\be_so\\Desktop\\Lip\\git\\rbs\\RBS_Runs\\2023_21Mar_Pb\\0323\\RBS1run14_concatenated.dat\n",
      "Concatenated data from RBS1run15.dat saved to c:\\Users\\be_so\\Desktop\\Lip\\git\\rbs\\RBS_Runs\\2023_21Mar_Pb\\0323\\RBS1run15_concatenated.dat\n",
      "Concatenated data from RBS1run16.dat saved to c:\\Users\\be_so\\Desktop\\Lip\\git\\rbs\\RBS_Runs\\2023_21Mar_Pb\\0323\\RBS1run16_concatenated.dat\n",
      "Concatenated data from RBS1run17.dat saved to c:\\Users\\be_so\\Desktop\\Lip\\git\\rbs\\RBS_Runs\\2023_21Mar_Pb\\0323\\RBS1run17_concatenated.dat\n",
      "Concatenated data from RBS1run18.dat saved to c:\\Users\\be_so\\Desktop\\Lip\\git\\rbs\\RBS_Runs\\2023_21Mar_Pb\\0323\\RBS1run18_concatenated.dat\n",
      "Concatenated data from RBS1run19.dat saved to c:\\Users\\be_so\\Desktop\\Lip\\git\\rbs\\RBS_Runs\\2023_21Mar_Pb\\0323\\RBS1run19_concatenated.dat\n",
      "Concatenated data from RBS1run2.dat saved to c:\\Users\\be_so\\Desktop\\Lip\\git\\rbs\\RBS_Runs\\2023_21Mar_Pb\\0323\\RBS1run2_concatenated.dat\n",
      "Concatenated data from RBS1run20.dat saved to c:\\Users\\be_so\\Desktop\\Lip\\git\\rbs\\RBS_Runs\\2023_21Mar_Pb\\0323\\RBS1run20_concatenated.dat\n",
      "Concatenated data from RBS1run2_sort.dat saved to c:\\Users\\be_so\\Desktop\\Lip\\git\\rbs\\RBS_Runs\\2023_21Mar_Pb\\0323\\RBS1run2_sort_concatenated.dat\n",
      "Concatenated data from RBS1run4.dat saved to c:\\Users\\be_so\\Desktop\\Lip\\git\\rbs\\RBS_Runs\\2023_21Mar_Pb\\0323\\RBS1run4_concatenated.dat\n",
      "Concatenated data from RBS1run5.dat saved to c:\\Users\\be_so\\Desktop\\Lip\\git\\rbs\\RBS_Runs\\2023_21Mar_Pb\\0323\\RBS1run5_concatenated.dat\n",
      "Concatenated data from RBS1run6.dat saved to c:\\Users\\be_so\\Desktop\\Lip\\git\\rbs\\RBS_Runs\\2023_21Mar_Pb\\0323\\RBS1run6_concatenated.dat\n",
      "Concatenated data from RBS1run7.dat saved to c:\\Users\\be_so\\Desktop\\Lip\\git\\rbs\\RBS_Runs\\2023_21Mar_Pb\\0323\\RBS1run7_concatenated.dat\n",
      "Concatenated data from RBS1run8.dat saved to c:\\Users\\be_so\\Desktop\\Lip\\git\\rbs\\RBS_Runs\\2023_21Mar_Pb\\0323\\RBS1run8_concatenated.dat\n",
      "Concatenated data from RBS1run9.dat saved to c:\\Users\\be_so\\Desktop\\Lip\\git\\rbs\\RBS_Runs\\2023_21Mar_Pb\\0323\\RBS1run9_concatenated.dat\n"
     ]
    }
   ],
   "source": [
    "import os\n",
    "import re\n",
    "\n",
    "# Get the current working directory\n",
    "current_directory = os.getcwd()\n",
    "\n",
    "# List all files in the current directory that match the pattern \"RBS1runXX\"\n",
    "file_list = [filename for filename in os.listdir(current_directory) if filename.startswith(\"RBS1run\")]\n",
    "\n",
    "# Iterate through each file, remove the last 6 lines, concatenate its lines with spaces between elements, \n",
    "# ensure values are spaced evenly with one space, and save the result to a new file\n",
    "for filename in file_list:\n",
    "    file_path = os.path.join(current_directory, filename)\n",
    "    \n",
    "    # Read all lines from the file\n",
    "    with open(file_path, 'r') as file:\n",
    "        lines = file.readlines()\n",
    "    \n",
    "    # Remove the last 6 lines\n",
    "    cleaned_lines = lines[:-5]\n",
    "    \n",
    "    # Join the cleaned lines with spaces between elements\n",
    "    concatenated_data = ' '.join(line.strip() for line in cleaned_lines)\n",
    "    \n",
    "    # Ensure values are spaced evenly with one space\n",
    "    concatenated_data = re.sub(r'\\s+', ' ', concatenated_data)\n",
    "    \n",
    "    # Create a new file with \"_concatenated\" added to the original filename and overwrite if it exists\n",
    "    output_file_path = os.path.splitext(file_path)[0] + '_concatenated.dat'\n",
    "    with open(output_file_path, 'w') as output_file:\n",
    "        output_file.write(concatenated_data)\n",
    "\n",
    "    print(f\"Concatenated data from {filename} saved to {output_file_path}\")"
   ]
  }
 ],
 "metadata": {
  "kernelspec": {
   "display_name": "Python 3",
   "language": "python",
   "name": "python3"
  },
  "language_info": {
   "codemirror_mode": {
    "name": "ipython",
    "version": 3
   },
   "file_extension": ".py",
   "mimetype": "text/x-python",
   "name": "python",
   "nbconvert_exporter": "python",
   "pygments_lexer": "ipython3",
   "version": "3.9.13"
  },
  "orig_nbformat": 4
 },
 "nbformat": 4,
 "nbformat_minor": 2
}
