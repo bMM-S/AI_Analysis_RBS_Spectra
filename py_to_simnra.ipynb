{
 "cells": [
  {
   "cell_type": "markdown",
   "metadata": {},
   "source": [
    "# Imports"
   ]
  },
  {
   "cell_type": "code",
   "execution_count": null,
   "metadata": {},
   "outputs": [],
   "source": [
    "import win32com.client\n",
    "import numpy as np\n",
    "import time\n",
    "from IPython.display import clear_output\n",
    "import random"
   ]
  },
  {
   "cell_type": "code",
   "execution_count": null,
   "metadata": {},
   "outputs": [],
   "source": [
    "def split_string(input_string):\n",
    "    elements = []\n",
    "    current_element = \"\"\n",
    "\n",
    "    for char in input_string:\n",
    "        if char.isupper():\n",
    "            if current_element:\n",
    "                elements.append(current_element)\n",
    "            current_element = char\n",
    "        else:\n",
    "            current_element += char\n",
    "\n",
    "    if current_element:\n",
    "        elements.append(current_element)\n",
    "\n",
    "    return elements\n"
   ]
  },
  {
   "cell_type": "markdown",
   "metadata": {},
   "source": [
    "# OLE Python-Simrna\n",
    "This section was designed to perform tests and understand how to connect Python with Simnra. Each code cell does one thing, and if all cells are executed, it should perform right. For obvious reasons, there is a need to design a script which generates multiple spectra automatically, since this ipynb file needs to be run cell by cell. To execute it automatically, check the last Section"
   ]
  },
  {
   "cell_type": "markdown",
   "metadata": {},
   "source": [
    "## Simnra.App"
   ]
  },
  {
   "cell_type": "markdown",
   "metadata": {},
   "source": [
    "### App initialization"
   ]
  },
  {
   "cell_type": "code",
   "execution_count": null,
   "metadata": {},
   "outputs": [],
   "source": [
    "application = win32com.client.Dispatch('Simnra.App')\n",
    "#application.Reset()\n",
    "application.Show()"
   ]
  },
  {
   "cell_type": "code",
   "execution_count": null,
   "metadata": {},
   "outputs": [],
   "source": [
    "print('Simrna version: '+application.Version)"
   ]
  },
  {
   "cell_type": "markdown",
   "metadata": {},
   "source": [
    "## Simnra.Setup"
   ]
  },
  {
   "cell_type": "markdown",
   "metadata": {},
   "source": [
    "### Setup initialization"
   ]
  },
  {
   "cell_type": "code",
   "execution_count": null,
   "metadata": {},
   "outputs": [],
   "source": [
    "setup = win32com.client.Dispatch('Simnra.Setup')"
   ]
  },
  {
   "cell_type": "markdown",
   "metadata": {},
   "source": [
    "### Setup settings"
   ]
  },
  {
   "cell_type": "code",
   "execution_count": null,
   "metadata": {},
   "outputs": [],
   "source": [
    "setup.Alpha = np.random.uniform(0,5) #incident angle\n",
    "time.sleep(0.5)\n",
    "setup.Energy = np.random.uniform(1400,2000) #beam energy\n",
    "time.sleep(0.5)\n",
    "setup.Theta = np.random.uniform(135,165) #exit angle"
   ]
  },
  {
   "cell_type": "code",
   "execution_count": null,
   "metadata": {},
   "outputs": [],
   "source": [
    "print('Incident angle \\u03B1 (deg): '+str(setup.Alpha))\n",
    "print('Energy (keV): '+str(setup.Energy))\n",
    "print('Scattering angle \\u03B8 (deg): '+str(setup.Theta))"
   ]
  },
  {
   "cell_type": "markdown",
   "metadata": {},
   "source": [
    "## Simnra.Target"
   ]
  },
  {
   "cell_type": "markdown",
   "metadata": {},
   "source": [
    "### Target initialization\n"
   ]
  },
  {
   "cell_type": "code",
   "execution_count": null,
   "metadata": {},
   "outputs": [],
   "source": [
    "target = win32com.client.Dispatch('Simnra.Target')"
   ]
  },
  {
   "cell_type": "markdown",
   "metadata": {},
   "source": [
    "### Target settings"
   ]
  },
  {
   "cell_type": "code",
   "execution_count": null,
   "metadata": {},
   "outputs": [],
   "source": [
    "listofelements= [\"Ge\",\"Si\",\"Au\"] #to be completed\n",
    "element = np.random.choice(listofelements)\n",
    "thick = np.random.uniform(100,500)\n",
    "print('Element: ' +str(element))\n",
    "print('Thickness: '+str(thick))"
   ]
  },
  {
   "cell_type": "code",
   "execution_count": null,
   "metadata": {},
   "outputs": [],
   "source": [
    "# #target settings 1 layer\n",
    "\n",
    "# target.DeleteAllLayer()\n",
    "\n",
    "# for i in range(target.TotalNumberOfElements):\n",
    "#     target.DeleteElement(1,i)\n",
    "# target.AddLayer()\n",
    "# target.AddLayer()\n",
    "# #layer settings\n",
    "\n",
    "# target.SetLayerThickness(1,thickness) #set layer thickness\n",
    "\n",
    "# target.AddElement(1) #add empty element\n",
    "\n",
    "# target.SetElementName(1,1,element) #set element name\n",
    "\n",
    "# target.SetElementConcentration(1,1,1) #set element concentration\n",
    "\n",
    "#target settings 2 layers\n",
    "\n",
    "target.DeleteAllLayer()\n",
    "\n",
    "for i in range(target.TotalNumberOfElements):\n",
    "    target.DeleteElement(1,i)\n",
    "\n",
    "target.AddLayer()\n",
    "target.AddLayer()\n",
    "\n",
    "target.SetLayerThickness(1,1000)\n",
    "target.SetLayerThickness(2,100)\n",
    "\n",
    "target.AddElement(1)\n",
    "target.AddElement(2)\n",
    "target.AddElement(2)\n",
    "\n",
    "target.SetElementName(1,1,'C')\n",
    "target.SetElementName(2,1,'Ca')\n",
    "target.SetElementName(2,2,'F')\n",
    "\n",
    "target.SetElementConcentration(1,1,1)\n",
    "target.SetElementConcentration(2,1,1/3) \n",
    "target.SetElementConcentration(2,2,2/3) "
   ]
  },
  {
   "cell_type": "code",
   "execution_count": null,
   "metadata": {},
   "outputs": [],
   "source": [
    "print('Number of layers: '+ str(target.NumberOfLayers))\n",
    "print('Number of elements: '+ str(target.TotalNumberOfElements))\n",
    "print('Elements present: '+str([target.ElementName(1,i+1) for i in range(target.TotalNumberOfElements)]))\n",
    "print('Concentration of elements: '+str([(target.ElementName(1,i+1),target.GetElementConcentration(1,i+1)) for i in range(target.TotalNumberOfElements)]))\n",
    "print('Target thickness: '+str(target.Thickness))"
   ]
  },
  {
   "cell_type": "markdown",
   "metadata": {},
   "source": [
    "### Target reset (if needed)"
   ]
  },
  {
   "cell_type": "code",
   "execution_count": null,
   "metadata": {},
   "outputs": [],
   "source": [
    "target.DeleteAllLayer()\n",
    "for i in range(target.TotalNumberOfElements):\n",
    "    target.DeleteElement(1,i)\n",
    "target.AddLayer()"
   ]
  },
  {
   "cell_type": "markdown",
   "metadata": {},
   "source": [
    "## Simnra.CrossSec"
   ]
  },
  {
   "cell_type": "markdown",
   "metadata": {},
   "source": [
    "### Cross Section initialization"
   ]
  },
  {
   "cell_type": "code",
   "execution_count": null,
   "metadata": {},
   "outputs": [],
   "source": [
    "crosssection = win32com.client.Dispatch('Simnra.CrossSec')"
   ]
  },
  {
   "cell_type": "markdown",
   "metadata": {},
   "source": [
    "### Cross Section settings"
   ]
  },
  {
   "cell_type": "code",
   "execution_count": null,
   "metadata": {},
   "outputs": [],
   "source": [
    "crosssection.SelectRutherfordAll()\n",
    "crosssection.SetEmin(1,0.001)\n",
    "crosssection.SetEMax(1,4999.999)"
   ]
  },
  {
   "cell_type": "code",
   "execution_count": null,
   "metadata": {},
   "outputs": [],
   "source": [
    "print('CrossSection choosen: '+ str(crosssection.ReactionsChoosen))\n",
    "print('Number of available cross-section data sets: '+ str(crosssection.Count))"
   ]
  },
  {
   "cell_type": "markdown",
   "metadata": {},
   "source": [
    "## Simnra.Spectrum"
   ]
  },
  {
   "cell_type": "markdown",
   "metadata": {},
   "source": [
    "### Spectrum initialization"
   ]
  },
  {
   "cell_type": "code",
   "execution_count": null,
   "metadata": {},
   "outputs": [],
   "source": [
    "spectrum = win32com.client.Dispatch('Simnra.Spectrum')"
   ]
  },
  {
   "cell_type": "code",
   "execution_count": null,
   "metadata": {},
   "outputs": [],
   "source": [
    "spectrum.AutoScale = False\n",
    "#spectrum.BottomAxisMin = 0\n",
    "spectrum.BottomAxisMax = 800"
   ]
  },
  {
   "cell_type": "code",
   "execution_count": null,
   "metadata": {},
   "outputs": [],
   "source": [
    "print('Autoscale: '+ str(spectrum.AutoScale))\n",
    "print('Min: '+str(spectrum.BottomAxisMin))\n",
    "print('Max: '+str(spectrum.BottomAxisMax))"
   ]
  },
  {
   "cell_type": "markdown",
   "metadata": {},
   "source": [
    "### Spectrum settings"
   ]
  },
  {
   "cell_type": "markdown",
   "metadata": {},
   "source": [
    "## Calculate Spectra"
   ]
  },
  {
   "cell_type": "code",
   "execution_count": null,
   "metadata": {},
   "outputs": [],
   "source": [
    "application.CalculateSpectrum()"
   ]
  },
  {
   "cell_type": "markdown",
   "metadata": {},
   "source": [
    "## Data exporting"
   ]
  },
  {
   "cell_type": "code",
   "execution_count": null,
   "metadata": {},
   "outputs": [],
   "source": [
    "spectra_data=[]\n",
    "labels_data=[]"
   ]
  },
  {
   "cell_type": "code",
   "execution_count": null,
   "metadata": {},
   "outputs": [],
   "source": [
    "data=spectrum.GetDataArray(2)\n",
    "data=list(data)\n",
    "spectra_data.append(data)\n",
    "aux=[]\n",
    "aux=[setup.Alpha,setup.Energy,setup.Theta,target.Thickness,[list((target.ElementName(1,i+1),target.GetElementConcentration(1,i+1))) for i in range(target.TotalNumberOfElements)]]\n",
    "labels_data.append(aux)\n",
    "print(len(data))"
   ]
  },
  {
   "cell_type": "code",
   "execution_count": null,
   "metadata": {},
   "outputs": [],
   "source": [
    "data = 'spectra_data.txt'\n",
    "labels = 'labels_data.txt'\n",
    "with open(data, 'w') as file:\n",
    "    list_as_string = '\\n'.join(map(str, spectra_data))\n",
    "    file.write(list_as_string)\n",
    "with open(labels, 'w') as file:\n",
    "    list_as_string = '\\n'.join(map(str, labels_data))\n",
    "    file.write(list_as_string)"
   ]
  },
  {
   "cell_type": "markdown",
   "metadata": {},
   "source": [
    "## Reset objects"
   ]
  },
  {
   "cell_type": "markdown",
   "metadata": {},
   "source": [
    "This is just an idea of how it might be possible to have only one instance of the SIMNRA running for all the spectra generation instead of one instance of the SIMNRA for each spectra generation"
   ]
  },
  {
   "cell_type": "code",
   "execution_count": null,
   "metadata": {},
   "outputs": [],
   "source": [
    "setup,target,spectrum,crosssection = None,None,None,None"
   ]
  },
  {
   "cell_type": "markdown",
   "metadata": {},
   "source": [
    "# Automatically Spectra Generation\n",
    "**Note:** don't forget to run the cell that contains all the imports necessary in order to run the code, located in the first Section \"Imports\"."
   ]
  },
  {
   "cell_type": "markdown",
   "metadata": {},
   "source": [
    "Generate .txt files where the data will be stored and initialize lists for further use.\n",
    "\n",
    "**Caution:** running this will overwrite the data.txt and labels.txt files, which can lead into losing all the spectra data!"
   ]
  },
  {
   "cell_type": "markdown",
   "metadata": {},
   "source": [
    "### Generate files"
   ]
  },
  {
   "cell_type": "code",
   "execution_count": null,
   "metadata": {},
   "outputs": [],
   "source": [
    "f= open('labelstest.txt', 'w')\n",
    "f= open('datatest.txt', 'w')"
   ]
  },
  {
   "cell_type": "markdown",
   "metadata": {},
   "source": [
    "## Code"
   ]
  },
  {
   "cell_type": "markdown",
   "metadata": {},
   "source": [
    "######\n"
   ]
  },
  {
   "cell_type": "code",
   "execution_count": null,
   "metadata": {},
   "outputs": [],
   "source": [
    "def Dsimnra(application,verbose):\n",
    "\n",
    "    application.Minimize()\n",
    "\n",
    "    if verbose == 1:\n",
    "        print('Simrna version: '+application.Version)\n",
    "\n",
    "\n",
    "def Dsetup(setup,energy,theta,calibration,verbose):\n",
    "\n",
    "    #setup settings\n",
    "\n",
    "    setup.CalibrationLinear = calibration\n",
    "\n",
    "    setup.Energy = energy #beam energy\n",
    "\n",
    "    setup.Theta = theta #exit angle\n",
    "\n",
    "    if verbose == 1:\n",
    "        print('Incident angle \\u03B1 (deg): '+str(setup.Alpha))\n",
    "        print('Energy (keV): '+str(setup.Energy))\n",
    "        print('Scattering angle \\u03B8 (deg): '+str(setup.Theta))\n",
    "        \n",
    "\n",
    "def Dtarget(target,listelement,thickness,concentrations,verbose):\n",
    "\n",
    "    target.DeleteAllLayer()\n",
    "    for i in range(target.TotalNumberOfElements):\n",
    "        target.DeleteElement(1,i)\n",
    "    \n",
    "\n",
    "    for i in range(len(listelement)):\n",
    "        target.AddLayer()\n",
    "    \n",
    "\n",
    "    separated_elements = []\n",
    "    uppercase_counts = []\n",
    "    for input_string in listelement:\n",
    "        elements = split_string(input_string)\n",
    "\n",
    "        for element in elements:\n",
    "            separated_elements.append(element)\n",
    "\n",
    "        uppercase_count = sum(1 for char in input_string if char.isupper())\n",
    "        uppercase_counts.append(uppercase_count)\n",
    "\n",
    "    for i in range(len(thickness)):\n",
    "        target.SetLayerThickness(i+1,thickness[i])\n",
    "\n",
    "    k=0\n",
    "    for i in range(len(uppercase_counts)):\n",
    "        for j in range(uppercase_counts[i]):\n",
    "            print((i+1,j+1,separated_elements[k]))\n",
    "            print(i+1,j+1,concentrations[k])\n",
    "            target.AddElement(i+1)\n",
    "            target.SetElementName(i+1,j+1,separated_elements[k])\n",
    "            target.SetElementConcentration(i+1,j+1,concentrations[k])\n",
    "            k+=1\n",
    "\n",
    "    if verbose == 1:\n",
    "        print('Number of layers: '+ str(target.NumberOfLayers))\n",
    "        print('Number of elements: '+ str(target.TotalNumberOfElements))\n",
    "        print('Elements present: '+str([target.ElementName(1,i+1) for i in range(target.TotalNumberOfElements)]))\n",
    "        print('Concentration of elements: '+str([(target.ElementName(1,i+1),target.GetElementConcentration(1,i+1)) for i in range(target.TotalNumberOfElements)]))\n",
    "        print('Target thickness: '+str(target.Thickness))\n",
    "\n",
    "def Dprojectile(projectile,particle,verbose):\n",
    "\n",
    "    projectile.Name = particle\n",
    "\n",
    "    if verbose == 1:\n",
    "        print('Beam particle: '+particle)\n",
    "\n",
    "def Dcrossec(crosssection,verbose):\n",
    "\n",
    "    #cross section settings\n",
    "\n",
    "\n",
    "    crosssection.SelectRutherfordAll()\n",
    "\n",
    "    crosssection.SetEmin(1,0.001)\n",
    "    crosssection.SetEMax(1,4999.999)\n",
    "\n",
    "    if verbose == 1:\n",
    "        print('CrossSection choosen: '+ str(crosssection.ReactionsChoosen))\n",
    "        print('Number of available cross-section data sets: '+ str(crosssection.Count))\n",
    "\n",
    "\n",
    "def Dspectra(spectrum,verbose):\n",
    "\n",
    "    spectrum = win32com.client.Dispatch('Simnra.Spectrum')\n",
    "\n",
    "\n",
    "def Dsimulation(application,spectrum,verbose):\n",
    "\n",
    "    application.CalculateSpectrum()\n",
    "\n",
    "    if verbose == 1:\n",
    "        print('Number of Channels: '+str(spectrum.NumberOfChannels(2)))"
   ]
  },
  {
   "cell_type": "code",
   "execution_count": null,
   "metadata": {},
   "outputs": [],
   "source": [
    "def calculate_spectra(iterations,verbose,clear):\n",
    "\n",
    "    for _ in range(iterations):\n",
    "\n",
    "        application = win32com.client.Dispatch('Simnra.App')\n",
    "        setup = win32com.client.Dispatch('Simnra.Setup')\n",
    "        target = win32com.client.Dispatch('Simnra.Target')\n",
    "        projectile = win32com.client.Dispatch('Simnra.Projectile')\n",
    "        crosssection = win32com.client.Dispatch('Simnra.CrossSec')\n",
    "        spectrum = win32com.client.Dispatch('Simnra.Spectrum')\n",
    "\n",
    "        assignments =[#  (['C','CaF'],[1,1/3,2/3],[np.random.uniform(900,1100),np.random.uniform(100,200)]),\n",
    "                        (['Pb'],[1],[np.random.uniform(1150,1700),0]),\n",
    "                        (['Au'],[1],[np.random.uniform(850,950),0]),\n",
    "                        (['Sn'],[1],[np.random.uniform(920,3140),0])#,\n",
    "                        #(['Sn','Al'],[1,1],[np.random.uniform(850,2770),np.random.uniform(1960,4640)]),\n",
    "                        #(['HCO','CaF'],[0.53,0.33,0.13,1],[np.random.uniform(850,2770),np.random.uniform(1960,4640)])  \n",
    "                     ]\n",
    "        \n",
    "        selected= random.choice(assignments)\n",
    "        listelement,concentration,thickness = selected\n",
    "        calibration=1\n",
    "        #energy=np.random.uniform(1800,2000)\n",
    "        #theta=np.random.choice([140,165])\n",
    "        #particle = np.random.choice(['He','H'])\n",
    "\n",
    "        #################################################################\n",
    "\n",
    "        Dsimnra(application,verbose)\n",
    "\n",
    "        Dsetup(setup,2000,165,calibration,verbose)\n",
    "\n",
    "        Dtarget(target,listelement,thickness,concentration,verbose)\n",
    "        \n",
    "        Dprojectile(projectile,'He',verbose)\n",
    "\n",
    "        Dcrossec(crosssection,verbose)\n",
    "\n",
    "        Dspectra(spectrum,verbose)\n",
    "\n",
    "        Dsimulation(application,spectrum,verbose)\n",
    "\n",
    "        #################################################################\n",
    "\n",
    "        datalist=list(spectrum.GetDataArray(2))\n",
    "        size=len(datalist)\n",
    "        while size<2800:\n",
    "            datalist.append(0.0)\n",
    "            size+=1\n",
    "\n",
    "        elementlabel = \"\".join(listelement)\n",
    "        labelslist=[thickness[0],thickness[1],elementlabel]\n",
    "        \n",
    "        with open('datatest.txt', 'a') as file:\n",
    "            list_as_string = ' '.join(map(str, datalist))\n",
    "            file.write(list_as_string)\n",
    "            file.write('\\n')\n",
    "        with open('labelstest.txt', 'a') as file:\n",
    "            list_as_string = ' '.join(map(str, labelslist))\n",
    "            file.write(list_as_string)\n",
    "            file.write('\\n')\n",
    "\n",
    "        print()\n",
    "        print()\n",
    "        if clear == 1:  \n",
    "            clear_output()"
   ]
  },
  {
   "cell_type": "code",
   "execution_count": null,
   "metadata": {},
   "outputs": [],
   "source": [
    "calculate_spectra(iterations=1,verbose=1,clear=0)"
   ]
  },
  {
   "cell_type": "markdown",
   "metadata": {},
   "source": [
    "# Experimental data treatment"
   ]
  },
  {
   "cell_type": "markdown",
   "metadata": {},
   "source": [
    "Converts the experimental runs into a format that is readable in SIMNRA. To choose the files, adjust the directory and number of runs."
   ]
  },
  {
   "cell_type": "code",
   "execution_count": null,
   "metadata": {},
   "outputs": [],
   "source": [
    "for i in range(13,14):\n",
    "    fi = open('./RBS_Runs/2022_23Nov_Pb/1122/alfas/RBS1run'+str(i)+'.dat', 'r')\n",
    "    fo = open('./RBS_Runs/2022_23Nov_Pb/1122/alfas/RBS1run'+str(i)+'_sort.dat',\"w\")\n",
    "\n",
    "    i=0\n",
    "    j=-1\n",
    "    array = []\n",
    "    data = []\n",
    "    for line in fi:\n",
    "        try:\n",
    "            array.append([int(x) for x in line.split()])\n",
    "            for val in array[i]:\n",
    "                if (j>0): fo.write(\"%i %i \\n\" % (j,val))\n",
    "        #\t\tdata[j]= val\n",
    "                j= j+1\n",
    "            i = i+1\n",
    "        except:\n",
    "            fo.close()\n",
    "\n",
    "    fo.close()"
   ]
  }
 ],
 "metadata": {
  "kernelspec": {
   "display_name": "Python 3",
   "language": "python",
   "name": "python3"
  },
  "language_info": {
   "codemirror_mode": {
    "name": "ipython",
    "version": 3
   },
   "file_extension": ".py",
   "mimetype": "text/x-python",
   "name": "python",
   "nbconvert_exporter": "python",
   "pygments_lexer": "ipython3",
   "version": "3.9.13"
  }
 },
 "nbformat": 4,
 "nbformat_minor": 2
}
