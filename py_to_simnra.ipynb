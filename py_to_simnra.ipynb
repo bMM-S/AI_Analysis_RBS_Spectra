{
 "cells": [
  {
   "cell_type": "markdown",
   "metadata": {},
   "source": [
    "# Imports"
   ]
  },
  {
   "cell_type": "code",
   "execution_count": 3,
   "metadata": {},
   "outputs": [],
   "source": [
    "import win32com.client\n",
    "import numpy as np\n",
    "import time\n",
    "import os\n",
    "from IPython.display import display, Javascript\n",
    "from IPython import get_ipython"
   ]
  },
  {
   "cell_type": "markdown",
   "metadata": {},
   "source": [
    "# OLE Python-Simrna\n",
    "This section was designed to perform tests and understand how to connect Python with Simnra. Each code cell does one thing, and if all cells are executed, it should perform right. For obvious reasons, there is a need to design a script which generates multiple spectra automatically, since this ipynb file needs to be run cell by cell. To execute it automatically, check the last Section"
   ]
  },
  {
   "cell_type": "markdown",
   "metadata": {},
   "source": [
    "## Simnra.App"
   ]
  },
  {
   "cell_type": "markdown",
   "metadata": {},
   "source": [
    "### App initialization"
   ]
  },
  {
   "cell_type": "code",
   "execution_count": null,
   "metadata": {},
   "outputs": [],
   "source": [
    "application = win32com.client.Dispatch('Simnra.App')\n",
    "#application.Reset()\n",
    "application.Show()"
   ]
  },
  {
   "cell_type": "code",
   "execution_count": null,
   "metadata": {},
   "outputs": [],
   "source": [
    "print('Simrna version: '+application.Version)"
   ]
  },
  {
   "cell_type": "markdown",
   "metadata": {},
   "source": [
    "## Simnra.Setup"
   ]
  },
  {
   "cell_type": "markdown",
   "metadata": {},
   "source": [
    "### Setup initialization"
   ]
  },
  {
   "cell_type": "code",
   "execution_count": null,
   "metadata": {},
   "outputs": [],
   "source": [
    "setup = win32com.client.Dispatch('Simnra.Setup')"
   ]
  },
  {
   "cell_type": "markdown",
   "metadata": {},
   "source": [
    "### Setup settings"
   ]
  },
  {
   "cell_type": "code",
   "execution_count": null,
   "metadata": {},
   "outputs": [],
   "source": [
    "setup.Alpha = np.random.uniform(0,5) #incident angle\n",
    "time.sleep(0.5)\n",
    "setup.Energy = np.random.uniform(1400,2000) #beam energy\n",
    "time.sleep(0.5)\n",
    "setup.Theta = np.random.uniform(135,165) #exit angle"
   ]
  },
  {
   "cell_type": "code",
   "execution_count": null,
   "metadata": {},
   "outputs": [],
   "source": [
    "print('Incident angle \\u03B1 (deg): '+str(setup.Alpha))\n",
    "print('Energy (keV): '+str(setup.Energy))\n",
    "print('Scattering angle \\u03B8 (deg): '+str(setup.Theta))"
   ]
  },
  {
   "cell_type": "markdown",
   "metadata": {},
   "source": [
    "## Simnra.Target"
   ]
  },
  {
   "cell_type": "markdown",
   "metadata": {},
   "source": [
    "### Target initialization\n"
   ]
  },
  {
   "cell_type": "code",
   "execution_count": null,
   "metadata": {},
   "outputs": [],
   "source": [
    "target = win32com.client.Dispatch('Simnra.Target')"
   ]
  },
  {
   "cell_type": "markdown",
   "metadata": {},
   "source": [
    "### Target settings"
   ]
  },
  {
   "cell_type": "code",
   "execution_count": null,
   "metadata": {},
   "outputs": [],
   "source": [
    "listofelements= [\"Ge\",\"Si\",\"Au\"] #to be completed\n",
    "element = np.random.choice(listofelements)\n",
    "thick = np.random.uniform(100,500)\n",
    "print('Element: ' +str(element))\n",
    "print('Thickness: '+str(thick))"
   ]
  },
  {
   "cell_type": "code",
   "execution_count": null,
   "metadata": {},
   "outputs": [],
   "source": [
    "#ensure that the target only has 1 layer\n",
    "target.DeleteAllLayer()\n",
    "time.sleep(0.25)\n",
    "for i in range(target.TotalNumberOfElements):\n",
    "    target.DeleteElement(1,i)\n",
    "    time.sleep(0.25)\n",
    "target.AddLayer()\n",
    "time.sleep(0.5)\n",
    "target.SetLayerThickness(1,thick) #set layer thickness\n",
    "time.sleep(0.5)\n",
    "target.AddElement(1) #add element (element has to be defined)\n",
    "time.sleep(0.5)\n",
    "target.SetElementName(1,1,element) #set element name\n",
    "time.sleep(0.5)\n",
    "target.SetElementConcentration(1,1,1) #set element concentration"
   ]
  },
  {
   "cell_type": "code",
   "execution_count": null,
   "metadata": {},
   "outputs": [],
   "source": [
    "print('Number of layers: '+ str(target.NumberOfLayers))\n",
    "print('Number of elements: '+ str(target.TotalNumberOfElements))\n",
    "print('Elements present: '+str([target.ElementName(1,i+1) for i in range(target.TotalNumberOfElements)]))\n",
    "print('Concentration of elements: '+str([(target.ElementName(1,i+1),target.GetElementConcentration(1,i+1)) for i in range(target.TotalNumberOfElements)]))\n",
    "print('Target thickness: '+str(target.Thickness))"
   ]
  },
  {
   "cell_type": "markdown",
   "metadata": {},
   "source": [
    "### Target reset (if needed)"
   ]
  },
  {
   "cell_type": "code",
   "execution_count": null,
   "metadata": {},
   "outputs": [],
   "source": [
    "target.DeleteAllLayer()\n",
    "for i in range(target.TotalNumberOfElements):\n",
    "    target.DeleteElement(1,i)\n",
    "target.AddLayer()"
   ]
  },
  {
   "cell_type": "markdown",
   "metadata": {},
   "source": [
    "## Simnra.CrossSec"
   ]
  },
  {
   "cell_type": "markdown",
   "metadata": {},
   "source": [
    "### Cross Section initialization"
   ]
  },
  {
   "cell_type": "code",
   "execution_count": null,
   "metadata": {},
   "outputs": [],
   "source": [
    "crosssection = win32com.client.Dispatch('Simnra.CrossSec')"
   ]
  },
  {
   "cell_type": "markdown",
   "metadata": {},
   "source": [
    "### Cross Section settings"
   ]
  },
  {
   "cell_type": "code",
   "execution_count": null,
   "metadata": {},
   "outputs": [],
   "source": [
    "crosssection.SelectRutherfordAll()\n",
    "crosssection.SetEmin(1,0.001)\n",
    "crosssection.SetEMax(1,4999.999)"
   ]
  },
  {
   "cell_type": "code",
   "execution_count": null,
   "metadata": {},
   "outputs": [],
   "source": [
    "print('CrossSection choosen: '+ str(crosssection.ReactionsChoosen))\n",
    "print('Number of available cross-section data sets: '+ str(crosssection.Count))"
   ]
  },
  {
   "cell_type": "markdown",
   "metadata": {},
   "source": [
    "## Simnra.Spectrum"
   ]
  },
  {
   "cell_type": "markdown",
   "metadata": {},
   "source": [
    "### Spectrum initialization"
   ]
  },
  {
   "cell_type": "code",
   "execution_count": null,
   "metadata": {},
   "outputs": [],
   "source": [
    "spectrum = win32com.client.Dispatch('Simnra.Spectrum')"
   ]
  },
  {
   "cell_type": "markdown",
   "metadata": {},
   "source": [
    "### Spectrum settings"
   ]
  },
  {
   "cell_type": "markdown",
   "metadata": {},
   "source": [
    "## Calculate Spectra"
   ]
  },
  {
   "cell_type": "code",
   "execution_count": null,
   "metadata": {},
   "outputs": [],
   "source": [
    "application.CalculateSpectrum()"
   ]
  },
  {
   "cell_type": "markdown",
   "metadata": {},
   "source": [
    "## Data exporting"
   ]
  },
  {
   "cell_type": "code",
   "execution_count": null,
   "metadata": {},
   "outputs": [],
   "source": [
    "spectra_data=[]\n",
    "labels_data=[]"
   ]
  },
  {
   "cell_type": "code",
   "execution_count": null,
   "metadata": {},
   "outputs": [],
   "source": [
    "data=spectrum.GetDataArray(2)\n",
    "data=list(data)\n",
    "spectra_data.append(data)\n",
    "aux=[]\n",
    "aux=[setup.Alpha,setup.Energy,setup.Theta,target.Thickness,[list((target.ElementName(1,i+1),target.GetElementConcentration(1,i+1))) for i in range(target.TotalNumberOfElements)]]\n",
    "labels_data.append(aux)"
   ]
  },
  {
   "cell_type": "code",
   "execution_count": null,
   "metadata": {},
   "outputs": [],
   "source": [
    "data = 'spectra_data.txt'\n",
    "labels = 'labels_data.txt'\n",
    "with open(data, 'w') as file:\n",
    "    list_as_string = '\\n'.join(map(str, spectra_data))\n",
    "    file.write(list_as_string)\n",
    "with open(labels, 'w') as file:\n",
    "    list_as_string = '\\n'.join(map(str, labels_data))\n",
    "    file.write(list_as_string)"
   ]
  },
  {
   "cell_type": "markdown",
   "metadata": {},
   "source": [
    "## Reset objects"
   ]
  },
  {
   "cell_type": "markdown",
   "metadata": {},
   "source": [
    "This is just an idea of how it might be possible to have only one instance of the SIMNRA running for all the spectra generation instead of one instance of the SIMNRA for each spectra generation"
   ]
  },
  {
   "cell_type": "code",
   "execution_count": null,
   "metadata": {},
   "outputs": [],
   "source": [
    "setup,target,spectrum,crosssection = None,None,None,None"
   ]
  },
  {
   "cell_type": "markdown",
   "metadata": {},
   "source": [
    "# Automatically Spectra Generation\n",
    "**Note:** don't forget to run the cell that contains all the imports necessary in order to run the code, located in the first Section \"Imports\"."
   ]
  },
  {
   "cell_type": "markdown",
   "metadata": {},
   "source": [
    "Generate .txt files where the data will be stored and initialize lists for further use.\n",
    "\n",
    "**Caution:** running this will overwrite the data.txt and labels.txt files if they already exist, which can lead into losing all the spectra data!"
   ]
  },
  {
   "cell_type": "code",
   "execution_count": null,
   "metadata": {},
   "outputs": [],
   "source": [
    "f= open('labels.txt', 'w')\n",
    "f= open('data.txt', 'w')"
   ]
  },
  {
   "cell_type": "markdown",
   "metadata": {},
   "source": [
    "## Code"
   ]
  },
  {
   "cell_type": "code",
   "execution_count": null,
   "metadata": {},
   "outputs": [],
   "source": [
    "iterations=2 #number of iterations\n",
    "\n",
    "for _ in range(iterations):\n",
    "    #start simnra\n",
    "\n",
    "    application = win32com.client.Dispatch('Simnra.App')\n",
    "    application.Show()\n",
    "\n",
    "    #################################################################\n",
    "\n",
    "    #start setup\n",
    "\n",
    "    time.sleep(2)\n",
    "    setup = win32com.client.Dispatch('Simnra.Setup')\n",
    "\n",
    "    #setup settings\n",
    "\n",
    "    time.sleep(0.25)\n",
    "    setup.Alpha = np.random.uniform(0,5) #incident angle\n",
    "\n",
    "    time.sleep(0.25)\n",
    "    setup.Energy = np.random.uniform(1400,2000) #beam energy\n",
    "\n",
    "    time.sleep(0.25)\n",
    "    setup.Theta = np.random.uniform(135,165) #exit angle\n",
    "\n",
    "\n",
    "    print('Incident angle \\u03B1 (deg): '+str(setup.Alpha))\n",
    "    print('Energy (keV): '+str(setup.Energy))\n",
    "    print('Scattering angle \\u03B8 (deg): '+str(setup.Theta))\n",
    "    print()\n",
    "\n",
    "    #################################################################\n",
    "\n",
    "    #start target\n",
    "\n",
    "    target = win32com.client.Dispatch('Simnra.Target')\n",
    "\n",
    "    #target settings\n",
    "\n",
    "    listofelements= [\"Ge\",\"Si\",\"Au\"] #list of elements\n",
    "    element = np.random.choice(listofelements) #pick an element\n",
    "    thick = np.random.uniform(100,500) #layer thickness\n",
    "\n",
    "    #ensure that the target only has 1 layer\n",
    "\n",
    "    target.DeleteAllLayer()\n",
    "    time.sleep(0.25)\n",
    "    for i in range(target.TotalNumberOfElements):\n",
    "        target.DeleteElement(1,i)\n",
    "        time.sleep(0.25)\n",
    "    target.AddLayer()\n",
    "    time.sleep(0.5)\n",
    "\n",
    "    #layer settings\n",
    "\n",
    "    target.SetLayerThickness(1,thick) #set layer thickness\n",
    "    time.sleep(0.4)\n",
    "    target.AddElement(1) #add empty element\n",
    "    time.sleep(0.4)\n",
    "    target.SetElementName(1,1,element) #set element name\n",
    "    time.sleep(0.4)\n",
    "    target.SetElementConcentration(1,1,1) #set element concentration\n",
    "\n",
    "\n",
    "    print('Number of layers: '+ str(target.NumberOfLayers))\n",
    "    print('Number of elements: '+ str(target.TotalNumberOfElements))\n",
    "    print('Elements present: '+str([target.ElementName(1,i+1) for i in range(target.TotalNumberOfElements)]))\n",
    "    print('Concentration of elements: '+str([(target.ElementName(1,i+1),target.GetElementConcentration(1,i+1)) for i in range(target.TotalNumberOfElements)]))\n",
    "    print('Target thickness: '+str(target.Thickness))\n",
    "    print()\n",
    "\n",
    "    #################################################################\n",
    "\n",
    "    #start cross section\n",
    "\n",
    "    crosssection = win32com.client.Dispatch('Simnra.CrossSec')\n",
    "\n",
    "    #cross section settings\n",
    "\n",
    "    time.sleep(0.5)\n",
    "    crosssection.SelectRutherfordAll()\n",
    "\n",
    "    time.sleep(0.5)\n",
    "    crosssection.SetEmin(1,0.001)\n",
    "    crosssection.SetEMax(1,4999.999)\n",
    "\n",
    "\n",
    "    print('CrossSection choosen: '+ str(crosssection.ReactionsChoosen))\n",
    "    print('Number of available cross-section data sets: '+ str(crosssection.Count))\n",
    "\n",
    "    #################################################################\n",
    "\n",
    "    #start spectrum\n",
    "\n",
    "    spectrum = win32com.client.Dispatch('Simnra.Spectrum')\n",
    "\n",
    "    #calculate spectrum\n",
    "\n",
    "    application.CalculateSpectrum()\n",
    "\n",
    "\n",
    "    #data exporting\n",
    "\n",
    "    datalist=list(spectrum.GetDataArray(2))\n",
    "    labelslist=[setup.Alpha,setup.Energy,setup.Theta,target.Thickness,[list((target.ElementName(1,i+1),target.GetElementConcentration(1,i+1))) for i in range(target.TotalNumberOfElements)]]\n",
    "\n",
    "\n",
    "    with open('data.txt', 'a') as file:\n",
    "        list_as_string = '\\n'.join(map(str, datalist))\n",
    "        file.write('['+list_as_string+']')\n",
    "    with open('labels.txt', 'a') as file:\n",
    "        list_as_string = '\\n'.join(map(str, labelslist))\n",
    "        file.write('['+list_as_string+']\\n')\n",
    "\n",
    "\n",
    "    print()\n",
    "    print()\n",
    "    print()\n",
    "    print()\n",
    "    print()"
   ]
  }
 ],
 "metadata": {
  "kernelspec": {
   "display_name": "Python 3",
   "language": "python",
   "name": "python3"
  },
  "language_info": {
   "codemirror_mode": {
    "name": "ipython",
    "version": 3
   },
   "file_extension": ".py",
   "mimetype": "text/x-python",
   "name": "python",
   "nbconvert_exporter": "python",
   "pygments_lexer": "ipython3",
   "version": "3.9.7"
  }
 },
 "nbformat": 4,
 "nbformat_minor": 2
}
