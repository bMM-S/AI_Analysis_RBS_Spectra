{
 "cells": [
  {
   "cell_type": "markdown",
   "metadata": {},
   "source": [
    "# Imports"
   ]
  },
  {
   "cell_type": "code",
   "execution_count": 1,
   "metadata": {},
   "outputs": [],
   "source": [
    "import win32com.client\n",
    "import pythoncom\n",
    "import numpy as np\n",
    "import time"
   ]
  },
  {
   "cell_type": "markdown",
   "metadata": {},
   "source": [
    "# OLE Python-Simrna"
   ]
  },
  {
   "cell_type": "markdown",
   "metadata": {},
   "source": [
    "## Simnra.App"
   ]
  },
  {
   "cell_type": "markdown",
   "metadata": {},
   "source": [
    "### App initialization"
   ]
  },
  {
   "cell_type": "code",
   "execution_count": 2,
   "metadata": {},
   "outputs": [],
   "source": [
    "application = win32com.client.Dispatch('Simnra.App')\n",
    "#application.Reset()\n",
    "application.Show()"
   ]
  },
  {
   "cell_type": "code",
   "execution_count": 3,
   "metadata": {},
   "outputs": [
    {
     "name": "stdout",
     "output_type": "stream",
     "text": [
      "Simrna version: 7.03\n"
     ]
    }
   ],
   "source": [
    "print('Simrna version: '+application.Version)"
   ]
  },
  {
   "cell_type": "markdown",
   "metadata": {},
   "source": [
    "## Simnra.Setup"
   ]
  },
  {
   "cell_type": "markdown",
   "metadata": {},
   "source": [
    "### Setup initialization"
   ]
  },
  {
   "cell_type": "code",
   "execution_count": 4,
   "metadata": {},
   "outputs": [],
   "source": [
    "setup = win32com.client.Dispatch('Simnra.Setup')"
   ]
  },
  {
   "cell_type": "markdown",
   "metadata": {},
   "source": [
    "### Setup settings"
   ]
  },
  {
   "cell_type": "code",
   "execution_count": 5,
   "metadata": {},
   "outputs": [],
   "source": [
    "setup.Alpha = np.random.uniform(0,5) #incident angle\n",
    "time.sleep(0.5)\n",
    "setup.Energy = np.random.uniform(1400,2000) #beam energy\n",
    "time.sleep(0.5)\n",
    "setup.Theta = np.random.uniform(135,165) #exit angle"
   ]
  },
  {
   "cell_type": "code",
   "execution_count": 6,
   "metadata": {},
   "outputs": [
    {
     "name": "stdout",
     "output_type": "stream",
     "text": [
      "Incident angle α (deg): 2.566259160253639\n",
      "Energy (keV): 1872.199611821756\n",
      "Scattering angle θ (deg): 156.01253819612117\n"
     ]
    }
   ],
   "source": [
    "print('Incident angle \\u03B1 (deg): '+str(setup.Alpha))\n",
    "print('Energy (keV): '+str(setup.Energy))\n",
    "print('Scattering angle \\u03B8 (deg): '+str(setup.Theta))"
   ]
  },
  {
   "cell_type": "markdown",
   "metadata": {},
   "source": [
    "## Simnra.Target"
   ]
  },
  {
   "cell_type": "markdown",
   "metadata": {},
   "source": [
    "### Target initialization\n"
   ]
  },
  {
   "cell_type": "code",
   "execution_count": 7,
   "metadata": {},
   "outputs": [],
   "source": [
    "target = win32com.client.Dispatch('Simnra.Target')"
   ]
  },
  {
   "cell_type": "markdown",
   "metadata": {},
   "source": [
    "### Target settings"
   ]
  },
  {
   "cell_type": "code",
   "execution_count": 8,
   "metadata": {},
   "outputs": [
    {
     "name": "stdout",
     "output_type": "stream",
     "text": [
      "Element: Si\n",
      "Thickness: 290.5657772194227\n"
     ]
    }
   ],
   "source": [
    "listofelements= [\"Ge\",\"Si\",\"Au\"] #to be completed\n",
    "element = np.random.choice(listofelements)\n",
    "thick = np.random.uniform(100,500)\n",
    "print('Element: ' +str(element))\n",
    "print('Thickness: '+str(thick))"
   ]
  },
  {
   "cell_type": "code",
   "execution_count": 9,
   "metadata": {},
   "outputs": [],
   "source": [
    "#ensure that the target only has 1 layer\n",
    "target.DeleteAllLayer()\n",
    "time.sleep(0.25)\n",
    "for i in range(target.TotalNumberOfElements):\n",
    "    target.DeleteElement(1,i)\n",
    "    time.sleep(0.25)\n",
    "target.AddLayer()\n",
    "time.sleep(0.5)\n",
    "target.SetLayerThickness(1,thick) #set layer thickness\n",
    "time.sleep(0.5)\n",
    "target.AddElement(1) #add element (element has to be defined)\n",
    "time.sleep(0.5)\n",
    "target.SetElementName(1,1,element) #set element name\n",
    "time.sleep(0.5)\n",
    "target.SetElementConcentration(1,1,1) #set element concentration"
   ]
  },
  {
   "cell_type": "code",
   "execution_count": 10,
   "metadata": {},
   "outputs": [
    {
     "name": "stdout",
     "output_type": "stream",
     "text": [
      "Number of layers: 1\n",
      "Number of elements: 1\n",
      "Elements present: ['Si']\n",
      "Concentration of elements: [('Si', 1.0)]\n",
      "Target thickness: 290.5657772194227\n"
     ]
    }
   ],
   "source": [
    "print('Number of layers: '+ str(target.NumberOfLayers))\n",
    "print('Number of elements: '+ str(target.TotalNumberOfElements))\n",
    "print('Elements present: '+str([target.ElementName(1,i+1) for i in range(target.TotalNumberOfElements)]))\n",
    "print('Concentration of elements: '+str([(target.ElementName(1,i+1),target.GetElementConcentration(1,i+1)) for i in range(target.TotalNumberOfElements)]))\n",
    "print('Target thickness: '+str(target.Thickness))"
   ]
  },
  {
   "cell_type": "markdown",
   "metadata": {},
   "source": [
    "### Target reset (if needed)"
   ]
  },
  {
   "cell_type": "code",
   "execution_count": 10,
   "metadata": {},
   "outputs": [
    {
     "data": {
      "text/plain": [
       "True"
      ]
     },
     "execution_count": 10,
     "metadata": {},
     "output_type": "execute_result"
    }
   ],
   "source": [
    "target.DeleteAllLayer()\n",
    "for i in range(target.TotalNumberOfElements):\n",
    "    target.DeleteElement(1,i)\n",
    "target.AddLayer()"
   ]
  },
  {
   "cell_type": "markdown",
   "metadata": {},
   "source": [
    "## Simnra.Spectrum and Simnra.CrossSec"
   ]
  },
  {
   "cell_type": "markdown",
   "metadata": {},
   "source": [
    "### Spectrum and Cross Section initialization"
   ]
  },
  {
   "cell_type": "code",
   "execution_count": 11,
   "metadata": {},
   "outputs": [],
   "source": [
    "spectrum = win32com.client.Dispatch('Simnra.Spectrum')\n",
    "crosssection = win32com.client.Dispatch('Simnra.CrossSec')"
   ]
  },
  {
   "cell_type": "markdown",
   "metadata": {},
   "source": [
    "### Spectrum and Cross Section settings"
   ]
  },
  {
   "cell_type": "code",
   "execution_count": 12,
   "metadata": {},
   "outputs": [
    {
     "name": "stdout",
     "output_type": "stream",
     "text": [
      "CrossSection choosen: True\n",
      "31\n"
     ]
    }
   ],
   "source": [
    "crosssection.SelectRutherfordAll()\n",
    "print('CrossSection choosen: '+ str(crosssection.ReactionsChoosen))\n",
    "print(crosssection.Count)"
   ]
  },
  {
   "cell_type": "code",
   "execution_count": 13,
   "metadata": {},
   "outputs": [],
   "source": [
    "crosssection.SetEmin(1,0.001)\n",
    "crosssection.SetEMax(1,4999.999)"
   ]
  },
  {
   "cell_type": "markdown",
   "metadata": {},
   "source": [
    "## Calculate Spectra"
   ]
  },
  {
   "cell_type": "code",
   "execution_count": 17,
   "metadata": {},
   "outputs": [],
   "source": [
    "application.CalculateSpectrum()"
   ]
  },
  {
   "cell_type": "code",
   "execution_count": 45,
   "metadata": {},
   "outputs": [],
   "source": [
    "spectra_data=[]\n",
    "labels_data=[]"
   ]
  },
  {
   "cell_type": "code",
   "execution_count": 48,
   "metadata": {},
   "outputs": [],
   "source": [
    "data=spectrum.GetDataArray(2)\n",
    "data=list(data)\n",
    "spectra_data.append(data)\n",
    "aux=[]\n",
    "aux=[setup.Alpha,setup.Energy,setup.Theta,target.Thickness,[list((target.ElementName(1,i+1),target.GetElementConcentration(1,i+1))) for i in range(target.TotalNumberOfElements)]]\n",
    "labels_data.append(aux)"
   ]
  },
  {
   "cell_type": "code",
   "execution_count": 49,
   "metadata": {},
   "outputs": [],
   "source": [
    "data = 'spectra_data.txt'\n",
    "labels = 'labels_data.txt'\n",
    "with open(data, 'w') as file:\n",
    "    list_as_string = '\\n'.join(map(str, spectra_data))\n",
    "    file.write(list_as_string)\n",
    "with open(labels, 'w') as file:\n",
    "    list_as_string = '\\n'.join(map(str, labels_data))\n",
    "    file.write(list_as_string)"
   ]
  },
  {
   "cell_type": "markdown",
   "metadata": {},
   "source": [
    "## Reset objects"
   ]
  },
  {
   "cell_type": "code",
   "execution_count": 51,
   "metadata": {},
   "outputs": [],
   "source": [
    "setup,target,spectrum,crosssection = None,None,None,None"
   ]
  }
 ],
 "metadata": {
  "kernelspec": {
   "display_name": "Python 3",
   "language": "python",
   "name": "python3"
  },
  "language_info": {
   "codemirror_mode": {
    "name": "ipython",
    "version": 3
   },
   "file_extension": ".py",
   "mimetype": "text/x-python",
   "name": "python",
   "nbconvert_exporter": "python",
   "pygments_lexer": "ipython3",
   "version": "3.8.8"
  }
 },
 "nbformat": 4,
 "nbformat_minor": 2
}
