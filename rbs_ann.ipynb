{
 "cells": [
  {
   "cell_type": "markdown",
   "metadata": {},
   "source": [
    "# Imports and aux functions"
   ]
  },
  {
   "cell_type": "code",
   "execution_count": 1,
   "metadata": {},
   "outputs": [
    {
     "name": "stderr",
     "output_type": "stream",
     "text": [
      "2023-09-27 12:16:17.507034: I tensorflow/core/platform/cpu_feature_guard.cc:182] This TensorFlow binary is optimized to use available CPU instructions in performance-critical operations.\n",
      "To enable the following instructions: AVX2 AVX512F AVX512_VNNI FMA, in other operations, rebuild TensorFlow with the appropriate compiler flags.\n"
     ]
    }
   ],
   "source": [
    "import os\n",
    "import numpy as np\n",
    "import matplotlib.pyplot as plt\n",
    "import pandas as pd\n",
    "from sklearn.model_selection import train_test_split\n",
    "import tensorflow as tf\n",
    "from tensorflow import keras\n",
    "from tensorflow.keras import layers\n",
    "np.set_printoptions(threshold=np.inf)\n",
    "#from tensorflow.keras.utils import plot_model\n",
    "from sklearn.preprocessing import OneHotEncoder\n",
    "from scipy.optimize import curve_fit\n",
    "from scipy import interpolate\n",
    "from keras.utils import plot_model\n",
    "import IPython"
   ]
  },
  {
   "cell_type": "code",
   "execution_count": 2,
   "metadata": {},
   "outputs": [],
   "source": [
    "def round_to_nearest(number, lower_limit, upper_limit):\n",
    "    diff_lower = abs(number - lower_limit)\n",
    "    diff_upper = abs(number - upper_limit)\n",
    "    \n",
    "    if diff_lower < diff_upper:\n",
    "        return lower_limit\n",
    "    else:\n",
    "        return upper_limit\n",
    "\n",
    "def mean_squared_difference(list1, list2):\n",
    "    if len(list1) != len(list2):\n",
    "        raise ValueError(\"Lists must have the same length\")\n",
    "    \n",
    "    squared_differences = [(x - y) ** 2 for x, y in zip(list1, list2)]\n",
    "    mean_squared_diff = sum(squared_differences) / len(list1)\n",
    "    \n",
    "    return mean_squared_diff\n",
    "\n",
    "def accuracy(true_labels, predicted_labels):\n",
    "    if len(true_labels) != len(predicted_labels):\n",
    "        raise ValueError(\"Lists must have the same length\")\n",
    "    \n",
    "    correct_predictions = sum(1 for true, pred in zip(true_labels, predicted_labels) if true == pred)\n",
    "    total_predictions = len(true_labels)\n",
    "    \n",
    "    accuracy_value = correct_predictions / total_predictions\n",
    "    return accuracy_value\n",
    "\n",
    "def select_nth_elements(lists, n):\n",
    "    selected_elements = [lst[n] for lst in lists]\n",
    "    return selected_elements\n",
    "\n",
    "def calculate_accuracy(predictions, values):\n",
    "    sum=0\n",
    "    for i in range(len(predictions)):\n",
    "        if predictions[i][1]== values[i][1] and predictions[i][3] == values[i][3] and predictions[i][4] == values[i][4]:\n",
    "            sum+=1\n",
    "    \n",
    "    accuracy=sum/len(predictions)\n",
    "    return accuracy\n",
    "\n",
    "def linear_function(x, m, b):\n",
    "    return m * x + b\n",
    "\n",
    "def quadratic_function(x, a, b, c):\n",
    "    return a * x**2 + b * x + c\n",
    "\n",
    "def increase_data_points(x_original, y_original, num_new_points):\n",
    "\n",
    "    # Generate new x-values evenly spaced between original points\n",
    "    new_x_values = np.linspace(x_original[0], x_original[-1], int(len(x_original) * (num_new_points + 1)))\n",
    "\n",
    "    # Use linear interpolation to estimate new y-values\n",
    "    f = interpolate.interp1d(x_original, y_original, kind='linear')\n",
    "    new_y_values = f(new_x_values)\n",
    "\n",
    "    return new_x_values, new_y_values\n"
   ]
  },
  {
   "cell_type": "markdown",
   "metadata": {},
   "source": [
    "# ANN to predict thickness of target (tests)"
   ]
  },
  {
   "cell_type": "markdown",
   "metadata": {},
   "source": [
    "## Neural Network with 1 label"
   ]
  },
  {
   "cell_type": "markdown",
   "metadata": {},
   "source": [
    "##### Data reshaping"
   ]
  },
  {
   "cell_type": "code",
   "execution_count": null,
   "metadata": {},
   "outputs": [],
   "source": [
    "with open('./datafiles/data1.txt', 'r') as file:\n",
    "    input_string = file.read()\n",
    "lines = input_string.split('\\n')\n",
    "x = []\n",
    "for line in lines:\n",
    "    values = line.split()\n",
    "    float_values = [float(value) for value in values]\n",
    "    x.append(float_values)\n",
    "del x[len(x)-1]    \n",
    "\n",
    "with open('./datafiles/labels1.txt', 'r') as file:\n",
    "    input_string = file.read()\n",
    "lines = input_string.split('\\n')\n",
    "y = []\n",
    "for line in lines:\n",
    "    values = line.split()\n",
    "    float_values = [float(value) for value in values]\n",
    "    y.append(float_values)\n",
    "\n",
    "del y[len(y)-1]\n",
    "\n",
    "\n",
    "Xx=[]\n",
    "for array in x:\n",
    "    min_val = np.min(array)\n",
    "    max_val = np.max(array)\n",
    "    normalized_array = (array - min_val) / (max_val - min_val)\n",
    "    Xx.append(normalized_array)\n",
    "\n",
    "X=np.array(Xx)\n",
    "Y=np.array(y)\n",
    "\n",
    "a=np.random.randint(0,len(X))\n",
    "b=np.random.randint(0,len(X))\n",
    "xaxis=np.arange(len(X[0]))\n",
    "fig = plt.figure(figsize =(17, 9))\n",
    "plt.plot(xaxis,X[a],'--')\n",
    "print('Blue graph: Thick:'+str(Y[a][0]))\n",
    "plt.plot(xaxis,X[b],'--')\n",
    "print('Orange graph: Thick:'+str(Y[b][0]))\n",
    "plt.title(' 2 Spectras of Au randomly chosen')\n",
    "plt.show()"
   ]
  },
  {
   "cell_type": "markdown",
   "metadata": {},
   "source": [
    "##### Data spliting"
   ]
  },
  {
   "cell_type": "code",
   "execution_count": null,
   "metadata": {},
   "outputs": [],
   "source": [
    "random_state=np.random.randint(0,100)\n",
    "X_train,X_test,y_train,y_test=train_test_split(X,Y,test_size=0.05,random_state=random_state)"
   ]
  },
  {
   "cell_type": "markdown",
   "metadata": {},
   "source": [
    "##### Model training"
   ]
  },
  {
   "cell_type": "code",
   "execution_count": null,
   "metadata": {},
   "outputs": [],
   "source": [
    "random_state=np.random.randint(0,100)\n",
    "X_train,X_test,y_train,y_test=train_test_split(X,Y,test_size=0.05,random_state=random_state)\n",
    "\n",
    "\n",
    "callback = keras.callbacks.EarlyStopping(monitor='loss', patience=15)\n",
    "model=keras.models.Sequential(\n",
    "    [keras.layers.Dense(100,activation='relu',input_shape=(2000,)),\n",
    "     keras.layers.Dense(80,activation='relu'),\n",
    "     keras.layers.Dense(40,activation='relu'),\n",
    "     keras.layers.Dense(1,activation='linear')]\n",
    "     )\n",
    "\n",
    "model.compile(\n",
    "    loss='mean_squared_error', optimizer='adam', metrics=['mae']\n",
    ")\n",
    "\n",
    "epochs = 150\n",
    "batch_size = 32\n",
    "#model.summary()\n",
    "model.fit(X_train,y_train,epochs=epochs,batch_size=batch_size,verbose=1)\n",
    "\n",
    "loss, mae = model.evaluate(X_test, y_test)\n",
    "print(\"Mean Absolute Error:\", mae)\n",
    "predictions=model.predict(X_test)\n",
    "temp_part, temp_thick, temp_angle, temp_target, temp_energy = [], [], [], [], []\n",
    "\n",
    "for i in range(len(predictions)):\n",
    "\n",
    "    temp_thick.append(predictions[i][0] - y_test[i][0])\n"
   ]
  },
  {
   "cell_type": "markdown",
   "metadata": {},
   "source": [
    "##### Graphs"
   ]
  },
  {
   "cell_type": "code",
   "execution_count": null,
   "metadata": {},
   "outputs": [],
   "source": [
    "fig, axs = plt.subplots(2, 2, figsize=(10, 8))\n",
    "\n",
    "# Plot the histograms on each subplot\n",
    "axs[0, 0].hist(temp_thick, bins=10, color='blue', alpha=0.7)\n",
    "axs[0, 0].set_title('Thickness')\n",
    "axs[0, 0].set_xlabel('Predicted-Real')\n",
    "\n",
    "\n",
    "# Adjust layout to prevent overlapping titles and labels\n",
    "plt.tight_layout()\n",
    "\n",
    "# Show the plot\n",
    "plt.show()"
   ]
  },
  {
   "cell_type": "markdown",
   "metadata": {},
   "source": [
    "##### Predictions vs Real values"
   ]
  },
  {
   "cell_type": "code",
   "execution_count": null,
   "metadata": {},
   "outputs": [],
   "source": [
    "for i in range(len(predictions)):\n",
    "\n",
    "    print('Target '+str(i+1)+' :')\n",
    "    print('Thickness: ')\n",
    "    print('P: ' + str(predictions[i][0]) + '. R: ' + str(y_test[i][0]))\n",
    "    print()\n",
    "    print()"
   ]
  },
  {
   "cell_type": "markdown",
   "metadata": {},
   "source": [
    "##### Mean Squared Difference and Accuracy"
   ]
  },
  {
   "cell_type": "code",
   "execution_count": null,
   "metadata": {},
   "outputs": [],
   "source": [
    "print(mean_squared_difference(select_nth_elements(y_test, 0),select_nth_elements(predictions, 0)))"
   ]
  },
  {
   "cell_type": "markdown",
   "metadata": {},
   "source": [
    "## Neural Network with 2 Labels"
   ]
  },
  {
   "cell_type": "markdown",
   "metadata": {},
   "source": [
    "##### Data reshaping"
   ]
  },
  {
   "cell_type": "code",
   "execution_count": null,
   "metadata": {},
   "outputs": [],
   "source": [
    "with open('./datafiles/data2.txt', 'r') as file:\n",
    "    input_string = file.read()\n",
    "lines = input_string.split('\\n')\n",
    "x = []\n",
    "for line in lines:\n",
    "    values = line.split()\n",
    "    float_values = [float(value) for value in values]\n",
    "    x.append(float_values)\n",
    "del x[len(x)-1]    \n",
    "\n",
    "with open('./datafiles/labels2.txt', 'r') as file:\n",
    "    input_string = file.read()\n",
    "lines = input_string.split('\\n')\n",
    "y = []\n",
    "for line in lines:\n",
    "    values = line.split()\n",
    "    float_values = [float(value) for value in values]\n",
    "    y.append(float_values)\n",
    "\n",
    "del y[len(y)-1]\n",
    "\n",
    "\n",
    "Xx=[]\n",
    "for array in x:\n",
    "    min_val = np.min(array)\n",
    "    max_val = np.max(array)\n",
    "    normalized_array = (array - min_val) / (max_val - min_val)\n",
    "    Xx.append(normalized_array)\n",
    "\n",
    "X=np.array(Xx)\n",
    "Y=np.array(y)\n",
    "\n",
    "a=np.random.randint(0,len(X))\n",
    "b=np.random.randint(0,len(X))\n",
    "xaxis=np.arange(len(X[0]))\n",
    "fig = plt.figure(figsize =(17, 9))\n",
    "plt.plot(xaxis,X[a],'--')\n",
    "print('Blue graph: Thick:'+str(Y[a][0])+' Particle: '+str(Y[a][1]))\n",
    "plt.plot(xaxis,X[b],'--')\n",
    "print('Orange graph: Thick:'+str(Y[b][0])+' Particle: '+str(Y[b][1]))\n",
    "plt.title(' 2 Spectras of Au randomly chosen')\n",
    "plt.show()"
   ]
  },
  {
   "cell_type": "markdown",
   "metadata": {},
   "source": [
    "##### Data spliting"
   ]
  },
  {
   "cell_type": "code",
   "execution_count": null,
   "metadata": {},
   "outputs": [],
   "source": [
    "random_state=np.random.randint(0,100)\n",
    "X_train,X_test,y_train,y_test=train_test_split(X,Y,test_size=0.05,random_state=random_state)"
   ]
  },
  {
   "cell_type": "markdown",
   "metadata": {},
   "source": [
    "##### Model training"
   ]
  },
  {
   "cell_type": "code",
   "execution_count": null,
   "metadata": {},
   "outputs": [],
   "source": [
    "callback = keras.callbacks.EarlyStopping(monitor='loss', patience=15)\n",
    "model=keras.models.Sequential(\n",
    "    [keras.layers.Dense(100,activation='relu',input_shape=(2000,)),\n",
    "     keras.layers.Dense(80,activation='relu'),\n",
    "     keras.layers.Dense(50,activation='relu'),\n",
    "     keras.layers.Dense(2,activation='linear')]\n",
    "     )\n",
    "\n",
    "model.compile(\n",
    "    loss='mean_squared_error', optimizer='adam', metrics=['mae']\n",
    ")\n",
    "\n",
    "epochs = 150\n",
    "batch_size = 32\n",
    "#model.summary()\n",
    "model.fit(X_train,y_train,epochs=epochs,batch_size=batch_size,verbose=1)\n",
    "\n",
    "loss, mae = model.evaluate(X_test, y_test)\n",
    "print(\"Mean Absolute Error:\", mae)\n",
    "predictions=model.predict(X_test)\n",
    "temp_part, temp_thick, temp_angle, temp_target, temp_energy = [], [], [], [], []\n",
    "\n",
    "\n",
    "for i in range(len(predictions)):\n",
    "\n",
    "    predictions[i][1]=round_to_nearest(predictions[i][1], 0, 1)\n",
    "\n",
    "    temp_thick.append(predictions[i][0] - y_test[i][0])\n",
    "    temp_part.append(predictions[i][1] - y_test[i][1])"
   ]
  },
  {
   "cell_type": "markdown",
   "metadata": {},
   "source": [
    "##### Graphs"
   ]
  },
  {
   "cell_type": "code",
   "execution_count": null,
   "metadata": {},
   "outputs": [],
   "source": [
    "fig, axs = plt.subplots(2, 2, figsize=(10, 8))\n",
    "\n",
    "# Plot the histograms on each subplot\n",
    "axs[0, 0].hist(temp_thick, bins=20, color='blue', alpha=0.7)\n",
    "axs[0, 0].set_title('Thickness')\n",
    "axs[0, 0].set_xlabel('Predicted-Real')\n",
    "\n",
    "axs[0, 1].hist(temp_part, bins=5, color='green', alpha=0.7)\n",
    "axs[0, 1].set_title('Particle')\n",
    "axs[0, 1].set_xlabel('Predicted-Real')\n",
    "\n",
    "\n",
    "# Adjust layout to prevent overlapping titles and labels\n",
    "plt.tight_layout()\n",
    "\n",
    "# Show the plot\n",
    "plt.show()"
   ]
  },
  {
   "cell_type": "markdown",
   "metadata": {},
   "source": [
    "##### Predictions vs Real values"
   ]
  },
  {
   "cell_type": "code",
   "execution_count": null,
   "metadata": {},
   "outputs": [],
   "source": [
    "for i in range(len(predictions)):\n",
    "\n",
    "    print('Target '+str(i+1)+' :')\n",
    "    print('Thickness: ')\n",
    "    print('P: ' + str(predictions[i][0]) + '. R: ' + str(y_test[i][0]))\n",
    "    print('Particle: ')\n",
    "    print('P: ' + str(predictions[i][1]) + '. R: ' + str(y_test[i][1]))\n",
    "    print()\n",
    "    print()"
   ]
  },
  {
   "cell_type": "markdown",
   "metadata": {},
   "source": [
    "##### Mean Squared Difference and Accuracy"
   ]
  },
  {
   "cell_type": "code",
   "execution_count": null,
   "metadata": {},
   "outputs": [],
   "source": [
    "print(mean_squared_difference(select_nth_elements(y_test, 0),select_nth_elements(predictions, 0)))\n",
    "print(accuracy(select_nth_elements(y_test, 1),select_nth_elements(predictions, 1)))"
   ]
  },
  {
   "cell_type": "markdown",
   "metadata": {},
   "source": [
    "## Neural Network with 3 Labels"
   ]
  },
  {
   "cell_type": "markdown",
   "metadata": {},
   "source": [
    "##### Data reshaping"
   ]
  },
  {
   "cell_type": "code",
   "execution_count": null,
   "metadata": {},
   "outputs": [],
   "source": [
    "with open('./datafiles/data3.txt', 'r') as file:\n",
    "    input_string = file.read()\n",
    "lines = input_string.split('\\n')\n",
    "x = []\n",
    "for line in lines:\n",
    "    values = line.split()\n",
    "    float_values = [float(value) for value in values]\n",
    "    x.append(float_values)\n",
    "del x[len(x)-1]    \n",
    "\n",
    "with open('./datafiles/labels3.txt', 'r') as file:\n",
    "    input_string = file.read()\n",
    "lines = input_string.split('\\n')\n",
    "y = []\n",
    "for line in lines:\n",
    "    values = line.split()\n",
    "    float_values = [float(value) for value in values]\n",
    "    y.append(float_values)\n",
    "\n",
    "del y[len(y)-1]\n",
    "\n",
    "\n",
    "Xx=[]\n",
    "for array in x:\n",
    "    min_val = np.min(array)\n",
    "    max_val = np.max(array)\n",
    "    normalized_array = (array - min_val) / (max_val - min_val)\n",
    "    Xx.append(normalized_array)\n",
    "\n",
    "X=np.array(Xx)\n",
    "Y=np.array(y)\n",
    "\n",
    "a=np.random.randint(0,len(X))\n",
    "b=np.random.randint(0,len(X))\n",
    "xaxis=np.arange(len(X[0]))\n",
    "fig = plt.figure(figsize =(17, 9))\n",
    "plt.plot(xaxis,X[a],'--')\n",
    "plt.plot(xaxis,X[b],'--')\n",
    "print('Blue graph: Thick:'+str(Y[a][0])+' Particle: '+str(Y[a][1])+ ' Energy: '+str(Y[a][2]))\n",
    "print('Orange graph: Thick:'+str(Y[b][0])+' Particle: '+str(Y[b][1])+' Energy: '+str(Y[b][2]))\n",
    "plt.title(' 2 Spectras of Au randomly chosen')\n",
    "plt.show()"
   ]
  },
  {
   "cell_type": "markdown",
   "metadata": {},
   "source": [
    "##### Data spliting"
   ]
  },
  {
   "cell_type": "code",
   "execution_count": null,
   "metadata": {},
   "outputs": [],
   "source": [
    "random_state=np.random.randint(0,100)\n",
    "X_train,X_test,y_train,y_test=train_test_split(X,Y,test_size=0.05,random_state=random_state)"
   ]
  },
  {
   "cell_type": "markdown",
   "metadata": {},
   "source": [
    "##### Model training"
   ]
  },
  {
   "cell_type": "code",
   "execution_count": null,
   "metadata": {},
   "outputs": [],
   "source": [
    "random_state=np.random.randint(0,100)\n",
    "X_train,X_test,y_train,y_test=train_test_split(X,Y,test_size=0.05,random_state=random_state)\n",
    "\n",
    "\n",
    "callback = keras.callbacks.EarlyStopping(monitor='loss', patience=15)\n",
    "model=keras.models.Sequential(\n",
    "    [keras.layers.Dense(100,activation='relu',input_shape=(1000,)),\n",
    "     keras.layers.Dense(80,activation='relu'),\n",
    "     keras.layers.Dense(50,activation='relu'),\n",
    "     keras.layers.Dense(3,activation='linear')]\n",
    "     )\n",
    "\n",
    "model.compile(\n",
    "    loss='mean_squared_error', optimizer='adam', metrics=['mae']\n",
    ")\n",
    "\n",
    "epochs = 150\n",
    "batch_size = 32\n",
    "#model.summary()\n",
    "model.fit(X_train,y_train,epochs=epochs,batch_size=batch_size,verbose=1)\n",
    "\n",
    "loss, mae = model.evaluate(X_test, y_test)\n",
    "print(\"Mean Absolute Error:\", mae)\n",
    "predictions=model.predict(X_test)\n",
    "temp_part, temp_thick, temp_angle, temp_target, temp_energy = [], [], [], [], []\n",
    "\n",
    "\n",
    "for i in range(len(predictions)):\n",
    "\n",
    "    predictions[i][1]=round_to_nearest(predictions[i][1], 0, 1)\n",
    "\n",
    "    temp_thick.append(predictions[i][0] - y_test[i][0])\n",
    "    temp_part.append(predictions[i][1] - y_test[i][1])\n",
    "    temp_energy.append(predictions[i][2] - y_test[i][2])"
   ]
  },
  {
   "cell_type": "markdown",
   "metadata": {},
   "source": [
    "##### Graphs"
   ]
  },
  {
   "cell_type": "code",
   "execution_count": null,
   "metadata": {},
   "outputs": [],
   "source": [
    "fig, axs = plt.subplots(2, 2, figsize=(10, 8))\n",
    "\n",
    "# Plot the histograms on each subplot\n",
    "axs[0, 0].hist(temp_thick, bins=20, color='blue', alpha=0.7)\n",
    "axs[0, 0].set_title('Thickness')\n",
    "axs[0, 0].set_xlabel('Predicted-Real')\n",
    "\n",
    "axs[0, 1].hist(temp_part, bins=5, color='green', alpha=0.7)\n",
    "axs[0, 1].set_title('Particle')\n",
    "axs[0, 1].set_xlabel('Predicted-Real')\n",
    "\n",
    "axs[1,0].hist(temp_energy, bins=20, color='yellow',alpha=0.7)\n",
    "axs[1,0].set_title('Energy')\n",
    "axs[1,0].set_xlabel('Predicted-Real')\n",
    "\n",
    "\n",
    "# Adjust layout to prevent overlapping titles and labels\n",
    "plt.tight_layout()\n",
    "\n",
    "# Show the plot\n",
    "plt.show()"
   ]
  },
  {
   "cell_type": "markdown",
   "metadata": {},
   "source": [
    "##### Predictions vs Real values"
   ]
  },
  {
   "cell_type": "code",
   "execution_count": null,
   "metadata": {},
   "outputs": [],
   "source": [
    "for i in range(len(predictions)):\n",
    "\n",
    "    print('Target '+str(i+1)+' :')\n",
    "    print('Thickness: ')\n",
    "    print('P: ' + str(predictions[i][0]) + '. R: ' + str(y_test[i][0]))\n",
    "    print('Particle: ')\n",
    "    print('P: ' + str(predictions[i][1]) + '. R: ' + str(y_test[i][1]))\n",
    "    print('Energy: ')\n",
    "    print('P: ' + str(predictions[i][2]) + '. R: ' + str(y_test[i][2]))\n",
    "    print()\n",
    "    print()"
   ]
  },
  {
   "cell_type": "markdown",
   "metadata": {},
   "source": [
    "##### Mean Squared Difference and Accuracy"
   ]
  },
  {
   "cell_type": "code",
   "execution_count": null,
   "metadata": {},
   "outputs": [],
   "source": [
    "print(mean_squared_difference(select_nth_elements(y_test, 0),select_nth_elements(predictions, 0)))\n",
    "print(accuracy(select_nth_elements(y_test, 1),select_nth_elements(predictions, 1)))\n",
    "print(mean_squared_difference(select_nth_elements(y_test, 2),select_nth_elements(predictions, 2)))"
   ]
  },
  {
   "cell_type": "markdown",
   "metadata": {},
   "source": [
    "## Neural Network with 4 Labels"
   ]
  },
  {
   "cell_type": "markdown",
   "metadata": {},
   "source": [
    "##### Data reshaping"
   ]
  },
  {
   "cell_type": "code",
   "execution_count": null,
   "metadata": {},
   "outputs": [],
   "source": [
    "with open('./datafiles/data4.txt', 'r') as file:\n",
    "    input_string = file.read()\n",
    "lines = input_string.split('\\n')\n",
    "x = []\n",
    "for line in lines:\n",
    "    values = line.split()\n",
    "    float_values = [float(value) for value in values]\n",
    "    x.append(float_values)\n",
    "del x[len(x)-1]    \n",
    "\n",
    "with open('./datafiles/labels4.txt', 'r') as file:\n",
    "    input_string = file.read()\n",
    "lines = input_string.split('\\n')\n",
    "y = []\n",
    "for line in lines:\n",
    "    values = line.split()\n",
    "    float_values = [float(value) for value in values]\n",
    "    y.append(float_values)\n",
    "\n",
    "del y[len(y)-1]\n",
    "\n",
    "\n",
    "Xx=[]\n",
    "for array in x:\n",
    "    min_val = np.min(array)\n",
    "    max_val = np.max(array)\n",
    "    normalized_array = (array - min_val) / (max_val - min_val)\n",
    "    Xx.append(normalized_array)\n",
    "\n",
    "X=np.array(Xx)\n",
    "Y=np.array(y)\n",
    "\n",
    "a=np.random.randint(0,len(X))\n",
    "b=np.random.randint(0,len(X))\n",
    "xaxis=np.arange(len(X[0]))\n",
    "fig = plt.figure(figsize =(17, 9))\n",
    "plt.plot(xaxis,X[a],'--')\n",
    "print('Blue graph: Thick:'+str(Y[a][0])+' Particle: '+str(Y[a][1])+ ' Energy: '+str(Y[a][2])+' Scatter angle: '+str(Y[a][3]))\n",
    "plt.plot(xaxis,X[b],'--')\n",
    "print('Orange graph: Thick:'+str(Y[b][0])+' Particle: '+str(Y[b][1])+' Energy: '+str(Y[b][2])+' Scatter angle: '+str(Y[b][3]))\n",
    "plt.title(' 2 Spectras of Au randomly chosen')\n",
    "plt.show()"
   ]
  },
  {
   "cell_type": "markdown",
   "metadata": {},
   "source": [
    "##### Data spliting"
   ]
  },
  {
   "cell_type": "code",
   "execution_count": null,
   "metadata": {},
   "outputs": [],
   "source": [
    "random_state=np.random.randint(0,100)\n",
    "X_train,X_test,y_train,y_test=train_test_split(X,Y,test_size=0.05,random_state=random_state)"
   ]
  },
  {
   "cell_type": "markdown",
   "metadata": {},
   "source": [
    "##### Model training"
   ]
  },
  {
   "cell_type": "code",
   "execution_count": null,
   "metadata": {},
   "outputs": [],
   "source": [
    "random_state=np.random.randint(0,100)\n",
    "X_train,X_test,y_train,y_test=train_test_split(X,Y,test_size=0.05,random_state=random_state)\n",
    "\n",
    "\n",
    "callback = keras.callbacks.EarlyStopping(monitor='loss', patience=15)\n",
    "model=keras.models.Sequential(\n",
    "    [keras.layers.Dense(100,activation='relu',input_shape=(1000,)),\n",
    "     keras.layers.Dense(80,activation='relu'),\n",
    "     keras.layers.Dense(50,activation='relu'),\n",
    "     keras.layers.Dense(4,activation='linear')]\n",
    "     )\n",
    "\n",
    "model.compile(\n",
    "    loss='mean_squared_error', optimizer='adam', metrics=['mae']\n",
    ")\n",
    "\n",
    "epochs = 150\n",
    "batch_size = 32\n",
    "#model.summary()\n",
    "model.fit(X_train,y_train,epochs=epochs,batch_size=batch_size,verbose=1)\n",
    "\n",
    "loss, mae = model.evaluate(X_test, y_test)\n",
    "print(\"Mean Absolute Error:\", mae)\n",
    "predictions=model.predict(X_test)\n",
    "temp_part, temp_thick, temp_angle, temp_target, temp_energy = [], [], [], [], []\n",
    "\n",
    "for i in range(len(predictions)):\n",
    "    predictions[i][1]=round_to_nearest(predictions[i][1], 0, 1)\n",
    "    predictions[i][3]=round_to_nearest(predictions[i][3], 140,165)\n",
    "\n",
    "    temp_thick.append(predictions[i][0] - y_test[i][0])\n",
    "    temp_part.append(predictions[i][1] - y_test[i][1])\n",
    "    temp_energy.append(predictions[i][2] - y_test[i][2])\n",
    "    temp_angle.append(predictions[i][3] - y_test[i][3])\n"
   ]
  },
  {
   "cell_type": "markdown",
   "metadata": {},
   "source": [
    "##### Graphs"
   ]
  },
  {
   "cell_type": "code",
   "execution_count": null,
   "metadata": {},
   "outputs": [],
   "source": [
    "fig, axs = plt.subplots(2, 2, figsize=(10, 8))\n",
    "\n",
    "# Plot the histograms on each subplot\n",
    "axs[0, 0].hist(temp_thick, bins=20, color='blue', alpha=0.7)\n",
    "axs[0, 0].set_title('Thickness')\n",
    "axs[0, 0].set_xlabel('Predicted-Real')\n",
    "\n",
    "axs[0, 1].hist(temp_part, bins=5, color='green', alpha=0.7)\n",
    "axs[0, 1].set_title('Particle')\n",
    "axs[0, 1].set_xlabel('Predicted-Real')\n",
    "\n",
    "axs[1,0].hist(temp_energy, bins=20, color='yellow',alpha=0.7)\n",
    "axs[1,0].set_title('Energy')\n",
    "axs[1,0].set_xlabel('Predicted-Real')\n",
    "\n",
    "axs[1, 1].hist(temp_angle, bins=5, color='red', alpha=0.7)\n",
    "axs[1, 1].set_title('Angle')\n",
    "axs[1, 1].set_xlabel('Predicted-Real')\n",
    "\n",
    "\n",
    "# Adjust layout to prevent overlapping titles and labels\n",
    "plt.tight_layout()\n",
    "\n",
    "# Show the plot\n",
    "plt.show()"
   ]
  },
  {
   "cell_type": "markdown",
   "metadata": {},
   "source": [
    "##### Predictions vs Real values"
   ]
  },
  {
   "cell_type": "code",
   "execution_count": null,
   "metadata": {},
   "outputs": [],
   "source": [
    "for i in range(len(predictions)):\n",
    "\n",
    "    print('Target '+str(i+1)+' :')\n",
    "    print('Thickness: ')\n",
    "    print('P: ' + str(predictions[i][0]) + '. R: ' + str(y_test[i][0]))\n",
    "    print('Particle: ')\n",
    "    print('P: ' + str(predictions[i][1]) + '. R: ' + str(y_test[i][1]))\n",
    "    print('Energy: ')\n",
    "    print('P: ' + str(predictions[i][2]) + '. R: ' + str(y_test[i][2]))\n",
    "    print('Angle: ')\n",
    "    print('P: ' + str(predictions[i][3]) + '. R: ' + str(y_test[i][3]))\n",
    "    print()\n",
    "    print()"
   ]
  },
  {
   "cell_type": "markdown",
   "metadata": {},
   "source": [
    "##### Mean Squared Difference and Accuracy"
   ]
  },
  {
   "cell_type": "code",
   "execution_count": null,
   "metadata": {},
   "outputs": [],
   "source": [
    "print(mean_squared_difference(select_nth_elements(y_test, 0),select_nth_elements(predictions, 0)))\n",
    "print(accuracy(select_nth_elements(y_test, 1),select_nth_elements(predictions, 1)))\n",
    "print(mean_squared_difference(select_nth_elements(y_test, 2),select_nth_elements(predictions, 2)))\n",
    "print(accuracy(select_nth_elements(y_test, 3),select_nth_elements(predictions, 3)))"
   ]
  },
  {
   "cell_type": "markdown",
   "metadata": {},
   "source": [
    "## Neural Network with 5 Labels\n"
   ]
  },
  {
   "cell_type": "markdown",
   "metadata": {},
   "source": [
    "##### Data reshaping"
   ]
  },
  {
   "cell_type": "code",
   "execution_count": null,
   "metadata": {},
   "outputs": [],
   "source": [
    "#data reshaping\n",
    "with open('./datafiles/data5.txt', 'r') as file:\n",
    "    input_string = file.read()\n",
    "lines = input_string.split('\\n')\n",
    "x = []\n",
    "for line in lines:\n",
    "    values = line.split()\n",
    "    float_values = [float(value) for value in values]\n",
    "    x.append(float_values)\n",
    "del x[len(x)-1]    \n",
    "\n",
    "\n",
    "#labels reshaping\n",
    "with open('./datafiles/labels5.txt', 'r') as file:\n",
    "    input_string = file.read()\n",
    "lines = input_string.split('\\n')\n",
    "y = []\n",
    "for line in lines:\n",
    "    values = line.split()\n",
    "    float_values = [float(value) for value in values]\n",
    "    y.append(float_values)\n",
    "del y[len(y)-1]\n",
    "\n",
    "\n",
    "#normalize\n",
    "Xx=[]\n",
    "for array in x:\n",
    "    min_val = np.min(array)\n",
    "    max_val = np.max(array)\n",
    "    normalized_array = (array - min_val) / (max_val - min_val)\n",
    "    Xx.append(normalized_array)\n",
    "\n",
    "#numpy list\n",
    "X=np.array(Xx)\n",
    "Y=np.array(y)\n",
    "\n",
    "\n",
    "#spectra graph\n",
    "a=np.random.randint(0,len(X))\n",
    "b=np.random.randint(0,len(X))\n",
    "xaxis=np.arange(len(X[0]))\n",
    "fig = plt.figure(figsize =(13, 7))\n",
    "plt.plot(xaxis,X[a],'--')\n",
    "plt.plot(xaxis,X[b],'--')\n",
    "print('Blue graph: Thick:'+str(Y[a][0])+' Particle: '+str(Y[a][1])+ ' Energy: '+str(Y[a][2])+' Scatter angle: '+str(Y[a][3])+' Target: '+str(Y[a][4]))\n",
    "print('Orange graph: Thick:'+str(Y[b][0])+' Particle: '+str(Y[b][1])+' Energy: '+str(Y[b][2])+' Scatter angle: '+str(Y[b][3])+' Target: '+str(Y[b][4]))\n",
    "plt.title(' 2 Spectras of Au randomly chosen')\n",
    "plt.show()\n",
    "\n",
    "'''\n",
    "#seperate regression from classification\n",
    "y_rgrss=[]\n",
    "y_clssfr=[]\n",
    "for l in y:\n",
    "    aux=[]\n",
    "    aux.append(l[1])\n",
    "    aux.append(l[3])\n",
    "    aux.append(l[4])\n",
    "    y_clssfr.append(aux)\n",
    "    aux=[]\n",
    "    aux.append(l[0])\n",
    "    aux.append(l[2])\n",
    "    y_rgrss.append(aux)\n",
    "\n",
    "\n",
    "#numpy list\n",
    "Y_rgrss=np.array(y_rgrss)\n",
    "Y_clssfr=np.array(y_clssfr)\n",
    "'''"
   ]
  },
  {
   "cell_type": "markdown",
   "metadata": {},
   "source": [
    "##### Data spliting"
   ]
  },
  {
   "cell_type": "code",
   "execution_count": null,
   "metadata": {},
   "outputs": [],
   "source": [
    "random_state=np.random.randint(0,100)\n",
    "X_train,X_test,y_train,y_test=train_test_split(X,Y,test_size=0.05,random_state=random_state)"
   ]
  },
  {
   "cell_type": "markdown",
   "metadata": {},
   "source": [
    "##### Model training"
   ]
  },
  {
   "cell_type": "code",
   "execution_count": null,
   "metadata": {},
   "outputs": [],
   "source": [
    "random_state=np.random.randint(0,100)\n",
    "X_train,X_test,y_train,y_test=train_test_split(X,Y,test_size=0.05,random_state=random_state)\n",
    "\n",
    "\n",
    "callback = keras.callbacks.EarlyStopping(monitor='loss', patience=15)\n",
    "model=keras.models.Sequential(\n",
    "    [keras.layers.Dense(100,activation='relu',input_shape=(1000,)),\n",
    "     keras.layers.Dense(80,activation='relu'),\n",
    "     keras.layers.Dense(50,activation='relu'),\n",
    "     keras.layers.Dense(5,activation='linear')]\n",
    "     )\n",
    "\n",
    "model.compile(\n",
    "    loss='mean_squared_error', optimizer='adam', metrics=['mae']\n",
    ")\n",
    "\n",
    "epochs = 150\n",
    "batch_size = 32\n",
    "#model.summary()\n",
    "model.fit(X_train,y_train,epochs=epochs,batch_size=batch_size,verbose=1)\n",
    "\n",
    "loss, mae = model.evaluate(X_test, y_test)\n",
    "print(\"Mean Absolute Error:\", mae)\n",
    "predictions=model.predict(X_test)\n",
    "temp_part, temp_thick, temp_angle, temp_target, temp_energy = [], [], [], [], []\n",
    "\n",
    "for i in range(len(predictions)):\n",
    "    predictions[i][1]=round_to_nearest(predictions[i][1], 0, 1)\n",
    "    predictions[i][3]=round_to_nearest(predictions[i][3], 140,165)\n",
    "    predictions[i][4]=round_to_nearest(predictions[i][4], 0,1)\n",
    "\n",
    "    temp_thick.append(predictions[i][0] - y_test[i][0])\n",
    "    temp_part.append(predictions[i][1] - y_test[i][1])\n",
    "    temp_energy.append(predictions[i][2] - y_test[i][2])\n",
    "    temp_angle.append(predictions[i][3] - y_test[i][3])\n",
    "    temp_target.append(predictions[i][4] - y_test[i][4])"
   ]
  },
  {
   "cell_type": "markdown",
   "metadata": {},
   "source": [
    "##### Graphs"
   ]
  },
  {
   "cell_type": "code",
   "execution_count": null,
   "metadata": {},
   "outputs": [],
   "source": [
    "fig, axs = plt.subplots(3, 2, figsize=(10, 8))\n",
    "\n",
    "# Plot the histograms on each subplot\n",
    "axs[0, 0].hist(temp_thick, bins=20, color='blue', alpha=0.7)\n",
    "axs[0, 0].set_title('Thickness')\n",
    "axs[0, 0].set_xlabel('Predicted-Real')\n",
    "\n",
    "axs[0, 1].hist(temp_part, bins=5, color='green', alpha=0.7)\n",
    "axs[0, 1].set_title('Particle')\n",
    "axs[0, 1].set_xlabel('Predicted-Real')\n",
    "\n",
    "axs[1,0].hist(temp_energy, bins=20, color='yellow',alpha=0.7)\n",
    "axs[1,0].set_title('Energy')\n",
    "axs[1,0].set_xlabel('Predicted-Real')\n",
    "\n",
    "axs[1, 1].hist(temp_angle, bins=5, color='red', alpha=0.7)\n",
    "axs[1, 1].set_title('Angle')\n",
    "axs[1, 1].set_xlabel('Predicted-Real')\n",
    "\n",
    "axs[2, 1].hist(temp_target, bins=5, color='purple', alpha=0.7)\n",
    "axs[2, 1].set_xlim(-1,1)\n",
    "axs[2, 1].set_title('Target')\n",
    "axs[2, 1].set_xlabel('Predicted-Real')\n",
    "\n",
    "\n",
    "# Adjust layout to prevent overlapping titles and labels\n",
    "plt.tight_layout()\n",
    "\n",
    "# Show the plot\n",
    "plt.show()"
   ]
  },
  {
   "cell_type": "code",
   "execution_count": null,
   "metadata": {},
   "outputs": [],
   "source": [
    "plt.hist2d(temp_energy, temp_target)\n",
    "plt.show()"
   ]
  },
  {
   "cell_type": "markdown",
   "metadata": {},
   "source": [
    "##### Predictions vs Real values"
   ]
  },
  {
   "cell_type": "code",
   "execution_count": null,
   "metadata": {},
   "outputs": [],
   "source": [
    "for i in range(len(predictions)):\n",
    "\n",
    "    print('Target '+str(i+1)+' :')\n",
    "    print('Thickness: ')\n",
    "    print('P: ' + str(predictions[i][0]) + '. R: ' + str(y_test[i][0]))\n",
    "    print('Particle: ')\n",
    "    print('P: ' + str(predictions[i][1]) + '. R: ' + str(y_test[i][1]))\n",
    "    print('Energy: ')\n",
    "    print('P: ' + str(predictions[i][2]) + '. R: ' + str(y_test[i][2]))\n",
    "    print('Angle: ')\n",
    "    print('P: ' + str(predictions[i][3]) + '. R: ' + str(y_test[i][3]))\n",
    "    print('Target: ')\n",
    "    print('P: ' + str(predictions[i][4]) + '. R: ' + str(y_test[i][4]))\n",
    "    print()\n",
    "    print()"
   ]
  },
  {
   "cell_type": "markdown",
   "metadata": {},
   "source": [
    "##### Mean Squared Difference and Accuracy"
   ]
  },
  {
   "cell_type": "code",
   "execution_count": null,
   "metadata": {},
   "outputs": [],
   "source": [
    "print(mean_squared_difference(select_nth_elements(y_test, 0),select_nth_elements(predictions, 0)))\n",
    "print(accuracy(select_nth_elements(y_test, 1),select_nth_elements(predictions, 1)))\n",
    "print(mean_squared_difference(select_nth_elements(y_test, 2),select_nth_elements(predictions, 2)))\n",
    "print(accuracy(select_nth_elements(y_test, 3),select_nth_elements(predictions, 3)))\n",
    "print(accuracy(select_nth_elements(y_test, 4),select_nth_elements(predictions, 4)))\n",
    "print(calculate_accuracy(predictions,y_test))"
   ]
  },
  {
   "cell_type": "markdown",
   "metadata": {},
   "source": [
    "## RNN testing (5 labels)"
   ]
  },
  {
   "cell_type": "markdown",
   "metadata": {},
   "source": [
    "##### Data reshaping"
   ]
  },
  {
   "cell_type": "code",
   "execution_count": null,
   "metadata": {},
   "outputs": [],
   "source": [
    "#data reshaping\n",
    "with open('./datafiles/data5.txt', 'r') as file:\n",
    "    input_string = file.read()\n",
    "lines = input_string.split('\\n')\n",
    "x = []\n",
    "for line in lines:\n",
    "    values = line.split()\n",
    "    float_values = [float(value) for value in values]\n",
    "    x.append(float_values)\n",
    "del x[len(x)-1]    \n",
    "\n",
    "\n",
    "#labels reshaping\n",
    "with open('./datafiles/labels5.txt', 'r') as file:\n",
    "    input_string = file.read()\n",
    "lines = input_string.split('\\n')\n",
    "y = []\n",
    "for line in lines:\n",
    "    values = line.split()\n",
    "    float_values = [float(value) for value in values]\n",
    "    y.append(float_values)\n",
    "del y[len(y)-1]\n",
    "\n",
    "\n",
    "#normalize\n",
    "Xx=[]\n",
    "for array in x:\n",
    "    min_val = np.min(array)\n",
    "    max_val = np.max(array)\n",
    "    normalized_array = (array - min_val) / (max_val - min_val)\n",
    "    Xx.append(normalized_array)\n",
    "\n",
    "#numpy list\n",
    "X=np.array(Xx)\n",
    "Y=np.array(y)\n",
    "\n",
    "\n",
    "#spectra graph\n",
    "a=np.random.randint(0,len(X))\n",
    "b=np.random.randint(0,len(X))\n",
    "xaxis=np.arange(len(X[0]))\n",
    "fig = plt.figure(figsize =(13, 7))\n",
    "plt.plot(xaxis,X[a],'--')\n",
    "plt.plot(xaxis,X[b],'--')\n",
    "print('Blue graph: Thick:'+str(Y[a][0])+' Particle: '+str(Y[a][1])+ ' Energy: '+str(Y[a][2])+' Scatter angle: '+str(Y[a][3])+' Target: '+str(Y[a][4]))\n",
    "print('Orange graph: Thick:'+str(Y[b][0])+' Particle: '+str(Y[b][1])+' Energy: '+str(Y[b][2])+' Scatter angle: '+str(Y[b][3])+' Target: '+str(Y[b][4]))\n",
    "plt.title(' 2 Spectras of Au randomly chosen')\n",
    "plt.show()"
   ]
  },
  {
   "cell_type": "markdown",
   "metadata": {},
   "source": [
    "##### Model training"
   ]
  },
  {
   "cell_type": "code",
   "execution_count": null,
   "metadata": {},
   "outputs": [],
   "source": [
    "random_state=np.random.randint(0,100)\n",
    "X_train,X_test,y_train,y_test=train_test_split(X,Y,test_size=0.05,random_state=random_state)\n",
    "\n",
    "\n",
    "original_shape = X_train.shape\n",
    "X_trainreshape = X_train.reshape((original_shape[0], 1, original_shape[1]))\n",
    "original_shape = X_test.shape\n",
    "X_testreshape = X_test.reshape((original_shape[0], 1, original_shape[1]))\n",
    "\n",
    "callback = keras.callbacks.EarlyStopping(monitor='loss', patience=20)\n",
    "model=keras.models.Sequential(\n",
    "    [keras.layers.SimpleRNN(100,input_shape=(1,1000),return_sequences=True),\n",
    "    keras.layers.Dense(80,activation= 'relu'),\n",
    "    keras.layers.Dense(50,activation= 'relu'),\n",
    "    keras.layers.Dense(5,activation='linear')])\n",
    "model.compile(loss='mean_squared_error', optimizer='adam', metrics=['mae'])\n",
    "\n",
    "plot_model(model, to_file='modelrnn.png', show_shapes=True)\n",
    "\n",
    "epochs = 125\n",
    "batch_size = 32\n",
    "model.fit(X_trainreshape,y_train,epochs=epochs,batch_size=batch_size,verbose=1,callbacks=[callback])\n",
    "\n",
    "loss, mae = model.evaluate(X_testreshape, y_test)\n",
    "print(\"Mean Absolute Error:\", mae)\n",
    "predictions=model.predict(X_testreshape)\n",
    "predictions = predictions.reshape(len(y_test), 5)\n",
    "temp_part, temp_thick, temp_angle, temp_target, temp_energy = [], [], [], [], []\n",
    "\n",
    "for i in range(len(predictions)):\n",
    "    predictions[i][1]=round_to_nearest(predictions[i][1], 0, 1)\n",
    "    predictions[i][3]=round_to_nearest(predictions[i][3], 140, 165)\n",
    "    predictions[i][4]=round_to_nearest(predictions[i][3], 0, 1)\n",
    "\n",
    "\n",
    "    temp_thick.append(predictions[i][0] - y_test[i][0])\n",
    "    temp_part.append(predictions[i][1] - y_test[i][1])\n",
    "    temp_energy.append(predictions[i][2] - y_test[i][2])\n",
    "    temp_angle.append(predictions[i][3] - y_test[i][3])\n",
    "    temp_target.append(predictions[i][4] - y_test[i][4])"
   ]
  },
  {
   "cell_type": "markdown",
   "metadata": {},
   "source": [
    "##### Graphs\n"
   ]
  },
  {
   "cell_type": "code",
   "execution_count": null,
   "metadata": {},
   "outputs": [],
   "source": [
    "fig, axs = plt.subplots(2, 2, figsize=(10, 8))\n",
    "\n",
    "# Plot the histograms on each subplot\n",
    "axs[0, 0].hist(temp_thick, bins=30, color='blue', alpha=0.7)\n",
    "axs[0, 0].set_title('Thickness')\n",
    "axs[0, 0].set_xlabel('Predicted-Real')\n",
    "\n",
    "axs[0, 1].hist(temp_part, bins=30, color='green', alpha=0.7)\n",
    "axs[0, 1].set_title('Particle')\n",
    "axs[0, 1].set_xlabel('Predicted-Real')\n",
    "\n",
    "axs[1, 0].hist(temp_angle, bins=30, color='red', alpha=0.7)\n",
    "axs[1, 0].set_title('Angle')\n",
    "axs[1, 0].set_xlabel('Predicted-Real')\n",
    "\n",
    "axs[1, 1].hist(temp_target, bins=30, color='purple', alpha=0.7)\n",
    "axs[1, 1].set_title('Target')\n",
    "axs[1, 1].set_xlabel('Predicted-Real')\n",
    "\n",
    "# Adjust layout to prevent overlapping titles and labels\n",
    "plt.tight_layout()\n",
    "\n",
    "# Show the plot\n",
    "plt.show()"
   ]
  },
  {
   "cell_type": "code",
   "execution_count": null,
   "metadata": {},
   "outputs": [],
   "source": [
    "plt.hist2d(temp_energy, temp_angle)\n",
    "plt.show()"
   ]
  },
  {
   "cell_type": "markdown",
   "metadata": {},
   "source": [
    "##### Predictions vs Real values"
   ]
  },
  {
   "cell_type": "code",
   "execution_count": null,
   "metadata": {},
   "outputs": [],
   "source": [
    "for i in range(len(predictions)):\n",
    "\n",
    "    print('Target '+str(i+1)+' :')\n",
    "    print('Thickness: ')\n",
    "    print('P: ' + str(predictions[i][0]) + '. R: ' + str(y_test[i][0]))\n",
    "    print('Particle: ')\n",
    "    print('P: ' + str(predictions[i][1]) + '. R: ' + str(y_test[i][1]))\n",
    "    print('Energy: ')\n",
    "    print('P: ' + str(predictions[i][2]) + '. R: ' + str(y_test[i][2]))\n",
    "    print('Angle: ')\n",
    "    print('P: ' + str(predictions[i][3]) + '. R: ' + str(y_test[i][3]))\n",
    "    print('Target: ')\n",
    "    print('P: ' + str(predictions[i][4]) + '. R: ' + str(y_test[i][4]))\n",
    "    print()\n",
    "    print()"
   ]
  },
  {
   "cell_type": "markdown",
   "metadata": {},
   "source": [
    "##### Mean Squared Difference and Accuracy"
   ]
  },
  {
   "cell_type": "code",
   "execution_count": null,
   "metadata": {},
   "outputs": [],
   "source": [
    "print(mean_squared_difference(select_nth_elements(y_test, 0),select_nth_elements(predictions, 0)))\n",
    "print(accuracy(select_nth_elements(y_test, 1),select_nth_elements(predictions, 1)))\n",
    "print(mean_squared_difference(select_nth_elements(y_test, 2),select_nth_elements(predictions, 2)))\n",
    "print(accuracy(select_nth_elements(y_test, 3),select_nth_elements(predictions, 3)))\n",
    "print(accuracy(select_nth_elements(y_test, 4),select_nth_elements(predictions, 4)))\n",
    "print(calculate_accuracy(predictions,y_test))"
   ]
  },
  {
   "cell_type": "markdown",
   "metadata": {},
   "source": [
    "## Combined regression and classification (3 labels)"
   ]
  },
  {
   "cell_type": "markdown",
   "metadata": {},
   "source": [
    "#### Experimental data treatment"
   ]
  },
  {
   "cell_type": "markdown",
   "metadata": {},
   "source": [
    "##### Lead targets"
   ]
  },
  {
   "cell_type": "code",
   "execution_count": null,
   "metadata": {},
   "outputs": [],
   "source": [
    "with open('./RBS_Runs/2022_23Nov_Pb/1122/alfas/dataRBS1.dat', 'r') as file:\n",
    "    input_string = file.read()\n",
    "lines2 = input_string.split('\\n')\n",
    "test_x = []\n",
    "for line in lines2:\n",
    "    values = line.split()\n",
    "    float_values = [float(value) for value in values]\n",
    "    test_x.append(float_values)\n",
    "\n",
    "del test_x[len(test_x)-1]\n",
    "\n",
    "\n",
    "print(len(test_x))\n",
    "point=[]\n",
    "for j in range(len(test_x)):\n",
    "    for i in range(len(test_x[j])+2):\n",
    "        if test_x[j][i]>test_x[j][i+1]:\n",
    "            point.append(i)\n",
    "            test_x[j]=test_x[j][point[j]:]\n",
    "            break\n",
    "\n",
    "for j in range(len(test_x)):\n",
    "    noise=np.arange(0,250)\n",
    "    params, covariance = curve_fit(quadratic_function, noise, test_x[j][0:250])\n",
    "    fitted_values = quadratic_function(noise,*params)\n",
    "    test_x[j][0:250] = test_x[j][0:250] - (fitted_values)\n",
    "\n",
    "for j in range(len(test_x)):\n",
    "    for i in range(point[j]):\n",
    "        test_x[j].insert(0,0)\n",
    "\n",
    "\n",
    "calibration_factor = 2.36\n",
    "num_new_points = 1.36\n",
    "\n",
    "for j in range(len(test_x)):\n",
    "    xaxis=np.arange(len(test_x[j]))\n",
    "    newx = [x * calibration_factor for x in xaxis]\n",
    "    newx, test_x[j] = increase_data_points(newx, test_x[j], num_new_points)\n",
    "\n",
    "# for j in range(len(test_x)):    \n",
    "#     test_x[j]=test_x[j][90:]\n",
    "    \n",
    "for j in range(len(test_x)):\n",
    "    size=len(test_x[j])\n",
    "    while size<2800:\n",
    "        test_x[j]=np.append(test_x[j],0)\n",
    "        size+=1\n",
    "\n",
    "for j in range(len(test_x)):\n",
    "    for i in range(500):   \n",
    "        test_x[j][i]=0\n",
    "    \n",
    "for j in range(len(test_x)):    \n",
    "    for i in range(len(test_x[j])):\n",
    "        if test_x[j][i]<0:\n",
    "            test_x[j][i]=0\n",
    "\n",
    "Xx=[]\n",
    "for array in test_x:\n",
    "    min_val = np.min(array)\n",
    "    max_val = np.max(array)\n",
    "    normalized_array = (array - min_val) / (max_val - min_val)\n",
    "    Xx.append(normalized_array)\n",
    "'''\n",
    "for array in test_x:\n",
    "    mean=np.mean(array)\n",
    "    std=np.std(array)\n",
    "    new_array=(array-mean)/std\n",
    "    Xx.append(new_array)\n",
    "'''\n",
    "\n",
    "test_x=np.array(Xx)\n",
    "newx=np.arange(0,len(test_x[0]))\n",
    "fig = plt.figure(figsize =(10, 5))\n",
    "# for i in test_x:\n",
    "#     plt.plot(newx,i,'--')\n",
    "plt.plot(newx,test_x[1],'--')\n",
    "plt.show()"
   ]
  },
  {
   "cell_type": "markdown",
   "metadata": {},
   "source": [
    "##### Gold targets"
   ]
  },
  {
   "cell_type": "code",
   "execution_count": 27,
   "metadata": {},
   "outputs": [
    {
     "data": {
      "image/png": "[encoded data removed]",
      "text/plain": [
       "<Figure size 1000x500 with 1 Axes>"
      ]
     },
     "metadata": {},
     "output_type": "display_data"
    }
   ],
   "source": [
    "with open('./RBS_Runs/2022_07Set_Au&Pb&C/20220907/labelsRBS1.dat', 'r') as file:\n",
    "    input_string = file.read()\n",
    "lines2 = input_string.split('\\n')\n",
    "test_y = []\n",
    "for line in lines2:\n",
    "    values = line.split()\n",
    "    float_values = [value for value in values]\n",
    "    test_y.append(float_values)\n",
    "\n",
    "del test_y[len(test_y)-1]\n",
    "\n",
    "\n",
    "with open('./RBS_Runs/2022_07Set_Au&Pb&C/20220907/dataRBS1.dat', 'r') as file:\n",
    "    input_string = file.read()\n",
    "lines2 = input_string.split('\\n')\n",
    "test_x = []\n",
    "for line in lines2:\n",
    "    values = line.split()\n",
    "    float_values = [float(value) for value in values]\n",
    "    test_x.append(float_values)\n",
    "\n",
    "del test_x[len(test_x)-1]\n",
    "\n",
    "point=[]\n",
    "for j in range(len(test_x)):\n",
    "    for i in range(len(test_x[j])+2):\n",
    "        if test_x[j][i]>test_x[j][i+1]:\n",
    "            point.append(i)\n",
    "            test_x[j]=test_x[j][point[j]:]\n",
    "            break\n",
    "\n",
    "\n",
    "for j in range(len(test_x)):\n",
    "    for i in range(point[j]):\n",
    "        test_x[j].insert(0,0)\n",
    "\n",
    "\n",
    "calibration_factor = 2.44\n",
    "num_new_points = 1.44\n",
    "\n",
    "for j in range(len(test_x)):\n",
    "    xaxis=np.arange(len(test_x[j]))\n",
    "    newx = [x * calibration_factor for x in xaxis]\n",
    "    newx, test_x[j] = increase_data_points(newx, test_x[j], num_new_points)\n",
    "\n",
    "\n",
    "for j in range(len(test_x)):\n",
    "    for i in range(1450):   \n",
    "        test_x[j][i]=0\n",
    "\n",
    "\n",
    "for j in range(len(test_x)):\n",
    "    size=len(test_x[j])\n",
    "    while size<2800:\n",
    "        test_x[j]=np.append(test_x[j],0)\n",
    "        size+=1\n",
    "    \n",
    "    \n",
    "for j in range(len(test_x)):    \n",
    "    for i in range(len(test_x[j])):\n",
    "        if test_x[j][i]<0:\n",
    "            test_x[j][i]=0\n",
    "\n",
    "Xx=[]\n",
    "for array in test_x:\n",
    "    min_val = np.min(array)\n",
    "    max_val = np.max(array)\n",
    "    normalized_array = (array - min_val) / (max_val - min_val)\n",
    "    Xx.append(normalized_array)\n",
    "\n",
    "test_x=np.array(Xx)\n",
    "newx=np.arange(0,len(test_x[0]))\n",
    "fig = plt.figure(figsize =(10, 5))\n",
    "for i in test_x:\n",
    "    plt.plot(newx,i,'--')\n",
    "plt.show()\n",
    "\n",
    "\n",
    "#seperate regression from classification\n",
    "test_y_rgrss=[]\n",
    "test_y_clssfr=[]\n",
    "for l in test_y:\n",
    "    aux=[]\n",
    "    aux.append(l[2])\n",
    "    test_y_clssfr.append(aux)\n",
    "    aux=[]\n",
    "    aux.append(float(l[0]))\n",
    "    aux.append(float(l[1]))\n",
    "    test_y_rgrss.append(aux)\n",
    "\n",
    "\n",
    "#numpy list\n",
    "test_Y_rgrss=np.array(test_y_rgrss)\n",
    "test_Y_clssfr=np.array(test_y_clssfr)"
   ]
  },
  {
   "cell_type": "markdown",
   "metadata": {},
   "source": [
    "#### Simulated data treatment"
   ]
  },
  {
   "cell_type": "code",
   "execution_count": 6,
   "metadata": {},
   "outputs": [],
   "source": [
    "with open('./datafiles/datatest2.txt', 'r') as file:\n",
    "    input_string = file.read()\n",
    "lines1 = input_string.split('\\n')\n",
    "\n",
    "with open('./datafiles/labelstest2.txt', 'r') as file:\n",
    "    input_string = file.read()\n",
    "lines2 = input_string.split('\\n')\n",
    "\n",
    "x = []\n",
    "for line in lines1:\n",
    "    values = line.split()\n",
    "    float_values = [float(value) for value in values]\n",
    "    x.append(float_values)\n",
    "del x[len(x)-1]    \n",
    "\n",
    "y = []\n",
    "for line in lines2:\n",
    "    values = line.split()\n",
    "    float_values = [value for value in values]\n",
    "    y.append(float_values)\n",
    "del y[len(y)-1]\n",
    "\n",
    "#data normalization\n",
    "Xx=[]\n",
    "for array in x:\n",
    "    min_val = np.min(array)\n",
    "    max_val = np.max(array)\n",
    "    normalized_array = (array - min_val) / (max_val - min_val)\n",
    "    Xx.append(normalized_array)\n",
    "'''\n",
    "for array in x:\n",
    "    mean=np.mean(array)\n",
    "    std=np.std(array)\n",
    "    new_array=(array-mean)/std\n",
    "    Xx.append(new_array)\n",
    "'''\n",
    "\n",
    "#numpy list\n",
    "X=np.array(Xx)\n",
    "Y=np.array(y)\n",
    "\n",
    "#seperate regression from classification\n",
    "y_rgrss=[]\n",
    "y_clssfr=[]\n",
    "for l in y:\n",
    "    aux=[]\n",
    "    aux.append(l[2])\n",
    "    y_clssfr.append(aux)\n",
    "    aux=[]\n",
    "    aux.append(float(l[0]))\n",
    "    aux.append(float(l[1]))\n",
    "    y_rgrss.append(aux)\n",
    "\n",
    "\n",
    "#numpy list\n",
    "Y_rgrss=np.array(y_rgrss)\n",
    "Y_clssfr=np.array(y_clssfr)"
   ]
  },
  {
   "cell_type": "code",
   "execution_count": 22,
   "metadata": {},
   "outputs": [
    {
     "name": "stdout",
     "output_type": "stream",
     "text": [
      "Blue graph: Thick Layer1 : 935.4702736862175 // Thick Layer2 : 0 // Target : Au\n",
      "Orange graph: Thick Layer1 : 1731.226375550769 // Thick Layer2 : 0 // Target : Sn\n"
     ]
    },
    {
     "data": {
      "image/png": "[encoded data removed]",
      "text/plain": [
       "<Figure size 1000x500 with 1 Axes>"
      ]
     },
     "metadata": {},
     "output_type": "display_data"
    },
    {
     "name": "stdout",
     "output_type": "stream",
     "text": [
      "9442 5873\n"
     ]
    }
   ],
   "source": [
    "#spectra graph\n",
    "a=np.random.randint(0,len(X))\n",
    "b=np.random.randint(0,len(X))\n",
    "xaxis=np.arange(len(X[0]))\n",
    "\n",
    "fig = plt.figure(figsize =(10, 5))\n",
    "plt.plot(xaxis,X[a],'--')\n",
    "plt.plot(xaxis,X[b],'--')\n",
    "plt.plot(newx,test_x[0],'--')\n",
    "print('Blue graph: Thick Layer1 : '+str(Y[a][0])+ ' // Thick Layer2 : '+str(Y[a][1])+ ' // Target : '+str(Y[a][2]))\n",
    "print('Orange graph: Thick Layer1 : '+str(Y[b][0])+ ' // Thick Layer2 : '+str(Y[b][1])+ ' // Target : '+str(Y[b][2]))\n",
    "plt.title(' 2 Spectras of Au randomly chosen')\n",
    "plt.show()\n",
    "print(a,b)"
   ]
  },
  {
   "cell_type": "code",
   "execution_count": 28,
   "metadata": {},
   "outputs": [
    {
     "ename": "ValueError",
     "evalue": "x and y must have same first dimension, but have shapes (1024,) and (2800,)",
     "output_type": "error",
     "traceback": [
      "\u001b[0;31m---------------------------------------------------------------------------\u001b[0m",
      "\u001b[0;31mValueError\u001b[0m                                Traceback (most recent call last)",
      "\u001b[1;32m/Users/Bernardo/Desktop/rbs/rbs_ann.ipynb Cell 89\u001b[0m line \u001b[0;36m5\n\u001b[1;32m     <a href='vscode-notebook-cell:/Users/Bernardo/Desktop/rbs/rbs_ann.ipynb#Y214sZmlsZQ%3D%3D?line=49'>50</a>\u001b[0m plt\u001b[39m.\u001b[39mplot(newx,test_x[\u001b[39m1\u001b[39m],\u001b[39m'\u001b[39m\u001b[39m--\u001b[39m\u001b[39m'\u001b[39m)\n\u001b[1;32m     <a href='vscode-notebook-cell:/Users/Bernardo/Desktop/rbs/rbs_ann.ipynb#Y214sZmlsZQ%3D%3D?line=50'>51</a>\u001b[0m plt\u001b[39m.\u001b[39mplot(newx,testtest[\u001b[39m1\u001b[39m])\n\u001b[0;32m---> <a href='vscode-notebook-cell:/Users/Bernardo/Desktop/rbs/rbs_ann.ipynb#Y214sZmlsZQ%3D%3D?line=51'>52</a>\u001b[0m plt\u001b[39m.\u001b[39;49mplot(xaxis,X[\u001b[39m9442\u001b[39;49m])\n",
      "File \u001b[0;32m/Library/Frameworks/Python.framework/Versions/3.11/lib/python3.11/site-packages/matplotlib/pyplot.py:3578\u001b[0m, in \u001b[0;36mplot\u001b[0;34m(scalex, scaley, data, *args, **kwargs)\u001b[0m\n\u001b[1;32m   3570\u001b[0m \u001b[39m@_copy_docstring_and_deprecators\u001b[39m(Axes\u001b[39m.\u001b[39mplot)\n\u001b[1;32m   3571\u001b[0m \u001b[39mdef\u001b[39;00m \u001b[39mplot\u001b[39m(\n\u001b[1;32m   3572\u001b[0m     \u001b[39m*\u001b[39margs: \u001b[39mfloat\u001b[39m \u001b[39m|\u001b[39m ArrayLike \u001b[39m|\u001b[39m \u001b[39mstr\u001b[39m,\n\u001b[0;32m   (...)\u001b[0m\n\u001b[1;32m   3576\u001b[0m     \u001b[39m*\u001b[39m\u001b[39m*\u001b[39mkwargs,\n\u001b[1;32m   3577\u001b[0m ) \u001b[39m-\u001b[39m\u001b[39m>\u001b[39m \u001b[39mlist\u001b[39m[Line2D]:\n\u001b[0;32m-> 3578\u001b[0m     \u001b[39mreturn\u001b[39;00m gca()\u001b[39m.\u001b[39;49mplot(\n\u001b[1;32m   3579\u001b[0m         \u001b[39m*\u001b[39;49margs,\n\u001b[1;32m   3580\u001b[0m         scalex\u001b[39m=\u001b[39;49mscalex,\n\u001b[1;32m   3581\u001b[0m         scaley\u001b[39m=\u001b[39;49mscaley,\n\u001b[1;32m   3582\u001b[0m         \u001b[39m*\u001b[39;49m\u001b[39m*\u001b[39;49m({\u001b[39m\"\u001b[39;49m\u001b[39mdata\u001b[39;49m\u001b[39m\"\u001b[39;49m: data} \u001b[39mif\u001b[39;49;00m data \u001b[39mis\u001b[39;49;00m \u001b[39mnot\u001b[39;49;00m \u001b[39mNone\u001b[39;49;00m \u001b[39melse\u001b[39;49;00m {}),\n\u001b[1;32m   3583\u001b[0m         \u001b[39m*\u001b[39;49m\u001b[39m*\u001b[39;49mkwargs,\n\u001b[1;32m   3584\u001b[0m     )\n",
      "File \u001b[0;32m/Library/Frameworks/Python.framework/Versions/3.11/lib/python3.11/site-packages/matplotlib/axes/_axes.py:1721\u001b[0m, in \u001b[0;36mAxes.plot\u001b[0;34m(self, scalex, scaley, data, *args, **kwargs)\u001b[0m\n\u001b[1;32m   1478\u001b[0m \u001b[39m\u001b[39m\u001b[39m\"\"\"\u001b[39;00m\n\u001b[1;32m   1479\u001b[0m \u001b[39mPlot y versus x as lines and/or markers.\u001b[39;00m\n\u001b[1;32m   1480\u001b[0m \n\u001b[0;32m   (...)\u001b[0m\n\u001b[1;32m   1718\u001b[0m \u001b[39m(``'green'``) or hex strings (``'#008000'``).\u001b[39;00m\n\u001b[1;32m   1719\u001b[0m \u001b[39m\"\"\"\u001b[39;00m\n\u001b[1;32m   1720\u001b[0m kwargs \u001b[39m=\u001b[39m cbook\u001b[39m.\u001b[39mnormalize_kwargs(kwargs, mlines\u001b[39m.\u001b[39mLine2D)\n\u001b[0;32m-> 1721\u001b[0m lines \u001b[39m=\u001b[39m [\u001b[39m*\u001b[39m\u001b[39mself\u001b[39m\u001b[39m.\u001b[39m_get_lines(\u001b[39mself\u001b[39m, \u001b[39m*\u001b[39margs, data\u001b[39m=\u001b[39mdata, \u001b[39m*\u001b[39m\u001b[39m*\u001b[39mkwargs)]\n\u001b[1;32m   1722\u001b[0m \u001b[39mfor\u001b[39;00m line \u001b[39min\u001b[39;00m lines:\n\u001b[1;32m   1723\u001b[0m     \u001b[39mself\u001b[39m\u001b[39m.\u001b[39madd_line(line)\n",
      "File \u001b[0;32m/Library/Frameworks/Python.framework/Versions/3.11/lib/python3.11/site-packages/matplotlib/axes/_base.py:303\u001b[0m, in \u001b[0;36m_process_plot_var_args.__call__\u001b[0;34m(self, axes, data, *args, **kwargs)\u001b[0m\n\u001b[1;32m    301\u001b[0m     this \u001b[39m+\u001b[39m\u001b[39m=\u001b[39m args[\u001b[39m0\u001b[39m],\n\u001b[1;32m    302\u001b[0m     args \u001b[39m=\u001b[39m args[\u001b[39m1\u001b[39m:]\n\u001b[0;32m--> 303\u001b[0m \u001b[39myield from\u001b[39;00m \u001b[39mself\u001b[39;49m\u001b[39m.\u001b[39;49m_plot_args(\n\u001b[1;32m    304\u001b[0m     axes, this, kwargs, ambiguous_fmt_datakey\u001b[39m=\u001b[39;49mambiguous_fmt_datakey)\n",
      "File \u001b[0;32m/Library/Frameworks/Python.framework/Versions/3.11/lib/python3.11/site-packages/matplotlib/axes/_base.py:499\u001b[0m, in \u001b[0;36m_process_plot_var_args._plot_args\u001b[0;34m(self, axes, tup, kwargs, return_kwargs, ambiguous_fmt_datakey)\u001b[0m\n\u001b[1;32m    496\u001b[0m     axes\u001b[39m.\u001b[39myaxis\u001b[39m.\u001b[39mupdate_units(y)\n\u001b[1;32m    498\u001b[0m \u001b[39mif\u001b[39;00m x\u001b[39m.\u001b[39mshape[\u001b[39m0\u001b[39m] \u001b[39m!=\u001b[39m y\u001b[39m.\u001b[39mshape[\u001b[39m0\u001b[39m]:\n\u001b[0;32m--> 499\u001b[0m     \u001b[39mraise\u001b[39;00m \u001b[39mValueError\u001b[39;00m(\u001b[39mf\u001b[39m\u001b[39m\"\u001b[39m\u001b[39mx and y must have same first dimension, but \u001b[39m\u001b[39m\"\u001b[39m\n\u001b[1;32m    500\u001b[0m                      \u001b[39mf\u001b[39m\u001b[39m\"\u001b[39m\u001b[39mhave shapes \u001b[39m\u001b[39m{\u001b[39;00mx\u001b[39m.\u001b[39mshape\u001b[39m}\u001b[39;00m\u001b[39m and \u001b[39m\u001b[39m{\u001b[39;00my\u001b[39m.\u001b[39mshape\u001b[39m}\u001b[39;00m\u001b[39m\"\u001b[39m)\n\u001b[1;32m    501\u001b[0m \u001b[39mif\u001b[39;00m x\u001b[39m.\u001b[39mndim \u001b[39m>\u001b[39m \u001b[39m2\u001b[39m \u001b[39mor\u001b[39;00m y\u001b[39m.\u001b[39mndim \u001b[39m>\u001b[39m \u001b[39m2\u001b[39m:\n\u001b[1;32m    502\u001b[0m     \u001b[39mraise\u001b[39;00m \u001b[39mValueError\u001b[39;00m(\u001b[39mf\u001b[39m\u001b[39m\"\u001b[39m\u001b[39mx and y can be no greater than 2D, but have \u001b[39m\u001b[39m\"\u001b[39m\n\u001b[1;32m    503\u001b[0m                      \u001b[39mf\u001b[39m\u001b[39m\"\u001b[39m\u001b[39mshapes \u001b[39m\u001b[39m{\u001b[39;00mx\u001b[39m.\u001b[39mshape\u001b[39m}\u001b[39;00m\u001b[39m and \u001b[39m\u001b[39m{\u001b[39;00my\u001b[39m.\u001b[39mshape\u001b[39m}\u001b[39;00m\u001b[39m\"\u001b[39m)\n",
      "\u001b[0;31mValueError\u001b[0m: x and y must have same first dimension, but have shapes (1024,) and (2800,)"
     ]
    },
    {
     "data": {
      "image/png": "[encoded data removed]",
      "text/plain": [
       "<Figure size 640x480 with 1 Axes>"
      ]
     },
     "metadata": {},
     "output_type": "display_data"
    }
   ],
   "source": [
    "with open('./RBS_Runs/2022_07Set_Au&Pb&C/20220907/labelsRBS1.dat', 'r') as file:\n",
    "    input_string = file.read()\n",
    "lines2 = input_string.split('\\n')\n",
    "test_y = []\n",
    "for line in lines2:\n",
    "    values = line.split()\n",
    "    float_values = [value for value in values]\n",
    "    test_y.append(float_values)\n",
    "\n",
    "del test_y[len(test_y)-1]\n",
    "\n",
    "\n",
    "with open('./RBS_Runs/2022_07Set_Au&Pb&C/20220907/dataRBS1.dat', 'r') as file:\n",
    "    input_string = file.read()\n",
    "lines2 = input_string.split('\\n')\n",
    "testtest = []\n",
    "for line in lines2:\n",
    "    values = line.split()\n",
    "    float_values = [float(value) for value in values]\n",
    "    testtest.append(float_values)\n",
    "\n",
    "del testtest[len(testtest)-1]\n",
    "\n",
    "calibration_factor = 2.44\n",
    "num_new_points = 1.44\n",
    "\n",
    "for j in range(len(testtest)):\n",
    "    axisx=np.arange(len(testtest[j]))\n",
    "    newx = [x * calibration_factor for x in axisx]\n",
    "    newx, testtest[j] = increase_data_points(newx, testtest[j], num_new_points)\n",
    "\n",
    "\n",
    "for j in range(len(testtest)):\n",
    "    size=len(testtest[j])\n",
    "    while size<2800:\n",
    "        testtest[j]=np.append(testtest[j],0)\n",
    "        size+=1\n",
    "    \n",
    "\n",
    "Xx=[]\n",
    "for array in testtest:\n",
    "    min_val = np.min(array)\n",
    "    max_val = np.max(array)\n",
    "    normalized_array = (array - min_val) / (max_val - min_val)\n",
    "    Xx.append(normalized_array)\n",
    "\n",
    "testtest=np.array(Xx)\n",
    "newx=np.arange(0,len(testtest[0]))\n",
    "\n",
    "plt.plot(newx,test_x[1],'--')\n",
    "plt.plot(newx,testtest[1])\n",
    "plt.plot(xaxis,X[9442])\n"
   ]
  },
  {
   "cell_type": "markdown",
   "metadata": {},
   "source": [
    "#### Data splitting"
   ]
  },
  {
   "cell_type": "code",
   "execution_count": 146,
   "metadata": {},
   "outputs": [],
   "source": [
    "random_state=np.random.randint(0,500)\n",
    "X_train,X_test,y_train,y_test,y_trainclssfr,y_testclssfr=train_test_split(X,Y_rgrss,Y_clssfr,test_size=0.05,random_state=random_state)\n",
    "encoder = OneHotEncoder(sparse_output=False)\n",
    "y_trainclssfr= encoder.fit_transform(y_trainclssfr.reshape(-1,1))\n",
    "y_testclssfr= encoder.fit_transform(y_testclssfr.reshape(-1,1))\n",
    "# Au CCaF Pb Sn SnAl"
   ]
  },
  {
   "cell_type": "markdown",
   "metadata": {},
   "source": [
    "#### Model training #1"
   ]
  },
  {
   "cell_type": "code",
   "execution_count": 222,
   "metadata": {},
   "outputs": [
    {
     "name": "stdout",
     "output_type": "stream",
     "text": [
      "16/16 [==============================] - 0s 2ms/step\n"
     ]
    }
   ],
   "source": [
    "callback = keras.callbacks.EarlyStopping(monitor='loss', patience=10)\n",
    "input_layer = keras.Input(shape=(2800,), name=\"input_layer\")\n",
    "dense_1 = keras.layers.Dense(80, activation = 'relu', name = 'hidden_1')(input_layer)\n",
    "dense_2 = keras.layers.Dense(40, activation = 'relu', name = 'hidden_2')(dense_1)\n",
    "dense_3 = keras.layers.Dense(20, activation = 'relu', name = 'hidden_3')(dense_2)\n",
    "dense_4 = keras.layers.Dense(5, activation = 'relu', name = 'hidden_4')(dense_3)\n",
    "regression_output = keras.layers.Dense(2, activation = 'linear', name = 'regression_output')(dense_4)\n",
    "classification_output = keras.layers.Dense(5, activation = 'softmax', name = 'classification_output')(dense_4)\n",
    "model1 = keras.Model(inputs=input_layer,outputs=[regression_output, classification_output])\n",
    "    \n",
    "\n",
    "model1.compile(\n",
    "    loss=['mse','categorical_crossentropy'], optimizer='adam', metrics=['mae']\n",
    ")\n",
    "\n",
    "keras.utils.plot_model(model1, to_file='test_keras_plot_model.png', show_shapes=True, show_layer_activations=True)\n",
    "IPython.display.Image('test_keras_plot_model.png')\n",
    "\n",
    "epochs = 100\n",
    "batch_size = 64\n",
    "#model.summary()\n",
    "history = model1.fit(X_train,\n",
    "        {\"regression_output\": y_train, \"classification_output\": y_trainclssfr},\n",
    "        epochs=epochs,\n",
    "        batch_size=batch_size,\n",
    "        callbacks=[callback],\n",
    "        verbose=1)\n",
    "\n",
    "predictions11,predictions21=model1.predict(X_test)\n",
    "temp_part1, temp_thick11, temp_thick21 = [], [], []\n",
    "\n",
    "\n",
    "for i in range(len(predictions11)):\n",
    "    if predictions11[i][1]<0:\n",
    "        predictions11[i][1] = 0\n",
    "    temp_thick11.append(abs((predictions11[i][0] - y_test[i][0])*(100/y_test[i][0])))\n",
    "    if y_test[i][1]==0:\n",
    "        temp_thick21.append(0)\n",
    "    else:\n",
    "        temp_thick21.append(abs((predictions11[i][1] - y_test[i][1])*(100/y_test[i][1])))\n",
    "    if (np.argmax(predictions21[i]) - np.argmax(y_testclssfr[i]))==0:\n",
    "        temp_part1.append(True)\n",
    "    else:\n",
    "        temp_part1.append(False)"
   ]
  },
  {
   "cell_type": "code",
   "execution_count": 223,
   "metadata": {},
   "outputs": [
    {
     "name": "stdout",
     "output_type": "stream",
     "text": [
      "16/16 [==============================] - 0s 2ms/step\n"
     ]
    }
   ],
   "source": [
    "callback = keras.callbacks.EarlyStopping(monitor='loss', patience=10)\n",
    "input_layer = keras.Input(shape=(2800,), name=\"input_layer\")\n",
    "dense_1 = keras.layers.Dense(80, activation = 'relu', name = 'hidden_1')(input_layer)\n",
    "dense_2 = keras.layers.Dense(40, activation = 'relu', name = 'hidden_2')(dense_1)\n",
    "regression_output = keras.layers.Dense(2, activation = 'linear', name = 'regression_output')(dense_2)\n",
    "classification_output = keras.layers.Dense(5, activation = 'softmax', name = 'classification_output')(dense_2)\n",
    "model2 = keras.Model(inputs=input_layer,outputs=[regression_output, classification_output])\n",
    "    \n",
    "\n",
    "model2.compile(\n",
    "    loss=['mse','categorical_crossentropy'], optimizer='adam', metrics=['mae']\n",
    ")\n",
    "\n",
    "# keras.utils.plot_model(model, to_file='test_keras_plot_model.png', show_shapes=True, show_layer_activations=True)\n",
    "# IPython.display.Image('test_keras_plot_model.png')\n",
    "\n",
    "epochs = 100\n",
    "batch_size = 64\n",
    "#model.summary()\n",
    "history1 = model2.fit(X_train,\n",
    "        {\"regression_output\": y_train, \"classification_output\": y_trainclssfr},\n",
    "        epochs=epochs,\n",
    "        batch_size=batch_size,\n",
    "        callbacks=[callback],\n",
    "        verbose=1)\n",
    "\n",
    "predictions12,predictions22=model2.predict(X_test)\n",
    "temp_part2, temp_thick12, temp_thick22 = [], [], []\n",
    "\n",
    "\n",
    "for i in range(len(predictions12)):\n",
    "    if predictions12[i][1]<0:\n",
    "        predictions12[i][1] = 0\n",
    "    temp_thick12.append(abs((predictions12[i][0] - y_test[i][0])*(100/y_test[i][0])))\n",
    "    if y_test[i][1]==0:\n",
    "        temp_thick22.append(0)\n",
    "    else:\n",
    "        temp_thick22.append(abs((predictions12[i][1] - y_test[i][1])*(100/y_test[i][1])))\n",
    "    if (np.argmax(predictions22[i]) - np.argmax(y_testclssfr[i]))==0:\n",
    "        temp_part2.append(True)\n",
    "    else:\n",
    "        temp_part2.append(False)"
   ]
  },
  {
   "cell_type": "code",
   "execution_count": 224,
   "metadata": {},
   "outputs": [
    {
     "name": "stdout",
     "output_type": "stream",
     "text": [
      "16/16 [==============================] - 0s 2ms/step\n"
     ]
    }
   ],
   "source": [
    "callback = keras.callbacks.EarlyStopping(monitor='loss', patience=10)\n",
    "input_layer = keras.Input(shape=(2800,), name=\"input_layer\")\n",
    "dense_1 = keras.layers.Dense(80, activation = 'relu', name = 'hidden_1')(input_layer)\n",
    "dense_2 = keras.layers.Dense(40, activation = 'relu', name = 'hidden_2')(dense_1)\n",
    "dense_3 = keras.layers.Dense(20, activation = 'relu', name = 'hidden_3')(dense_2)\n",
    "regression_output = keras.layers.Dense(2, activation = 'linear', name = 'regression_output')(dense_3)\n",
    "classification_output = keras.layers.Dense(5, activation = 'softmax', name = 'classification_output')(dense_3)\n",
    "model3 = keras.Model(inputs=input_layer,outputs=[regression_output, classification_output])\n",
    "    \n",
    "\n",
    "model3.compile(\n",
    "    loss=['mse','categorical_crossentropy'], optimizer='adam', metrics=['mae']\n",
    ")\n",
    "\n",
    "keras.utils.plot_model(model3, to_file='test_keras_plot_model.png', show_shapes=True, show_layer_activations=True)\n",
    "IPython.display.Image('test_keras_plot_model.png')\n",
    "\n",
    "epochs = 100\n",
    "batch_size = 64\n",
    "#model.summary()\n",
    "history2 = model3.fit(X_train,\n",
    "        {\"regression_output\": y_train, \"classification_output\": y_trainclssfr},\n",
    "        epochs=epochs,\n",
    "        batch_size=batch_size,\n",
    "        callbacks=[callback],\n",
    "        verbose=1)\n",
    "\n",
    "predictions13,predictions23=model3.predict(X_test)\n",
    "temp_part3, temp_thick13, temp_thick23 = [], [], []\n",
    "\n",
    "\n",
    "for i in range(len(predictions13)):\n",
    "    if predictions13[i][1]<0:\n",
    "        predictions13[i][1] = 0\n",
    "    temp_thick13.append(abs((predictions13[i][0] - y_test[i][0])*(100/y_test[i][0])))\n",
    "    if y_test[i][1]==0:\n",
    "        temp_thick23.append(0)\n",
    "    else:\n",
    "        temp_thick23.append(abs((predictions13[i][1] - y_test[i][1])*(100/y_test[i][1])))\n",
    "    if (np.argmax(predictions23[i]) - np.argmax(y_testclssfr[i]))==0:\n",
    "        temp_part3.append(True)\n",
    "    else:\n",
    "        temp_part3.append(False)"
   ]
  },
  {
   "cell_type": "code",
   "execution_count": 196,
   "metadata": {},
   "outputs": [
    {
     "data": {
      "image/png": "[encoded data removed]",
      "text/plain": [
       "<Figure size 640x480 with 1 Axes>"
      ]
     },
     "metadata": {},
     "output_type": "display_data"
    }
   ],
   "source": [
    "plt.plot(history.history['regression_output_mae'],color='blue')\n",
    "plt.plot(history1.history['regression_output_mae'],color='red')\n",
    "plt.plot(history2.history['regression_output_mae'],color='green')\n",
    "plt.yscale('log')\n",
    "plt.ylabel('Loss',fontsize=16)\n",
    "plt.xlabel('Epoch',fontsize=16)\n",
    "plt.legend(['80-40-20-5', '80-40','80-40-20'], loc='upper right')\n",
    "plt.show()"
   ]
  },
  {
   "cell_type": "code",
   "execution_count": 197,
   "metadata": {},
   "outputs": [
    {
     "data": {
      "image/png": "[encoded data removed]",
      "text/plain": [
       "<Figure size 640x480 with 1 Axes>"
      ]
     },
     "metadata": {},
     "output_type": "display_data"
    }
   ],
   "source": [
    "plt.plot(history.history['classification_output_loss'],color='blue')\n",
    "plt.plot(history1.history['classification_output_loss'],color='red')\n",
    "plt.plot(history2.history['classification_output_loss'],color='green')\n",
    "plt.yscale('log')\n",
    "plt.ylabel('Loss',fontsize=16)\n",
    "plt.xlabel('Epoch',fontsize=16)\n",
    "plt.legend(['80-40-20-5', '80-40','80-40-20'], loc='upper right')\n",
    "plt.show()"
   ]
  },
  {
   "cell_type": "markdown",
   "metadata": {},
   "source": [
    "##### Graphs"
   ]
  },
  {
   "cell_type": "code",
   "execution_count": 199,
   "metadata": {},
   "outputs": [
    {
     "data": {
      "image/png": "[encoded data removed]",
      "text/plain": [
       "<Figure size 1400x600 with 2 Axes>"
      ]
     },
     "metadata": {},
     "output_type": "display_data"
    }
   ],
   "source": [
    "fig, axs = plt.subplots(1, 2, figsize=(14, 6))\n",
    "\n",
    "axs[0].hist(temp_thick11, bins=10, color='blue', alpha=0.4)\n",
    "axs[0].hist(temp_thick12, bins=21, color='red', alpha=0.4)\n",
    "axs[0].hist(temp_thick13, bins=20, color='green', alpha=0.4)\n",
    "axs[0].set_xlabel('Percentual deviation',fontsize=16)\n",
    "axs[0].set_ylabel('Number of Counts',fontsize=16)\n",
    "\n",
    "axs[0].legend(['80-40-20-5', '80-40','80-40-20'], loc='upper right')\n",
    "\n",
    "axs[1].hist(temp_thick21, bins=3, color='blue', alpha=0.4)\n",
    "axs[1].hist(temp_thick22, bins=25, color='red', alpha=0.4)\n",
    "axs[1].hist(temp_thick23, bins=4, color='green', alpha=0.4)\n",
    "axs[1].set_xlabel('Percentual deviation',fontsize=16)\n",
    "axs[1].set_ylabel('Number of Counts',fontsize=16)\n",
    "\n",
    "\n",
    "# Adjust layout to prevent overlapping titles and labels\n",
    "plt.tight_layout()\n",
    "plt.legend(['80-40-20-5', '80-40','80-40-20'], loc='upper right')\n",
    "# Show the plot\n",
    "plt.show()"
   ]
  },
  {
   "cell_type": "code",
   "execution_count": 228,
   "metadata": {},
   "outputs": [
    {
     "data": {
      "image/png": "[encoded data removed]",
      "text/plain": [
       "<Figure size 640x480 with 1 Axes>"
      ]
     },
     "metadata": {},
     "output_type": "display_data"
    }
   ],
   "source": [
    "true_count=temp_part1.count(True)\n",
    "false_count=temp_part1.count(False)\n",
    "\n",
    "labels=['Correct','Wrong']\n",
    "counts=[true_count, false_count]\n",
    "\n",
    "plt.bar(labels,counts,width=0.50,color='blue',alpha=1)\n",
    "for i, count in enumerate(counts):\n",
    "    plt.text(i, count + 0.1, str(count), ha='center', va='bottom')\n",
    "\n",
    "true_count=temp_part2.count(True)\n",
    "false_count=temp_part2.count(False)\n",
    "\n",
    "labels=['Correct ','Wrong ']\n",
    "counts=[true_count, false_count]\n",
    "\n",
    "for i, count in enumerate(counts):\n",
    "    plt.text(i+2, count + 0.1, str(count), ha='center', va='bottom')\n",
    "plt.bar(labels,counts,width=0.50,color='red',alpha=1)\n",
    "\n",
    "\n",
    "true_count=temp_part3.count(True)\n",
    "false_count=temp_part3.count(False)\n",
    "\n",
    "labels=['Correct  ','Wrong  ']\n",
    "counts=[true_count, false_count]\n",
    "\n",
    "plt.bar(labels,counts,width=0.50,color='green',alpha=1)\n",
    "for i, count in enumerate(counts):\n",
    "    plt.text(i+4, count + 0.1, str(count), ha='center', va='bottom')\n",
    "\n",
    "\n",
    "plt.ylabel('Number of Counts',fontsize=16)\n",
    "plt.legend(['80-40-20-5', '80-40','80-40-20'], loc='upper right')\n",
    "plt.show()"
   ]
  },
  {
   "cell_type": "markdown",
   "metadata": {},
   "source": [
    "##### Predictions vs Real values"
   ]
  },
  {
   "cell_type": "code",
   "execution_count": null,
   "metadata": {},
   "outputs": [],
   "source": [
    "for i in range(len(predictions1)):\n",
    "\n",
    "    print('Target '+str(i+1)+' :')\n",
    "    print('Thickness (Layer 1): ')\n",
    "    print('P: ' + str(predictions1[i][0]) + '.\\nR: ' + str(y_test[i][0]))\n",
    "    print('Thickness (Layer 2): ')\n",
    "    print('P: ' + str(predictions1[i][1]) + '.\\nR: ' + str(y_test[i][1]))\n",
    "    print('Target: ')\n",
    "    print('P: ' + str(np.argmax(predictions2[i])) + '.\\nR: ' + str(np.argmax(y_testclssfr[i])))\n",
    "    print()\n",
    "    print()"
   ]
  },
  {
   "cell_type": "markdown",
   "metadata": {},
   "source": [
    "#### Experimental test"
   ]
  },
  {
   "cell_type": "code",
   "execution_count": 205,
   "metadata": {},
   "outputs": [
    {
     "name": "stdout",
     "output_type": "stream",
     "text": [
      "1/1 [==============================] - 0s 29ms/step\n",
      "1/1 [==============================] - 0s 28ms/step\n",
      "1/1 [==============================] - 0s 25ms/step\n"
     ]
    }
   ],
   "source": [
    "test_Y_clssfr= encoder.fit_transform(test_Y_clssfr.reshape(-1,1))\n",
    "\n",
    "predictions1,predictions2=model1.predict(test_x)\n",
    "temp_part1, temp_thick11, temp_thick21 = [], [], []\n",
    "\n",
    "for i in range(len(predictions1)):\n",
    "    if predictions1[i][1]<0:\n",
    "        predictions1[i][1] = 0\n",
    "    temp_thick11.append(abs((predictions1[i][0] - test_Y_rgrss[i][0])*(100/test_Y_rgrss[i][0])))\n",
    "    if test_Y_rgrss[i][1]==0:\n",
    "        temp_thick21.append(0)\n",
    "    else:\n",
    "        temp_thick21.append(abs((predictions1[i][1] - test_Y_rgrss[i][1])*(100/test_Y_rgrss[i][1])))\n",
    "    if (np.argmax(predictions2[i]) - np.argmax(test_Y_clssfr[i]))==0:\n",
    "        temp_part1.append(True)\n",
    "    else:\n",
    "        temp_part1.append(False)\n",
    "\n",
    "        test_Y_clssfr= encoder.fit_transform(test_Y_clssfr.reshape(-1,1))\n",
    "\n",
    "predictions1,predictions2=model2.predict(test_x)\n",
    "temp_part2, temp_thick12, temp_thick22 = [], [], []\n",
    "\n",
    "for i in range(len(predictions1)):\n",
    "    if predictions1[i][1]<0:\n",
    "        predictions1[i][1] = 0\n",
    "    temp_thick12.append(abs((predictions1[i][0] - test_Y_rgrss[i][0])*(100/test_Y_rgrss[i][0])))\n",
    "    if test_Y_rgrss[i][1]==0:\n",
    "        temp_thick22.append(0)\n",
    "    else:\n",
    "        temp_thick22.append(abs((predictions1[i][1] - test_Y_rgrss[i][1])*(100/test_Y_rgrss[i][1])))\n",
    "    if (np.argmax(predictions2[i]) - np.argmax(test_Y_clssfr[i]))==0:\n",
    "        temp_part2.append(True)\n",
    "    else:\n",
    "        temp_part2.append(False)\n",
    "\n",
    "predictions1,predictions2=model3.predict(test_x)\n",
    "temp_part3, temp_thick13, temp_thick23 = [], [], []\n",
    "\n",
    "for i in range(len(predictions1)):\n",
    "    if predictions1[i][1]<0:\n",
    "        predictions1[i][1] = 0\n",
    "    temp_thick13.append(abs((predictions1[i][0] - test_Y_rgrss[i][0])*(100/test_Y_rgrss[i][0])))\n",
    "    if test_Y_rgrss[i][1]==0:\n",
    "        temp_thick23.append(0)\n",
    "    else:\n",
    "        temp_thick23.append(abs((predictions1[i][1] - test_Y_rgrss[i][1])*(100/test_Y_rgrss[i][1])))\n",
    "    if (np.argmax(predictions2[i]) - np.argmax(test_Y_clssfr[i]))==0:\n",
    "        temp_part3.append(True)\n",
    "    else:\n",
    "        temp_part3.append(False)"
   ]
  },
  {
   "cell_type": "code",
   "execution_count": 216,
   "metadata": {},
   "outputs": [
    {
     "data": {
      "image/png": "[encoded data removed]",
      "text/plain": [
       "<Figure size 640x480 with 1 Axes>"
      ]
     },
     "metadata": {},
     "output_type": "display_data"
    }
   ],
   "source": [
    "plt.hist(temp_thick11*2, bins=5, color='blue', alpha=0.5)\n",
    "plt.hist(temp_thick12*4, bins=5, color='red', alpha=0.7)\n",
    "plt.hist(temp_thick13, bins=5, color='green', alpha=0.5)\n",
    "plt.xlabel('Percentual deviation',fontsize=16)\n",
    "plt.ylabel('Number of Counts',fontsize=16)\n",
    "\n",
    "# Adjust layout to prevent overlapping titles and labels\n",
    "plt.tight_layout()\n",
    "\n",
    "# Show the plot\n",
    "plt.show()"
   ]
  },
  {
   "cell_type": "code",
   "execution_count": 220,
   "metadata": {},
   "outputs": [
    {
     "data": {
      "text/plain": [
       "Text(0, 0.5, 'Number of Counts')"
      ]
     },
     "execution_count": 220,
     "metadata": {},
     "output_type": "execute_result"
    },
    {
     "data": {
      "image/png": "[encoded data removed]",
      "text/plain": [
       "<Figure size 1400x600 with 3 Axes>"
      ]
     },
     "metadata": {},
     "output_type": "display_data"
    }
   ],
   "source": [
    "fig, axs = plt.subplots(1, 3, figsize=(14, 6))\n",
    "\n",
    "true_count=temp_part1.count(True)\n",
    "false_count=temp_part1.count(False)\n",
    "\n",
    "labels=['Correct','Wrong']\n",
    "counts=[true_count, false_count]\n",
    "\n",
    "axs[0].bar(labels,counts,width=0.35,color='blue',alpha=1)\n",
    "axs[0].set_ylabel('Number of Counts',fontsize=16)\n",
    "\n",
    "true_count=temp_part2.count(True)\n",
    "false_count=temp_part2.count(False)\n",
    "\n",
    "labels=['Correct','Wrong']\n",
    "counts=[true_count, false_count]\n",
    "\n",
    "axs[1].bar(labels,counts,width=0.35,color='red',alpha=1)\n",
    "axs[1].set_ylabel('Number of Counts',fontsize=16)\n",
    "true_count=temp_part3.count(True)\n",
    "false_count=temp_part3.count(False)\n",
    "\n",
    "labels=['Correct','Wrong']\n",
    "counts=[true_count, false_count]\n",
    "\n",
    "axs[2].bar(labels,counts,width=0.35,color='green',alpha=1)\n",
    "\n",
    "plt.ylabel('Number of Counts',fontsize=16)\n",
    "\n",
    "# for i, count in enumerate(counts):\n",
    "#     plt.text(i, count + 0.1, str(count), ha='center', va='bottom')"
   ]
  },
  {
   "cell_type": "code",
   "execution_count": null,
   "metadata": {},
   "outputs": [],
   "source": [
    "for i in range(len(predictions1)):\n",
    "\n",
    "    print('Target '+str(i+1)+' :')\n",
    "    print('Thickness (Layer 1): ')\n",
    "    print('P: ' + str(predictions1[i][0]) + '.\\nR: ' + str(test_Y_rgrss[i][0]))\n",
    "    print('Thickness (Layer 2): ')\n",
    "    print('P: ' + str(predictions1[i][1]) + '.\\nR: ' + str(test_Y_rgrss[i][1]))\n",
    "    print('Target: ')\n",
    "    print('P: ' + str(np.argmax(predictions2[i])) + '.\\nR: ' + str(np.argmax(test_Y_clssfr[i])))\n",
    "    print()\n",
    "    print()"
   ]
  }
 ],
 "metadata": {
  "kernelspec": {
   "display_name": "Python 3",
   "language": "python",
   "name": "python3"
  },
  "language_info": {
   "codemirror_mode": {
    "name": "ipython",
    "version": 3
   },
   "file_extension": ".py",
   "mimetype": "text/x-python",
   "name": "python",
   "nbconvert_exporter": "python",
   "pygments_lexer": "ipython3",
   "version": "3.11.5"
  },
  "orig_nbformat": 4
 },
 "nbformat": 4,
 "nbformat_minor": 2
}
