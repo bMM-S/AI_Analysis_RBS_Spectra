{
 "cells": [
  {
   "cell_type": "code",
   "execution_count": 2,
   "metadata": {},
   "outputs": [],
   "source": [
    "import win32com.client\n",
    "import pythoncom\n",
    "import numpy as np"
   ]
  },
  {
   "cell_type": "markdown",
   "metadata": {},
   "source": [
    "**Simrna initialization**"
   ]
  },
  {
   "cell_type": "code",
   "execution_count": 3,
   "metadata": {},
   "outputs": [
    {
     "name": "stdout",
     "output_type": "stream",
     "text": [
      "Simrna version: 7.03\n"
     ]
    }
   ],
   "source": [
    "application = win32com.client.Dispatch('Simnra.App')\n",
    "application.Show()\n",
    "\n",
    "print('Simrna version: '+application.Version)"
   ]
  },
  {
   "cell_type": "markdown",
   "metadata": {},
   "source": [
    "**Bring to rear**"
   ]
  },
  {
   "cell_type": "code",
   "execution_count": 6,
   "metadata": {},
   "outputs": [],
   "source": [
    "application.BringToRear()\n",
    "application.BringToRear()\n",
    "application.BringToRear()\n",
    "application.BringToRear()\n",
    "application.BringToRear()"
   ]
  },
  {
   "cell_type": "markdown",
   "metadata": {},
   "source": [
    "**Bring to the front**"
   ]
  },
  {
   "cell_type": "code",
   "execution_count": 7,
   "metadata": {},
   "outputs": [],
   "source": [
    "application.BringToFront()\n",
    "application.BringToFront()\n",
    "application.BringToFront()\n",
    "application.BringToFront()\n",
    "application.BringToFront()"
   ]
  },
  {
   "cell_type": "markdown",
   "metadata": {},
   "source": [
    "**Setup settings**"
   ]
  },
  {
   "cell_type": "code",
   "execution_count": 4,
   "metadata": {},
   "outputs": [
    {
     "name": "stdout",
     "output_type": "stream",
     "text": [
      "0.9953012781278064 1620.237998370303 155.8508016005592\n"
     ]
    }
   ],
   "source": [
    "setup = win32com.client.Dispatch('Simnra.Setup')\n",
    "setup.Alpha = np.random.uniform(0,5) #incident angle\n",
    "setup.Energy = np.random.uniform(1400,2000) #beam energy\n",
    "setup.Theta = np.random.uniform(135,165) #exit angle\n",
    "print(setup.Alpha,setup.Energy,setup.Theta)"
   ]
  },
  {
   "cell_type": "markdown",
   "metadata": {},
   "source": [
    "**Target settings**\n"
   ]
  },
  {
   "cell_type": "code",
   "execution_count": 5,
   "metadata": {},
   "outputs": [
    {
     "name": "stdout",
     "output_type": "stream",
     "text": [
      "Numero de layers: 1\n",
      "Numero de elementos: 1\n",
      "Elementos: XX\n",
      "0.0\n"
     ]
    }
   ],
   "source": [
    "target = win32com.client.Dispatch('Simnra.Target')\n",
    "listofelements= [\"Ge\",\"Si\",\"Au\"] #to be completed\n",
    "element = np.random.choice(listofelements)\n",
    "#thick = np.random.uniform(100,500)\n",
    "\n",
    "#the target has one layer per default\n",
    "print('Numero de layers: '+ str(target.NumberOfLayers))\n",
    "\n",
    "target.AddElement(1)\n",
    "print('Numero de elementos: '+ str(target.TotalNumberOfElements))\n",
    "\n",
    "target.ElementName(1,1)\n",
    "print('Elementos: '+str(target.ElementName(1,1)))\n",
    "#target.ElementConcentration(1,1) = 1.\n",
    "#target.LayerThickness(1) = 20\n",
    "print(target.LayerThickness(1))"
   ]
  },
  {
   "cell_type": "code",
   "execution_count": 9,
   "metadata": {},
   "outputs": [
    {
     "name": "stdout",
     "output_type": "stream",
     "text": [
      "Simulated\n",
      "True\n"
     ]
    },
    {
     "data": {
      "text/plain": [
       "<bound method DataArray of <COMObject Simnra.Spectrum>>"
      ]
     },
     "execution_count": 9,
     "metadata": {},
     "output_type": "execute_result"
    }
   ],
   "source": [
    "spectrum = win32com.client.Dispatch('Simnra.Spectrum')\n",
    "crosssec = win32com.client.Dispatch('Simnra.CrossSec')\n",
    "spectrum.Title(2)\n",
    "print(spectrum.Title(2))\n",
    "application.CalculateSpectrum()\n",
    "print(application.CalculateSpectrum())\n",
    "crosssec.SelectRutherfordAll\n",
    "spectrum.DataArray"
   ]
  },
  {
   "cell_type": "code",
   "execution_count": 7,
   "metadata": {},
   "outputs": [
    {
     "data": {
      "text/plain": [
       "<bound method SelectRutherfordAll of <COMObject Simnra.CrossSec>>"
      ]
     },
     "execution_count": 7,
     "metadata": {},
     "output_type": "execute_result"
    }
   ],
   "source": [
    "crosssec.SelectRutherfordAll"
   ]
  }
 ],
 "metadata": {
  "kernelspec": {
   "display_name": "Python 3",
   "language": "python",
   "name": "python3"
  },
  "language_info": {
   "codemirror_mode": {
    "name": "ipython",
    "version": 3
   },
   "file_extension": ".py",
   "mimetype": "text/x-python",
   "name": "python",
   "nbconvert_exporter": "python",
   "pygments_lexer": "ipython3",
   "version": "3.9.13"
  },
  "orig_nbformat": 4
 },
 "nbformat": 4,
 "nbformat_minor": 2
}
