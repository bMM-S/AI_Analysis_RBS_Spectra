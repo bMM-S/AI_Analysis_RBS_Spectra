{
 "cells": [
  {
   "cell_type": "code",
   "execution_count": 1,
   "metadata": {},
   "outputs": [
    {
     "name": "stdout",
     "output_type": "stream",
     "text": [
      "Concatenated data from RBS1run15.dat saved to c:\\Users\\be_so\\Desktop\\Lip\\git\\rbs\\RBS_Runs\\2022_23Nov_Pb\\1122\\protoes\\RBS1run15_concatenated.dat\n",
      "Concatenated data from RBS1run16.dat saved to c:\\Users\\be_so\\Desktop\\Lip\\git\\rbs\\RBS_Runs\\2022_23Nov_Pb\\1122\\protoes\\RBS1run16_concatenated.dat\n",
      "Concatenated data from RBS1run17.dat saved to c:\\Users\\be_so\\Desktop\\Lip\\git\\rbs\\RBS_Runs\\2022_23Nov_Pb\\1122\\protoes\\RBS1run17_concatenated.dat\n",
      "Concatenated data from RBS1run18.dat saved to c:\\Users\\be_so\\Desktop\\Lip\\git\\rbs\\RBS_Runs\\2022_23Nov_Pb\\1122\\protoes\\RBS1run18_concatenated.dat\n",
      "Concatenated data from RBS1run19.dat saved to c:\\Users\\be_so\\Desktop\\Lip\\git\\rbs\\RBS_Runs\\2022_23Nov_Pb\\1122\\protoes\\RBS1run19_concatenated.dat\n",
      "Concatenated data from RBS1run20.dat saved to c:\\Users\\be_so\\Desktop\\Lip\\git\\rbs\\RBS_Runs\\2022_23Nov_Pb\\1122\\protoes\\RBS1run20_concatenated.dat\n",
      "Concatenated data from RBS1run21.dat saved to c:\\Users\\be_so\\Desktop\\Lip\\git\\rbs\\RBS_Runs\\2022_23Nov_Pb\\1122\\protoes\\RBS1run21_concatenated.dat\n",
      "Concatenated data from RBS1run22.dat saved to c:\\Users\\be_so\\Desktop\\Lip\\git\\rbs\\RBS_Runs\\2022_23Nov_Pb\\1122\\protoes\\RBS1run22_concatenated.dat\n",
      "Concatenated data from RBS1run23.dat saved to c:\\Users\\be_so\\Desktop\\Lip\\git\\rbs\\RBS_Runs\\2022_23Nov_Pb\\1122\\protoes\\RBS1run23_concatenated.dat\n",
      "Concatenated data from RBS1run24.dat saved to c:\\Users\\be_so\\Desktop\\Lip\\git\\rbs\\RBS_Runs\\2022_23Nov_Pb\\1122\\protoes\\RBS1run24_concatenated.dat\n",
      "Concatenated data from RBS1run25.dat saved to c:\\Users\\be_so\\Desktop\\Lip\\git\\rbs\\RBS_Runs\\2022_23Nov_Pb\\1122\\protoes\\RBS1run25_concatenated.dat\n",
      "Concatenated data from RBS1run26.dat saved to c:\\Users\\be_so\\Desktop\\Lip\\git\\rbs\\RBS_Runs\\2022_23Nov_Pb\\1122\\protoes\\RBS1run26_concatenated.dat\n",
      "Concatenated data from RBS1run27.dat saved to c:\\Users\\be_so\\Desktop\\Lip\\git\\rbs\\RBS_Runs\\2022_23Nov_Pb\\1122\\protoes\\RBS1run27_concatenated.dat\n",
      "Concatenated data from RBS1run28.dat saved to c:\\Users\\be_so\\Desktop\\Lip\\git\\rbs\\RBS_Runs\\2022_23Nov_Pb\\1122\\protoes\\RBS1run28_concatenated.dat\n"
     ]
    }
   ],
   "source": [
    "import os\n",
    "import re\n",
    "\n",
    "# Get the current working directory\n",
    "current_directory = os.getcwd()\n",
    "\n",
    "# List all files in the current directory that match the pattern \"RBS1runXX\"\n",
    "file_list = [filename for filename in os.listdir(current_directory) if filename.startswith(\"RBS1run\")]\n",
    "\n",
    "# Iterate through each file, remove the last 6 lines, concatenate its lines with spaces between elements, \n",
    "# ensure values are spaced evenly with one space, and save the result to a new file\n",
    "for filename in file_list:\n",
    "    file_path = os.path.join(current_directory, filename)\n",
    "    \n",
    "    # Read all lines from the file\n",
    "    with open(file_path, 'r') as file:\n",
    "        lines = file.readlines()\n",
    "    \n",
    "    # Remove the last 6 lines\n",
    "    cleaned_lines = lines[:-5]\n",
    "    \n",
    "    # Join the cleaned lines with spaces between elements\n",
    "    concatenated_data = ' '.join(line.strip() for line in cleaned_lines)\n",
    "    \n",
    "    # Ensure values are spaced evenly with one space\n",
    "    concatenated_data = re.sub(r'\\s+', ' ', concatenated_data)\n",
    "    \n",
    "    # Create a new file with \"_concatenated\" added to the original filename and overwrite if it exists\n",
    "    output_file_path = os.path.splitext(file_path)[0] + '_concatenated.dat'\n",
    "    with open(output_file_path, 'w') as output_file:\n",
    "        output_file.write(concatenated_data)\n",
    "\n",
    "    print(f\"Concatenated data from {filename} saved to {output_file_path}\")"
   ]
  }
 ],
 "metadata": {
  "kernelspec": {
   "display_name": "Python 3",
   "language": "python",
   "name": "python3"
  },
  "language_info": {
   "codemirror_mode": {
    "name": "ipython",
    "version": 3
   },
   "file_extension": ".py",
   "mimetype": "text/x-python",
   "name": "python",
   "nbconvert_exporter": "python",
   "pygments_lexer": "ipython3",
   "version": "3.9.13"
  },
  "orig_nbformat": 4
 },
 "nbformat": 4,
 "nbformat_minor": 2
}
