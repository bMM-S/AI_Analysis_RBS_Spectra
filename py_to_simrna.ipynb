{
 "cells": [
  {
   "attachments": {},
   "cell_type": "markdown",
   "metadata": {},
   "source": [
    "# Imports"
   ]
  },
  {
   "cell_type": "code",
   "execution_count": 181,
   "metadata": {},
   "outputs": [],
   "source": [
    "import win32com.client\n",
    "import pythoncom\n",
    "import numpy as np\n",
    "import time"
   ]
  },
  {
   "attachments": {},
   "cell_type": "markdown",
   "metadata": {},
   "source": [
    "# OLE Python-Simrna"
   ]
  },
  {
   "attachments": {},
   "cell_type": "markdown",
   "metadata": {},
   "source": [
    "## Simnra.App"
   ]
  },
  {
   "attachments": {},
   "cell_type": "markdown",
   "metadata": {},
   "source": [
    "### App initialization"
   ]
  },
  {
   "cell_type": "code",
   "execution_count": 320,
   "metadata": {},
   "outputs": [],
   "source": [
    "application = win32com.client.Dispatch('Simnra.App')\n",
    "application.Reset()\n",
    "application.Show()"
   ]
  },
  {
   "cell_type": "code",
   "execution_count": 83,
   "metadata": {},
   "outputs": [
    {
     "name": "stdout",
     "output_type": "stream",
     "text": [
      "Simrna version: 7.03\n"
     ]
    }
   ],
   "source": [
    "print('Simrna version: '+application.Version)"
   ]
  },
  {
   "attachments": {},
   "cell_type": "markdown",
   "metadata": {},
   "source": [
    "## Simnra.Setup"
   ]
  },
  {
   "attachments": {},
   "cell_type": "markdown",
   "metadata": {},
   "source": [
    "### Setup initialization"
   ]
  },
  {
   "cell_type": "code",
   "execution_count": 321,
   "metadata": {},
   "outputs": [],
   "source": [
    "setup = win32com.client.Dispatch('Simnra.Setup')"
   ]
  },
  {
   "attachments": {},
   "cell_type": "markdown",
   "metadata": {},
   "source": [
    "### Setup settings"
   ]
  },
  {
   "cell_type": "code",
   "execution_count": 322,
   "metadata": {},
   "outputs": [],
   "source": [
    "setup.Alpha = np.random.uniform(0,5) #incident angle\n",
    "time.sleep(0.5)\n",
    "setup.Energy = np.random.uniform(1400,2000) #beam energy\n",
    "time.sleep(0.5)\n",
    "setup.Theta = np.random.uniform(135,165) #exit angle"
   ]
  },
  {
   "cell_type": "code",
   "execution_count": 323,
   "metadata": {},
   "outputs": [
    {
     "name": "stdout",
     "output_type": "stream",
     "text": [
      "Incident angle α (deg): 0.2396149704659939\n",
      "Energy (keV): 1774.541408141805\n",
      "Scattering angle θ (deg): 163.8068508721605\n"
     ]
    }
   ],
   "source": [
    "print('Incident angle \\u03B1 (deg): '+str(setup.Alpha))\n",
    "print('Energy (keV): '+str(setup.Energy))\n",
    "print('Scattering angle \\u03B8 (deg): '+str(setup.Theta))"
   ]
  },
  {
   "attachments": {},
   "cell_type": "markdown",
   "metadata": {},
   "source": [
    "## Simnra.Target"
   ]
  },
  {
   "attachments": {},
   "cell_type": "markdown",
   "metadata": {},
   "source": [
    "### Target initialization\n"
   ]
  },
  {
   "cell_type": "code",
   "execution_count": 324,
   "metadata": {},
   "outputs": [],
   "source": [
    "target = win32com.client.Dispatch('Simnra.Target')"
   ]
  },
  {
   "attachments": {},
   "cell_type": "markdown",
   "metadata": {},
   "source": [
    "### Target settings"
   ]
  },
  {
   "cell_type": "code",
   "execution_count": 325,
   "metadata": {},
   "outputs": [
    {
     "name": "stdout",
     "output_type": "stream",
     "text": [
      "Element: Ge\n",
      "Thickness: 408.8821330667022\n"
     ]
    }
   ],
   "source": [
    "listofelements= [\"Ge\",\"Si\",\"Au\"] #to be completed\n",
    "element = np.random.choice(listofelements)\n",
    "thick = np.random.uniform(100,500)\n",
    "print('Element: ' +str(element))\n",
    "print('Thickness: '+str(thick))"
   ]
  },
  {
   "cell_type": "code",
   "execution_count": 326,
   "metadata": {},
   "outputs": [],
   "source": [
    "#the target has one layer per default\n",
    "target.SetLayerThickness(1,thick) #set layer thickness\n",
    "time.sleep(0.5)\n",
    "target.AddElement(1) #add element (element has to be defined)\n",
    "time.sleep(0.5)\n",
    "target.SetElementName(1,1,element) #set element name\n",
    "time.sleep(0.5)\n",
    "target.SetElementConcentration(1,1,1) #set element concentration"
   ]
  },
  {
   "cell_type": "code",
   "execution_count": 327,
   "metadata": {},
   "outputs": [
    {
     "name": "stdout",
     "output_type": "stream",
     "text": [
      "Number of layers: 1\n",
      "Number of elements: 1\n",
      "Elements present: ['Ge']\n",
      "Concentration of elements: [('Ge', 1.0)]\n",
      "Target thickness: 408.882\n"
     ]
    }
   ],
   "source": [
    "print('Number of layers: '+ str(target.NumberOfLayers))\n",
    "print('Number of elements: '+ str(target.TotalNumberOfElements))\n",
    "print('Elements present: '+str([target.ElementName(1,i+1) for i in range(target.TotalNumberOfElements)]))\n",
    "print('Concentration of elements: '+str([(target.ElementName(1,i+1),target.GetElementConcentration(1,i+1)) for i in range(target.TotalNumberOfElements)]))\n",
    "print('Target thickness: '+str(target.Thickness))"
   ]
  },
  {
   "attachments": {},
   "cell_type": "markdown",
   "metadata": {},
   "source": [
    "### Target reset (if needed)"
   ]
  },
  {
   "cell_type": "code",
   "execution_count": 314,
   "metadata": {},
   "outputs": [
    {
     "data": {
      "text/plain": [
       "True"
      ]
     },
     "execution_count": 314,
     "metadata": {},
     "output_type": "execute_result"
    }
   ],
   "source": [
    "target.DeleteAllLayer()\n",
    "for i in range(target.TotalNumberOfElements):\n",
    "    target.DeleteElement(1,i)\n",
    "target.AddLayer()"
   ]
  },
  {
   "attachments": {},
   "cell_type": "markdown",
   "metadata": {},
   "source": [
    "## Simnra.Spectrum and Simnra.CrossSec"
   ]
  },
  {
   "attachments": {},
   "cell_type": "markdown",
   "metadata": {},
   "source": [
    "### Spectrum and Cross Section initialization"
   ]
  },
  {
   "cell_type": "code",
   "execution_count": 328,
   "metadata": {},
   "outputs": [],
   "source": [
    "spectrum = win32com.client.Dispatch('Simnra.Spectrum')\n",
    "crosssection = win32com.client.Dispatch('Simnra.CrossSec')"
   ]
  },
  {
   "attachments": {},
   "cell_type": "markdown",
   "metadata": {},
   "source": [
    "### Spectrum and Cross Section settings"
   ]
  },
  {
   "cell_type": "code",
   "execution_count": 329,
   "metadata": {},
   "outputs": [
    {
     "name": "stdout",
     "output_type": "stream",
     "text": [
      "CrossSection choosen: True\n",
      "0\n"
     ]
    }
   ],
   "source": [
    "crosssection.SelectRutherfordAll()\n",
    "print('CrossSection choosen: '+ str(crosssection.ReactionsChoosen))\n",
    "print(crosssection.Count)"
   ]
  },
  {
   "cell_type": "code",
   "execution_count": 330,
   "metadata": {},
   "outputs": [],
   "source": [
    "crosssection.SetEmin(1,0.001)\n",
    "crosssection.SetEMax(1,4999.999)"
   ]
  },
  {
   "attachments": {},
   "cell_type": "markdown",
   "metadata": {},
   "source": [
    "## Calculate Spectra"
   ]
  },
  {
   "cell_type": "code",
   "execution_count": 331,
   "metadata": {},
   "outputs": [
    {
     "data": {
      "text/plain": [
       "True"
      ]
     },
     "execution_count": 331,
     "metadata": {},
     "output_type": "execute_result"
    }
   ],
   "source": [
    "application.CalculateSpectrum()\n",
    "#spectrum.DataArray"
   ]
  }
 ],
 "metadata": {
  "kernelspec": {
   "display_name": "Python 3",
   "language": "python",
   "name": "python3"
  },
  "language_info": {
   "codemirror_mode": {
    "name": "ipython",
    "version": 3
   },
   "file_extension": ".py",
   "mimetype": "text/x-python",
   "name": "python",
   "nbconvert_exporter": "python",
   "pygments_lexer": "ipython3",
   "version": "3.9.7"
  },
  "orig_nbformat": 4
 },
 "nbformat": 4,
 "nbformat_minor": 2
}
